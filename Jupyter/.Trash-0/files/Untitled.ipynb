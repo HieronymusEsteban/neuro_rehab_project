{
 "cells": [
  {
   "cell_type": "code",
   "execution_count": 2,
   "id": "06e2f6d4-9227-49d4-b0e8-26bedfddf9cb",
   "metadata": {},
   "outputs": [],
   "source": [
    "import os"
   ]
  },
  {
   "cell_type": "code",
   "execution_count": 3,
   "id": "befdfcad-605f-44ee-82b6-1fd51df1233b",
   "metadata": {},
   "outputs": [
    {
     "data": {
      "text/plain": [
       "'/app'"
      ]
     },
     "execution_count": 3,
     "metadata": {},
     "output_type": "execute_result"
    }
   ],
   "source": [
    "os.getcwd()"
   ]
  },
  {
   "cell_type": "code",
   "execution_count": 5,
   "id": "88212347-7de4-4822-83ac-b03b034daf62",
   "metadata": {},
   "outputs": [
    {
     "data": {
      "text/plain": [
       "['.DS_Store',\n",
       " 'requirements.txt',\n",
       " 'Untitled.ipynb',\n",
       " 'Dockerfile',\n",
       " 'loading_mat_file.ipynb',\n",
       " '.ipynb_checkpoints',\n",
       " 'Data']"
      ]
     },
     "execution_count": 5,
     "metadata": {},
     "output_type": "execute_result"
    }
   ],
   "source": [
    "os.listdir()"
   ]
  },
  {
   "cell_type": "code",
   "execution_count": 6,
   "id": "ebd0f471-7fac-4fe3-9ecb-78502648a9ea",
   "metadata": {},
   "outputs": [],
   "source": [
    "os.mkdir('docs')\n",
    "os.mkdir('source')\n",
    "os.mkdir('tests')"
   ]
  },
  {
   "cell_type": "code",
   "execution_count": null,
   "id": "fcab6511-f434-47a2-8db2-0ee53ebd5bfd",
   "metadata": {},
   "outputs": [],
   "source": []
  }
 ],
 "metadata": {
  "kernelspec": {
   "display_name": "Python 3 (ipykernel)",
   "language": "python",
   "name": "python3"
  },
  "language_info": {
   "codemirror_mode": {
    "name": "ipython",
    "version": 3
   },
   "file_extension": ".py",
   "mimetype": "text/x-python",
   "name": "python",
   "nbconvert_exporter": "python",
   "pygments_lexer": "ipython3",
   "version": "3.12.3"
  }
 },
 "nbformat": 4,
 "nbformat_minor": 5
}
