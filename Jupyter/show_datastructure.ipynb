{
 "cells": [
  {
   "cell_type": "code",
   "execution_count": null,
   "id": "6c9524e9-a308-473e-9cc0-2e29d184df09",
   "metadata": {},
   "outputs": [],
   "source": [
    "import pandas as pd\n",
    "import numpy as np\n",
    "import scipy.io as sio\n",
    "import os\n",
    "import re\n",
    "import matplotlib.pyplot as plt\n",
    "import source.transform_data as trs\n",
    "from pathlib import Path"
   ]
  },
  {
   "cell_type": "code",
   "execution_count": null,
   "id": "6015ddbf-4c32-4741-92a0-12b1ee55b950",
   "metadata": {},
   "outputs": [],
   "source": [
    "path_to_data = Path('Data')"
   ]
  },
  {
   "cell_type": "markdown",
   "id": "cf4993be-63e1-4db8-9332-a4f10b54d70a",
   "metadata": {},
   "source": [
    "### Load data from csv-files:"
   ]
  },
  {
   "cell_type": "code",
   "execution_count": null,
   "id": "c925abf3-e17a-4824-ad8c-21e40340f6d2",
   "metadata": {},
   "outputs": [],
   "source": [
    "data_wide = pd.read_csv(path_to_data/'data_table_wide.csv', index_col=None)"
   ]
  },
  {
   "cell_type": "code",
   "execution_count": null,
   "id": "72211ecd-9640-491e-87d0-7b16cf393bfb",
   "metadata": {},
   "outputs": [],
   "source": [
    "data_long = pd.read_csv(path_to_data/'data_table_long.csv', index_col=None)"
   ]
  },
  {
   "cell_type": "code",
   "execution_count": null,
   "id": "7543dad9-7e49-4eba-827e-4ee389369e2c",
   "metadata": {},
   "outputs": [],
   "source": [
    "data_wide.head()"
   ]
  },
  {
   "cell_type": "code",
   "execution_count": null,
   "id": "cbafa946-df71-4267-9cb4-57c4a3825605",
   "metadata": {},
   "outputs": [],
   "source": []
  },
  {
   "cell_type": "code",
   "execution_count": null,
   "id": "cf789d28-ef9f-4390-b929-2c2dd1e6f345",
   "metadata": {},
   "outputs": [],
   "source": []
  },
  {
   "cell_type": "code",
   "execution_count": null,
   "id": "a305dce5-ef85-4780-803d-063926867eb5",
   "metadata": {},
   "outputs": [],
   "source": []
  },
  {
   "cell_type": "markdown",
   "id": "d1461886-a1f6-4c81-a8f8-9fe899c61497",
   "metadata": {},
   "source": [
    "## Load data from .mat files and save them in csv files"
   ]
  },
  {
   "cell_type": "markdown",
   "id": "cdf97600-6b35-43a2-9c65-8220b5baa1ba",
   "metadata": {},
   "source": [
    "### Get list of files to load: "
   ]
  },
  {
   "cell_type": "code",
   "execution_count": null,
   "id": "aff9674b-85f9-4795-b61a-b35f4d98e18d",
   "metadata": {},
   "outputs": [],
   "source": [
    "path_to_data = Path('Data')"
   ]
  },
  {
   "cell_type": "code",
   "execution_count": null,
   "id": "6f801077-182a-49c3-8f3a-c5625b805fe5",
   "metadata": {},
   "outputs": [],
   "source": [
    "path_to_data"
   ]
  },
  {
   "cell_type": "code",
   "execution_count": null,
   "id": "86aa7a00-0924-4787-9ff4-d7c34ac1e211",
   "metadata": {},
   "outputs": [],
   "source": [
    "file_list = os.listdir(path_to_data)"
   ]
  },
  {
   "cell_type": "code",
   "execution_count": null,
   "id": "26f147fb-090e-4f2d-afe3-d4088ef90aec",
   "metadata": {},
   "outputs": [],
   "source": [
    "file_list = os.listdir(path_to_data)\n",
    "file_list_mat = [x for x in  file_list if x[-4:] == '.mat']\n",
    "len(file_list_mat)"
   ]
  },
  {
   "cell_type": "markdown",
   "id": "766035af-6e2d-4b52-ac7e-733bd401f6e8",
   "metadata": {},
   "source": [
    "### Sort file names in list alpha-numerically:"
   ]
  },
  {
   "cell_type": "code",
   "execution_count": null,
   "id": "a6c2faac-0d8e-4559-9d97-ca4c71b2d09e",
   "metadata": {},
   "outputs": [],
   "source": [
    "file_list_mat.sort()\n",
    "#file_list_mat"
   ]
  },
  {
   "cell_type": "markdown",
   "id": "bda49a1c-e60d-4530-bfb8-4fdc2b632020",
   "metadata": {},
   "source": [
    "### Load all files into a dictionary: "
   ]
  },
  {
   "cell_type": "code",
   "execution_count": null,
   "id": "c044761b-f310-42b0-949f-0a85177c1894",
   "metadata": {},
   "outputs": [],
   "source": [
    "#os.chdir('Data')\n",
    "\n",
    "data_all = dict()\n",
    "\n",
    "for file in file_list_mat:\n",
    "    mat_contents = sio.loadmat(path_to_data/file)\n",
    "    data_all[file] = mat_contents"
   ]
  },
  {
   "cell_type": "code",
   "execution_count": null,
   "id": "897ef4f7-fc62-4c48-a6c2-8d7d9b51d926",
   "metadata": {},
   "outputs": [],
   "source": [
    "os.getcwd()"
   ]
  },
  {
   "cell_type": "code",
   "execution_count": null,
   "id": "04f275d9-7602-4d7a-a4fe-45a706ddd3f1",
   "metadata": {},
   "outputs": [],
   "source": [
    "data_all[file_list_mat[0]]['results'].dtype.descr[0][0]"
   ]
  },
  {
   "cell_type": "code",
   "execution_count": null,
   "id": "322c3193-0972-4500-86f1-226db45be449",
   "metadata": {},
   "outputs": [],
   "source": [
    "data_all[file_list_mat[0]]['results'].dtype.descr[1][0]"
   ]
  },
  {
   "cell_type": "markdown",
   "id": "640dbf3e-ee55-41c4-b0d0-100c48be27d4",
   "metadata": {},
   "source": [
    "### Get the variables referring to days of measurement:"
   ]
  },
  {
   "cell_type": "code",
   "execution_count": null,
   "id": "13c4e66d-37a0-4853-b2e4-fce0551c5262",
   "metadata": {},
   "outputs": [],
   "source": [
    "nfoot_var = data_all[file_list_mat[0]]['results'].dtype.descr[0][0]\n",
    "steps_tot_var = data_all[file_list_mat[0]]['results'].dtype.descr[1][0]"
   ]
  },
  {
   "cell_type": "code",
   "execution_count": null,
   "id": "1a669fc4-47bd-4208-8c86-150bbd607232",
   "metadata": {},
   "outputs": [],
   "source": [
    "round_counter = 1\n",
    "\n",
    "for key, data_item in data_all.items():\n",
    "    print(key)\n",
    "    print(key.split('.'))\n",
    "    print(key.split('.')[0])\n",
    "    #print(data_item['results'].dtype.descr[0][0])\n",
    "    nfoot_var_name = data_item['results'].dtype.descr[0][0]\n",
    "    steps_tot_var_name = data_item['results'].dtype.descr[1][0]\n",
    "    print(len(data_item['results'][0][0][0][0]))\n",
    "    print(len(data_item['results'][0][0][1][0]))\n",
    "    round_counter += 1\n",
    "    if round_counter >= 3:\n",
    "        break"
   ]
  },
  {
   "cell_type": "code",
   "execution_count": null,
   "id": "c15aa9a5-6119-449a-a99d-e67bc34bf58c",
   "metadata": {},
   "outputs": [],
   "source": []
  },
  {
   "cell_type": "code",
   "execution_count": null,
   "id": "1cd6a60c-0b40-4e57-8766-2057a2de6d17",
   "metadata": {},
   "outputs": [],
   "source": [
    "round_counter = 0\n",
    "list_of_frames_days = []\n",
    "\n",
    "for file_name, data_item in data_all.items():\n",
    "\n",
    "    nfoot_var_name = data_item['results'].dtype.descr[0][0]\n",
    "    steps_tot_var_name = data_item['results'].dtype.descr[1][0]\n",
    "    nfoot_var = data_item['results'][0][0][0][0]\n",
    "    steps_tot_var = data_item['results'][0][0][1][0]\n",
    "\n",
    "    data_to_frame_days = {}\n",
    "\n",
    "    data_to_frame_days['file_name'] = [file_name]*len(nfoot_var)\n",
    "\n",
    "    name_parts = file_name.split('_')[:2]\n",
    "    subject_name = '_'.join(name_parts)\n",
    "    subject_names = [subject_name]*len(nfoot_var)\n",
    "    data_to_frame_days['subject'] = subject_names\n",
    "\n",
    "    data_to_frame_days[nfoot_var_name] = nfoot_var\n",
    "    data_to_frame_days[steps_tot_var_name] = steps_tot_var\n",
    "\n",
    "    data_frame_to_stack_days = pd.DataFrame(data_to_frame_days)\n",
    "    \n",
    "    list_of_frames_days.append(data_frame_to_stack_days)\n",
    "data_days = pd.concat(list_of_frames_days)"
   ]
  },
  {
   "cell_type": "code",
   "execution_count": null,
   "id": "a011c8d0-9257-42aa-9cd6-5e3da3a8bedc",
   "metadata": {},
   "outputs": [],
   "source": [
    "data_days"
   ]
  },
  {
   "cell_type": "code",
   "execution_count": null,
   "id": "1601de75-c371-4cbb-b889-dbe59b792d10",
   "metadata": {},
   "outputs": [],
   "source": [
    "data_days = trs.add_exp_phase_id(data_days, 'file_name')\n",
    "data_days.head()"
   ]
  },
  {
   "cell_type": "markdown",
   "id": "da08b3a7-c951-4bec-b0d7-0eebe1a3a04a",
   "metadata": {},
   "source": [
    "### Get the variables referring to files:"
   ]
  },
  {
   "cell_type": "code",
   "execution_count": null,
   "id": "2410f197-96ce-4dfe-89b0-b2cb835a7bfb",
   "metadata": {},
   "outputs": [],
   "source": [
    "round_counter = 0\n",
    "list_of_frames_files = []\n",
    "\n",
    "timestamps_indices = []\n",
    "vars_same_length_checks = []\n",
    "\n",
    "for file_name, data_item in data_all.items():\n",
    "\n",
    "    nfoot_var_name = data_item['results'].dtype.descr[0][0]\n",
    "    steps_tot_var_name = data_item['results'].dtype.descr[1][0]\n",
    "    length_nfoot_var = len(data_item['results'][0][0][0][0])\n",
    "    length_steps_tot_var = len(data_item['results'][0][0][1][0])\n",
    "\n",
    "    if length_nfoot_var == length_steps_tot_var:\n",
    "        number_of_days = length_nfoot_var\n",
    "    else:\n",
    "        print('Error: nfoot not equal to steps_tot!!')\n",
    "        print(file_name)\n",
    "        break\n",
    "\n",
    "    # Get variable length and check if all variables (except nfoot and steps_tot) have the same length:\n",
    "    var_name = data_item['results'].dtype.descr[2][0]    \n",
    "    var_length = len(data_item['results'][0][0][2][0])\n",
    "    num_elements = len(data_item['results'].dtype.descr)\n",
    "    var_lengths = []\n",
    "    for index in range(2, num_elements):\n",
    "        var_name_i = data_item['results'].dtype.descr[index][0]\n",
    "        var_length_i = len(data_item['results'][0][0][index][0])\n",
    "        var_lengths.append(var_length_i)\n",
    "        if var_length_i != var_length:\n",
    "            print('Error: variables not the same length!!')\n",
    "            print(filename)\n",
    "            print(var_name)\n",
    "            var_length = 'Difference in variable length!'\n",
    "\n",
    "    all_vars_same_length = (len(set(var_lengths)) == 1)\n",
    "    #print('\\n')\n",
    "    #print('All vars same length?')\n",
    "    #print(all_vars_same_length)\n",
    "    vars_same_length_checks.append(all_vars_same_length)\n",
    "    if all_vars_same_length:\n",
    "        number_of_walking_bouts = var_length\n",
    "    else:\n",
    "        print('Error variables not same length!')\n",
    "\n",
    "    # Get gait_timestamps index to check if it is the same for all files, also get number\n",
    "    # of walking bouts in the morning:\n",
    "    num_elements = len(data_item['results'].dtype.descr)\n",
    "    #variable_names = []\n",
    "    for index in range(0, num_elements):\n",
    "        variable_name = data_item['results'].dtype.descr[index][0]\n",
    "        if variable_name == 'gait_timestamps':\n",
    "            #print('\\n Check if var name is gait_timestamps:')\n",
    "            #print(variable_name)\n",
    "            #print(index)\n",
    "            time_index = index\n",
    "            timestamps_indices.append(index)\n",
    "            morning_walks = data_item['results'][0][0][index][0]/3600 < 4\n",
    "            num_morning_walks = sum(morning_walks)\n",
    "        #variable_names.append(variable_name)\n",
    "    variable_of_interest = 'gait_timestamps'\n",
    "    #variable_index_timestamps = [i for i, expr in enumerate(variable_names) if re.search(variable_of_interest, expr)][0]\n",
    "    #print('\\ncheck timestamp index:')\n",
    "    #print(time_index == variable_index_timestamps)\n",
    "    #timestamps_indices.append(variable_index_timestamps)\n",
    "    \n",
    "    #morning = data_item['results'][0][0][variable_index_timestamps][0]/3600 < 4\n",
    "\n",
    "    data_to_frame_files = {}\n",
    "\n",
    "    data_to_frame_files['file_name'] = [file_name]\n",
    "    \n",
    "    name_parts = file_name.split('_')[:2]\n",
    "    subject_name = '_'.join(name_parts)\n",
    "    data_to_frame_files['subject'] = [subject_name]\n",
    "    \n",
    "    \n",
    "    data_to_frame_files['number_of_days'] = [length_nfoot_var]\n",
    "    data_to_frame_files['number_of_walking_bouts'] = [number_of_walking_bouts]\n",
    "    data_to_frame_files['number_of_morning_walking_bouts'] = num_morning_walks\n",
    "\n",
    "    data_frame_to_stack_files = pd.DataFrame(data_to_frame_files)\n",
    "    \n",
    "    list_of_frames_files.append(data_frame_to_stack_files)\n",
    "\n",
    "data_files = pd.concat(list_of_frames_files)\n"
   ]
  },
  {
   "cell_type": "code",
   "execution_count": null,
   "id": "9c363511-90f2-4635-9618-2a4f9369d5d9",
   "metadata": {},
   "outputs": [],
   "source": [
    "print(len(set(timestamps_indices)))\n",
    "\n",
    "print(len(vars_same_length_checks) == sum(vars_same_length_checks))"
   ]
  },
  {
   "cell_type": "code",
   "execution_count": null,
   "id": "0fde2363-e883-4433-8e82-e92469ca2329",
   "metadata": {},
   "outputs": [],
   "source": []
  },
  {
   "cell_type": "code",
   "execution_count": null,
   "id": "c5c6b281-df60-499f-a69b-34f1755bd9ba",
   "metadata": {},
   "outputs": [],
   "source": [
    "data_files"
   ]
  },
  {
   "cell_type": "code",
   "execution_count": null,
   "id": "b4e9e77e-7fa0-4e69-b2ab-67b6945e7d6d",
   "metadata": {},
   "outputs": [],
   "source": [
    "data_files = trs.add_exp_phase_id(data_files, 'subject')"
   ]
  },
  {
   "cell_type": "code",
   "execution_count": null,
   "id": "0df92f22-8222-40a4-914c-9436db9ef3d1",
   "metadata": {},
   "outputs": [],
   "source": [
    "data_files"
   ]
  },
  {
   "cell_type": "code",
   "execution_count": null,
   "id": "d132eb82-8aa0-45c0-ac2d-f5d1c6c413c3",
   "metadata": {},
   "outputs": [],
   "source": [
    "data_files.head(3)"
   ]
  },
  {
   "cell_type": "code",
   "execution_count": null,
   "id": "d3eb4e0b-d62d-473c-94cd-df190621c0ca",
   "metadata": {},
   "outputs": [],
   "source": []
  },
  {
   "cell_type": "markdown",
   "id": "731d1dc3-44cf-431d-955d-30ec046e5da8",
   "metadata": {},
   "source": [
    "### Make table with variables referring to subjects:"
   ]
  },
  {
   "cell_type": "code",
   "execution_count": null,
   "id": "b507cb18-236f-4c34-82e8-3b1af39f2c70",
   "metadata": {},
   "outputs": [],
   "source": [
    "columns_to_select = ['subject', 'exp_phase_id', 'number_of_days', \n",
    "                     'number_of_walking_bouts', 'number_of_morning_walking_bouts']\n",
    "data_subjects_c = data_files[columns_to_select]"
   ]
  },
  {
   "cell_type": "code",
   "execution_count": null,
   "id": "d4d5e030-8bd7-4a36-b0c8-523075d09983",
   "metadata": {},
   "outputs": [],
   "source": [
    "columns_combine = ['exp_phase_id']\n",
    "values_combine = ['number_of_days', \n",
    "                     'number_of_walking_bouts', \n",
    "                   'number_of_morning_walking_bouts']"
   ]
  },
  {
   "cell_type": "code",
   "execution_count": null,
   "id": "3a38779c-6e6e-4e65-bcda-fe28cfeb4773",
   "metadata": {},
   "outputs": [],
   "source": [
    "data_subjects = data_subjects_c.pivot(index='subject', columns=columns_combine, \n",
    "                      values=values_combine)"
   ]
  },
  {
   "cell_type": "code",
   "execution_count": null,
   "id": "76083696-16fc-4bde-96db-765d6e6ed5eb",
   "metadata": {},
   "outputs": [],
   "source": [
    "data_subjects.columns"
   ]
  },
  {
   "cell_type": "code",
   "execution_count": null,
   "id": "284e907c-e441-454a-a21d-a11d6037c5cc",
   "metadata": {},
   "outputs": [],
   "source": [
    "data_subjects.head()"
   ]
  },
  {
   "cell_type": "code",
   "execution_count": null,
   "id": "4e07dc0b-23a9-4f23-bef1-15a732ebc220",
   "metadata": {},
   "outputs": [],
   "source": [
    "new_col_names = []\n",
    "for col in data_subjects.columns:\n",
    "    new_col_name = '_'.join(list(col))\n",
    "    print(new_col_name)\n",
    "    new_col_names.append(new_col_name)"
   ]
  },
  {
   "cell_type": "code",
   "execution_count": null,
   "id": "d5afdedd-9edc-47cb-b3cf-81c50e5179e6",
   "metadata": {},
   "outputs": [],
   "source": [
    "data_subjects.columns = new_col_names"
   ]
  },
  {
   "cell_type": "code",
   "execution_count": null,
   "id": "a8bf50b7-de24-427f-9192-55ae7768db41",
   "metadata": {},
   "outputs": [],
   "source": [
    "data_subjects.reset_index(inplace=True)"
   ]
  },
  {
   "cell_type": "code",
   "execution_count": null,
   "id": "0574d3da-b936-4502-b12b-16358504a4e7",
   "metadata": {},
   "outputs": [],
   "source": [
    "data_subjects.head()"
   ]
  },
  {
   "cell_type": "markdown",
   "id": "8099aeb1-096b-4cf5-8b1e-3e7e330d35c3",
   "metadata": {},
   "source": [
    "### Solution provided by Chatgpt:"
   ]
  },
  {
   "cell_type": "code",
   "execution_count": null,
   "id": "6bf9d45d-ec58-425a-a0a1-603278755210",
   "metadata": {},
   "outputs": [],
   "source": [
    "# Melt the DataFrame\n",
    "melted = pd.melt(data_subjects_c, id_vars=['subject', 'exp_phase_id'], var_name='metric', value_name='value')\n",
    "\n",
    "# Create a new column by concatenating the phase and metric\n",
    "melted['new_column'] = melted['metric'] + '_' + melted['exp_phase_id']\n",
    "\n",
    "# Pivot the DataFrame using the new column names\n",
    "pivoted = melted.pivot(index='subject', columns='new_column', values='value')\n",
    "\n",
    "# Flatten the columns\n",
    "pivoted.columns.name = None\n",
    "pivoted.reset_index(inplace=True)\n",
    "\n",
    "# Display the resulting DataFrame\n",
    "pivoted.head()"
   ]
  },
  {
   "cell_type": "code",
   "execution_count": null,
   "id": "1e9b6d33-68ff-4042-82e4-a570e66be37e",
   "metadata": {},
   "outputs": [],
   "source": [
    "#pivoted_co = pivoted[data_subjects.columns]\n",
    "\n",
    "pivoted_co = pivoted.reindex(columns=data_subjects.columns)"
   ]
  },
  {
   "cell_type": "code",
   "execution_count": null,
   "id": "241c2781-2033-489c-b353-236eff1ab7a7",
   "metadata": {},
   "outputs": [],
   "source": [
    "data_subjects.equals(pivoted_co)"
   ]
  },
  {
   "cell_type": "code",
   "execution_count": null,
   "id": "fc29fb34-1199-40ba-8995-778cced85223",
   "metadata": {},
   "outputs": [],
   "source": []
  },
  {
   "cell_type": "markdown",
   "id": "b18489ae-a432-45e1-a28a-3f60107c0cf5",
   "metadata": {},
   "source": [
    "### Compare data frames to data_wide and data_long to check consistency:"
   ]
  },
  {
   "cell_type": "code",
   "execution_count": null,
   "id": "222efe16-5372-4e6a-a03f-6f28faf5a4f3",
   "metadata": {},
   "outputs": [],
   "source": [
    "data_wide.head()"
   ]
  },
  {
   "cell_type": "code",
   "execution_count": null,
   "id": "c347471b-b49f-45a7-b063-4061f56f8079",
   "metadata": {},
   "outputs": [],
   "source": [
    "data_files.head()"
   ]
  },
  {
   "cell_type": "code",
   "execution_count": null,
   "id": "f240019e-09b5-4382-92e3-d628cf78d7a4",
   "metadata": {},
   "outputs": [],
   "source": [
    "data_subjects.head()"
   ]
  },
  {
   "cell_type": "code",
   "execution_count": null,
   "id": "5e281e3c-fccc-41d9-b852-48e8453515ec",
   "metadata": {},
   "outputs": [],
   "source": [
    "subject = 'Sub_30'\n",
    "exp_phase = 'T3'\n",
    "morning = 1"
   ]
  },
  {
   "cell_type": "code",
   "execution_count": null,
   "id": "cb74da5b-d664-49ef-b61f-28a11967ba3d",
   "metadata": {},
   "outputs": [],
   "source": []
  },
  {
   "cell_type": "code",
   "execution_count": null,
   "id": "48d155d1-9947-44a6-9111-e1c35556ade9",
   "metadata": {},
   "outputs": [],
   "source": [
    "s_bools = data_wide.subject == subject\n",
    "exp_phase_bools = data_wide.exp_phase_id == exp_phase\n",
    "morning_bools = data_wide.morning_afternoon == morning\n",
    "\n",
    "dw_select = data_wide.loc[(s_bools & exp_phase_bools & morning_bools)]\n",
    "dw_select.head()"
   ]
  },
  {
   "cell_type": "code",
   "execution_count": null,
   "id": "3c2d3298-5af2-4573-8588-318c9bde1cf8",
   "metadata": {},
   "outputs": [],
   "source": []
  },
  {
   "cell_type": "code",
   "execution_count": null,
   "id": "6c9ea4df-accc-4fb5-8c94-9c89e1e5ef22",
   "metadata": {},
   "outputs": [],
   "source": [
    "print(set(dw_select.subject))\n",
    "print(set(dw_select.exp_phase_id))\n",
    "print(set(dw_select.morning_afternoon))"
   ]
  },
  {
   "cell_type": "code",
   "execution_count": null,
   "id": "656492af-1c88-4fd1-ad89-026086690229",
   "metadata": {},
   "outputs": [],
   "source": [
    "dw_select.shape"
   ]
  },
  {
   "cell_type": "code",
   "execution_count": null,
   "id": "a914f373-99b4-4862-bd4e-6c8e3a9eccee",
   "metadata": {},
   "outputs": [],
   "source": [
    "s_bools = data_subjects.subject == subject\n",
    "\n",
    "ds_select = data_subjects.loc[(s_bools)]\n",
    "ds_select.head()"
   ]
  },
  {
   "cell_type": "code",
   "execution_count": null,
   "id": "638bec58-b05a-442b-ac0e-416e09b4c20b",
   "metadata": {},
   "outputs": [],
   "source": [
    "ds_select.number_of_walking_bouts_T2 - ds_select.number_of_morning_walking_bouts_T2"
   ]
  },
  {
   "cell_type": "code",
   "execution_count": null,
   "id": "78fcfdad-bced-4d03-bed6-100a6de101a8",
   "metadata": {},
   "outputs": [],
   "source": [
    "ds_select.number_of_walking_bouts_T3 - ds_select.number_of_morning_walking_bouts_T3"
   ]
  },
  {
   "cell_type": "code",
   "execution_count": null,
   "id": "52733799-780d-4ae6-847a-cc6f76a1af39",
   "metadata": {},
   "outputs": [],
   "source": [
    "ds_select.number_of_days_T3 + ds_select.number_of_days_T2"
   ]
  },
  {
   "cell_type": "code",
   "execution_count": null,
   "id": "5b5d26fe-538c-4a97-a2e5-56f7f0097ce8",
   "metadata": {},
   "outputs": [],
   "source": []
  },
  {
   "cell_type": "code",
   "execution_count": null,
   "id": "78189bf4-99a6-45c6-8f7b-5f93e774394a",
   "metadata": {},
   "outputs": [],
   "source": []
  },
  {
   "cell_type": "code",
   "execution_count": null,
   "id": "62df8759-faa5-43c8-87bb-5596e098170d",
   "metadata": {},
   "outputs": [],
   "source": [
    "s_bools = data_files.subject == subject\n",
    "exp_phase_bools = data_files.exp_phase_id == exp_phase\n",
    "df_select = data_files.loc[(s_bools&exp_phase_bools)]\n",
    "df_select.head()"
   ]
  },
  {
   "cell_type": "code",
   "execution_count": null,
   "id": "e9de5759-8bc4-4c38-8d8f-62248bdd5f58",
   "metadata": {},
   "outputs": [],
   "source": [
    "df_select.number_of_walking_bouts"
   ]
  },
  {
   "cell_type": "code",
   "execution_count": null,
   "id": "b9ad7374-a2a2-42d0-808f-c28cc7d6eb1a",
   "metadata": {},
   "outputs": [],
   "source": [
    "df_select.number_of_morning_walking_bouts"
   ]
  },
  {
   "cell_type": "code",
   "execution_count": null,
   "id": "944d559a-13b8-47b1-bb7d-17f075f17dae",
   "metadata": {},
   "outputs": [],
   "source": [
    "df_select.number_of_walking_bouts - df_select.number_of_morning_walking_bouts"
   ]
  },
  {
   "cell_type": "code",
   "execution_count": null,
   "id": "edfc33dd-6645-43d0-a34c-db67afcbb4e0",
   "metadata": {},
   "outputs": [],
   "source": []
  },
  {
   "cell_type": "code",
   "execution_count": null,
   "id": "398cfceb-4517-47da-93d4-712a13ff35f0",
   "metadata": {},
   "outputs": [],
   "source": []
  },
  {
   "cell_type": "code",
   "execution_count": null,
   "id": "ba8aa8ee-4b52-4ae5-a228-907a7fd94fbe",
   "metadata": {},
   "outputs": [],
   "source": [
    "s_bools = data_days.subject == subject\n",
    "exp_phase_bools = data_days.exp_phase_id == exp_phase\n",
    "dd_select = data_days.loc[(s_bools & exp_phase_bools)]\n",
    "dd_select.shape"
   ]
  },
  {
   "cell_type": "code",
   "execution_count": null,
   "id": "3ddf7278-66f8-41bd-98e6-22425a0837af",
   "metadata": {},
   "outputs": [],
   "source": [
    "dd_select"
   ]
  },
  {
   "cell_type": "code",
   "execution_count": null,
   "id": "cf1e5e68-8d69-4a76-98f5-81ff8854b2c3",
   "metadata": {},
   "outputs": [],
   "source": []
  },
  {
   "cell_type": "markdown",
   "id": "57843cad-3129-4e7f-aa3a-ed32aabd0ad8",
   "metadata": {},
   "source": [
    "### Save data frames:"
   ]
  },
  {
   "cell_type": "code",
   "execution_count": null,
   "id": "128e0f75-8eee-494c-8c1f-ea70a0321330",
   "metadata": {},
   "outputs": [],
   "source": [
    "data_files.to_csv(path_to_data/'data_table_files.csv', sep=',', index=False)\n",
    "data_days.to_csv(path_to_data/'data_table_days.csv', sep=',', index=False)\n",
    "data_subjects.to_csv(path_to_data/'data_table_subjects.csv', sep=',', index=False)"
   ]
  },
  {
   "cell_type": "code",
   "execution_count": null,
   "id": "e5a0720a-e57f-4f89-9c0c-ad606331acb2",
   "metadata": {},
   "outputs": [],
   "source": []
  }
 ],
 "metadata": {
  "kernelspec": {
   "display_name": "Python 3 (ipykernel)",
   "language": "python",
   "name": "python3"
  },
  "language_info": {
   "codemirror_mode": {
    "name": "ipython",
    "version": 3
   },
   "file_extension": ".py",
   "mimetype": "text/x-python",
   "name": "python",
   "nbconvert_exporter": "python",
   "pygments_lexer": "ipython3",
   "version": "3.12.3"
  }
 },
 "nbformat": 4,
 "nbformat_minor": 5
}
