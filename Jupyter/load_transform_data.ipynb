{
 "cells": [
  {
   "cell_type": "code",
   "execution_count": null,
   "id": "d155ada6-cf33-4d96-8368-00e7c58b7120",
   "metadata": {},
   "outputs": [],
   "source": [
    "import pandas as pd\n",
    "import numpy as np\n",
    "import scipy.io as sio\n",
    "import os\n",
    "import re\n",
    "import source.transform_data as trs\n",
    "import matplotlib\n",
    "from pathlib import Path"
   ]
  },
  {
   "cell_type": "markdown",
   "id": "b144338f-5cf2-4f42-acc6-2935d47aa85e",
   "metadata": {},
   "source": [
    "## Load data from .mat files and save them in csv files"
   ]
  },
  {
   "cell_type": "markdown",
   "id": "1ea39ffe-bacb-417d-b8da-cdc692bef54d",
   "metadata": {},
   "source": [
    "### Get list of files to load: "
   ]
  },
  {
   "cell_type": "code",
   "execution_count": null,
   "id": "b7fa38fb-b6fe-43d2-baf9-b8cc8803f573",
   "metadata": {},
   "outputs": [],
   "source": [
    "path_to_data = Path('Data')"
   ]
  },
  {
   "cell_type": "code",
   "execution_count": null,
   "id": "76e3f23f-b477-4134-86e1-7ff13ece5816",
   "metadata": {},
   "outputs": [],
   "source": [
    "path_to_data"
   ]
  },
  {
   "cell_type": "code",
   "execution_count": null,
   "id": "5e2b8c55-f806-423e-8229-08a30230369a",
   "metadata": {},
   "outputs": [],
   "source": [
    "file_list = os.listdir(path_to_data)"
   ]
  },
  {
   "cell_type": "code",
   "execution_count": null,
   "id": "2af31769-348f-4373-8b16-ca96b45d2014",
   "metadata": {},
   "outputs": [],
   "source": [
    "file_list = os.listdir(path_to_data)\n",
    "file_list_mat = [x for x in  file_list if x[-4:] == '.mat']\n",
    "len(file_list_mat)"
   ]
  },
  {
   "cell_type": "markdown",
   "id": "0d7374b1-5078-4795-bbf6-69ed529e1c7e",
   "metadata": {},
   "source": [
    "### Sort file names in list alpha-numerically:"
   ]
  },
  {
   "cell_type": "code",
   "execution_count": null,
   "id": "90e25a51-72c7-4fa2-8d60-9428a8a1304c",
   "metadata": {},
   "outputs": [],
   "source": [
    "file_list_mat.sort()\n",
    "#file_list_mat"
   ]
  },
  {
   "cell_type": "markdown",
   "id": "7f0657b6-f3f0-4a4e-8a78-4c12dc6a93c2",
   "metadata": {},
   "source": [
    "### Load all files into a dictionary: "
   ]
  },
  {
   "cell_type": "code",
   "execution_count": null,
   "id": "17e603af-c943-4474-b7a0-53b28f0bbf94",
   "metadata": {},
   "outputs": [],
   "source": [
    "#os.chdir('Data')\n",
    "\n",
    "data_all = dict()\n",
    "\n",
    "for file in file_list_mat:\n",
    "    mat_contents = sio.loadmat(path_to_data/file)\n",
    "    data_all[file] = mat_contents"
   ]
  },
  {
   "cell_type": "code",
   "execution_count": null,
   "id": "e8ba8fe0-c896-4092-a107-52d0e03ee5c7",
   "metadata": {},
   "outputs": [],
   "source": [
    "os.getcwd()"
   ]
  },
  {
   "cell_type": "code",
   "execution_count": null,
   "id": "3bc46a26-1682-49e7-aba4-0816d60246c4",
   "metadata": {},
   "outputs": [],
   "source": []
  },
  {
   "cell_type": "markdown",
   "id": "42c9adcf-dc47-4a3c-a42e-34eb8580ae6b",
   "metadata": {},
   "source": [
    "### Select the variables to load: "
   ]
  },
  {
   "cell_type": "code",
   "execution_count": null,
   "id": "3f8d8f83-5f45-497f-af2c-4c22276d5619",
   "metadata": {},
   "outputs": [],
   "source": [
    "num_elements = len(data_all[file_list_mat[0]]['results'].dtype.descr)\n",
    "\n",
    "variables_all = []\n",
    "for index in range(0, num_elements):\n",
    "    variable_name = data_all[file_list_mat[0]]['results'].dtype.descr[index][0]\n",
    "    variables_all.append(variable_name)\n"
   ]
  },
  {
   "cell_type": "code",
   "execution_count": null,
   "id": "62f1c22f-7009-4696-8269-87dc4c3b3c23",
   "metadata": {},
   "outputs": [],
   "source": [
    "variables_to_add = variables_all.copy()"
   ]
  },
  {
   "cell_type": "code",
   "execution_count": null,
   "id": "4219b803-61b3-481f-abed-00ee34b4e83b",
   "metadata": {},
   "outputs": [],
   "source": []
  },
  {
   "cell_type": "markdown",
   "id": "d2d74957-e638-4ab5-aa3f-3256f3db4b7c",
   "metadata": {},
   "source": [
    "#### Remove variables that I don't know what they refer to:"
   ]
  },
  {
   "cell_type": "code",
   "execution_count": null,
   "id": "98eda514-f286-4235-b1f2-f272501cd47a",
   "metadata": {},
   "outputs": [],
   "source": [
    "variables_to_add.remove('nfoot')\n",
    "variables_to_add.remove('steps_tot')"
   ]
  },
  {
   "cell_type": "markdown",
   "id": "4462db9a-16e0-4282-9d26-f9e0cb4a6880",
   "metadata": {},
   "source": [
    "### Loop through dictionary and stack data in pandas dataframe:"
   ]
  },
  {
   "cell_type": "code",
   "execution_count": null,
   "id": "1b53ed46-8c62-45d2-a470-eadcac991e19",
   "metadata": {},
   "outputs": [],
   "source": [
    "round_counter = 0\n",
    "list_of_frames = []\n",
    "\n",
    "for file_name, data_item in data_all.items():\n",
    "\n",
    "    data_frame_to_stack = trs.identify_get_timestamps(file_name, data_item)\n",
    "    #print(data_frame_to_stack.columns)\n",
    "\n",
    "    for variable_name in variables_to_add:\n",
    "        data_frame_to_stack = trs.identify_get_variable(file_name, variable_name,\n",
    "                                                data_item, data_frame_to_stack)\n",
    "    list_of_frames.append(data_frame_to_stack)\n"
   ]
  },
  {
   "cell_type": "code",
   "execution_count": null,
   "id": "e85a752c-92f1-421a-baf7-37a9a4b1a9ec",
   "metadata": {},
   "outputs": [],
   "source": [
    "data_wide = pd.concat(list_of_frames)"
   ]
  },
  {
   "cell_type": "code",
   "execution_count": null,
   "id": "a136e0f3-ed2a-4129-9ced-9bbdda8becd5",
   "metadata": {},
   "outputs": [],
   "source": [
    "data_wide.head()"
   ]
  },
  {
   "cell_type": "markdown",
   "id": "ed4f0b66-8a80-4d21-92c7-b253c91afdb7",
   "metadata": {},
   "source": [
    "### Add id columns to designate if measurements were taken before or after rehab training:"
   ]
  },
  {
   "cell_type": "code",
   "execution_count": null,
   "id": "b5990ba3-2021-4c44-bfdb-d19c5f500b3a",
   "metadata": {},
   "outputs": [],
   "source": [
    "#data_wide = trs.add_exp_phase_id(data_wide, 'subject')\n",
    "data_wide = trs.add_exp_phase_id(data_wide, 'subject')"
   ]
  },
  {
   "cell_type": "code",
   "execution_count": null,
   "id": "9abc0b25-9bec-4b82-b6e7-e03420310ea8",
   "metadata": {},
   "outputs": [],
   "source": [
    "data_wide.head()"
   ]
  },
  {
   "cell_type": "code",
   "execution_count": null,
   "id": "7be1cf99-8588-4f05-b10d-54c3e6b18853",
   "metadata": {},
   "outputs": [],
   "source": [
    "set(data_wide.exp_phase_id)"
   ]
  },
  {
   "cell_type": "code",
   "execution_count": null,
   "id": "58df46c4-474b-452c-aadc-d772b3532920",
   "metadata": {},
   "outputs": [],
   "source": [
    "data_wide.value_counts('exp_phase_id')"
   ]
  },
  {
   "cell_type": "code",
   "execution_count": null,
   "id": "46863a3d-e1b6-4078-b58f-0d4c40360d61",
   "metadata": {},
   "outputs": [],
   "source": []
  },
  {
   "cell_type": "code",
   "execution_count": null,
   "id": "6b6a1502-7587-484c-a6d8-0cbd94928471",
   "metadata": {},
   "outputs": [],
   "source": [
    "exp_phase_bools = list(data_wide.exp_phase_id == 'T3')"
   ]
  },
  {
   "cell_type": "code",
   "execution_count": null,
   "id": "f624a7e4-865e-4e98-b3f0-0c149cf2185b",
   "metadata": {},
   "outputs": [],
   "source": [
    "exp_phase_one_hot = [trs.bools_to_one_hot(x) for x in exp_phase_bools]"
   ]
  },
  {
   "cell_type": "code",
   "execution_count": null,
   "id": "5e0cef72-7e87-4f5a-ab06-b11deddf3364",
   "metadata": {},
   "outputs": [],
   "source": [
    "pd.value_counts(exp_phase_one_hot)"
   ]
  },
  {
   "cell_type": "code",
   "execution_count": null,
   "id": "a8008b87-8b88-4005-88d1-a889a6b2a30f",
   "metadata": {},
   "outputs": [],
   "source": [
    "col_position = data_wide.columns.get_loc('exp_phase_descr') + 1\n",
    "col_position"
   ]
  },
  {
   "cell_type": "code",
   "execution_count": null,
   "id": "027a46bc-c509-4b4a-8f5d-1d647bd5febf",
   "metadata": {},
   "outputs": [],
   "source": [
    "data_wide.insert(col_position, 'exp_phase_one_hot', exp_phase_one_hot)"
   ]
  },
  {
   "cell_type": "code",
   "execution_count": null,
   "id": "dc78fb51-d757-4821-b338-e465b8160c54",
   "metadata": {},
   "outputs": [],
   "source": []
  },
  {
   "cell_type": "markdown",
   "id": "2771e4b4-8b11-4e7a-95bd-2ca0b8d869db",
   "metadata": {},
   "source": [
    "### Remove column gait_timestamps as it is identical to the column time stamps (which took its values from gait_timestamps):"
   ]
  },
  {
   "cell_type": "code",
   "execution_count": null,
   "id": "c1aaaf57-f175-420e-aad7-6ceff76135dd",
   "metadata": {},
   "outputs": [],
   "source": [
    "data_wide = data_wide.drop('gait_timestamps', axis=1)"
   ]
  },
  {
   "cell_type": "code",
   "execution_count": null,
   "id": "fbc70a72-d314-4164-8eb5-4744553d12ef",
   "metadata": {},
   "outputs": [],
   "source": []
  },
  {
   "cell_type": "code",
   "execution_count": null,
   "id": "c2352fbc-8bd7-41fa-8e09-89b3ee30f873",
   "metadata": {},
   "outputs": [],
   "source": [
    "os.getcwd()"
   ]
  },
  {
   "cell_type": "markdown",
   "id": "51d69432-f78d-43c2-af4a-2b7b8a4c9338",
   "metadata": {},
   "source": [
    "### Save wide format dataframe as csv-file:"
   ]
  },
  {
   "cell_type": "code",
   "execution_count": null,
   "id": "b8b8cb75-4176-48f4-bbff-046729f8a5af",
   "metadata": {},
   "outputs": [],
   "source": [
    "data_wide.to_csv(path_to_data/'data_table_wide.csv', sep=',', index=False)"
   ]
  },
  {
   "cell_type": "code",
   "execution_count": null,
   "id": "d44f9ea5-a04d-4a27-b37d-985f62de147b",
   "metadata": {},
   "outputs": [],
   "source": [
    "data_wide_copy = data_wide.copy()"
   ]
  },
  {
   "cell_type": "markdown",
   "id": "aaafd51b-3d6f-4ed9-8c18-0c81dde8ee3e",
   "metadata": {},
   "source": [
    "### Unpivot dataframe (to long format):"
   ]
  },
  {
   "cell_type": "code",
   "execution_count": null,
   "id": "133e0ab0-ca7c-443e-afcb-fb5829b1f008",
   "metadata": {},
   "outputs": [],
   "source": [
    "col_list = list(data_wide_copy.columns)\n",
    "col_list.index('morning_afternoon')"
   ]
  },
  {
   "cell_type": "markdown",
   "id": "0e362807-600e-434b-89d5-a7a5396c6d02",
   "metadata": {},
   "source": [
    "#### Separate id-column names from variable column names:"
   ]
  },
  {
   "cell_type": "code",
   "execution_count": null,
   "id": "76f7c12c-0a9f-4905-a330-8aff85dc895c",
   "metadata": {},
   "outputs": [],
   "source": [
    "id_columns = data_wide_copy.columns[0:8]\n",
    "value_columns = data_wide_copy.columns[8:]\n",
    "print(id_columns)\n",
    "print(value_columns)"
   ]
  },
  {
   "cell_type": "markdown",
   "id": "19d10233-cfa2-4361-8a8e-b51950e2fbe5",
   "metadata": {},
   "source": [
    "#### Save data:"
   ]
  },
  {
   "cell_type": "code",
   "execution_count": null,
   "id": "444e92c9-a79f-43e2-9674-97cb8bca252d",
   "metadata": {},
   "outputs": [],
   "source": [
    "data_long = data_wide_copy.melt(id_vars=id_columns, value_vars=value_columns,\n",
    "                    var_name='variable', value_name='value')"
   ]
  },
  {
   "cell_type": "code",
   "execution_count": null,
   "id": "e52e244c-a25b-4a20-99fb-8b1c336f510b",
   "metadata": {},
   "outputs": [],
   "source": [
    "data_long.head()"
   ]
  },
  {
   "cell_type": "markdown",
   "id": "d6ed2deb-9843-4e4c-b551-be57a34462ae",
   "metadata": {},
   "source": [
    "### Save long format dataframe as csv:"
   ]
  },
  {
   "cell_type": "code",
   "execution_count": null,
   "id": "4b758e09-142e-4aea-9ec9-03efb4ac3ea9",
   "metadata": {},
   "outputs": [],
   "source": [
    "data_long.to_csv(path_to_data/'data_table_long.csv', sep=',', index=False)"
   ]
  },
  {
   "cell_type": "code",
   "execution_count": null,
   "id": "05845edb-85e1-4540-9de1-975568a813e5",
   "metadata": {},
   "outputs": [],
   "source": [
    "#os.chdir('..')"
   ]
  },
  {
   "cell_type": "code",
   "execution_count": null,
   "id": "f216f71b-0a4c-4237-95ac-c3e0d68f2139",
   "metadata": {},
   "outputs": [],
   "source": []
  },
  {
   "cell_type": "markdown",
   "id": "73a03766-9dfe-445a-8120-9295011439aa",
   "metadata": {},
   "source": [
    "### Get the variables referring to days of measurement:"
   ]
  },
  {
   "cell_type": "code",
   "execution_count": null,
   "id": "c806219c-87f8-4076-be8e-e590140cb2d3",
   "metadata": {},
   "outputs": [],
   "source": [
    "nfoot_var = data_all[file_list_mat[0]]['results'].dtype.descr[0][0]\n",
    "steps_tot_var = data_all[file_list_mat[0]]['results'].dtype.descr[1][0]"
   ]
  },
  {
   "cell_type": "code",
   "execution_count": null,
   "id": "f10cac43-8603-4a86-a3bd-d1d2567709f1",
   "metadata": {},
   "outputs": [],
   "source": [
    "round_counter = 1\n",
    "\n",
    "for key, data_item in data_all.items():\n",
    "    print(key)\n",
    "    print(key.split('.'))\n",
    "    print(key.split('.')[0])\n",
    "    #print(data_item['results'].dtype.descr[0][0])\n",
    "    nfoot_var = data_item['results'].dtype.descr[0][0]\n",
    "    steps_tot_var = data_item['results'].dtype.descr[1][0]\n",
    "    print(len(data_item['results'][0][0][0][0]))\n",
    "    round_counter += 1\n",
    "    if round_counter >= 3:\n",
    "        break"
   ]
  },
  {
   "cell_type": "code",
   "execution_count": null,
   "id": "7951547a-201e-4b56-9596-882d2135d0b9",
   "metadata": {},
   "outputs": [],
   "source": [
    "data_long.head()"
   ]
  },
  {
   "cell_type": "code",
   "execution_count": null,
   "id": "a62c6d16-9c02-40e6-a00f-6008e58489d4",
   "metadata": {},
   "outputs": [],
   "source": []
  },
  {
   "cell_type": "code",
   "execution_count": null,
   "id": "e61e5791-b595-4dae-9271-e17fd15c01c1",
   "metadata": {},
   "outputs": [],
   "source": []
  },
  {
   "cell_type": "code",
   "execution_count": null,
   "id": "9d554d0b-5372-4f14-b125-d883c51d6d72",
   "metadata": {},
   "outputs": [],
   "source": []
  }
 ],
 "metadata": {
  "kernelspec": {
   "display_name": "Python 3 (ipykernel)",
   "language": "python",
   "name": "python3"
  },
  "language_info": {
   "codemirror_mode": {
    "name": "ipython",
    "version": 3
   },
   "file_extension": ".py",
   "mimetype": "text/x-python",
   "name": "python",
   "nbconvert_exporter": "python",
   "pygments_lexer": "ipython3",
   "version": "3.12.3"
  }
 },
 "nbformat": 4,
 "nbformat_minor": 5
}
