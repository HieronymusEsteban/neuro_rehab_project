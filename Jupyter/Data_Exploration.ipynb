{
 "cells": [
  {
   "cell_type": "code",
   "execution_count": null,
   "id": "f41f1255-b1b0-4aeb-93d7-681058931e4e",
   "metadata": {},
   "outputs": [],
   "source": [
    "import pandas as pd\n",
    "import numpy as np\n",
    "import scipy.io as sio\n",
    "import os\n",
    "import re\n",
    "import matplotlib.pyplot as plt\n",
    "import source.transform_data as trs\n",
    "from pathlib import Path\n",
    "from scipy.cluster.hierarchy import dendrogram, linkage\n",
    "from scipy.spatial.distance import pdist\n",
    "from sklearn.cluster import AgglomerativeClustering \n",
    "from sklearn.cluster import KMeans \n",
    "\n",
    "from sklearn.pipeline import Pipeline\n",
    "from sklearn.preprocessing import StandardScaler\n",
    "from sklearn.compose import ColumnTransformer"
   ]
  },
  {
   "cell_type": "code",
   "execution_count": null,
   "id": "4022ca77-3e74-4ea5-b723-017fbdd7ef97",
   "metadata": {},
   "outputs": [],
   "source": [
    "path_to_data = Path('Data')"
   ]
  },
  {
   "cell_type": "code",
   "execution_count": null,
   "id": "5e94a8f6-cf5e-4fc9-9482-ad7c2857ef15",
   "metadata": {},
   "outputs": [],
   "source": [
    "data_wide = pd.read_csv(path_to_data/'data_table_wide.csv', index_col=None)"
   ]
  },
  {
   "cell_type": "code",
   "execution_count": null,
   "id": "3fe8da70-04fd-4563-a6d7-5e2def7d76b8",
   "metadata": {},
   "outputs": [],
   "source": [
    "data_wide.head()"
   ]
  },
  {
   "cell_type": "markdown",
   "id": "d18f87ef-3e2b-4f0d-8b40-90d89e26ddeb",
   "metadata": {},
   "source": [
    "### Number of walking bouts before vs after rehab:"
   ]
  },
  {
   "cell_type": "code",
   "execution_count": null,
   "id": "f5c22217-d8c3-43bf-9e81-fbd1c5ac0544",
   "metadata": {},
   "outputs": [],
   "source": [
    "data_wide.value_counts('exp_phase_id')"
   ]
  },
  {
   "cell_type": "code",
   "execution_count": null,
   "id": "9132aedf-1011-4a70-b0ee-639967749edb",
   "metadata": {},
   "outputs": [],
   "source": [
    "data_wide.value_counts('exp_phase_descr')"
   ]
  },
  {
   "cell_type": "markdown",
   "id": "d50aa316-0f80-4e80-a0fb-b80d74d264df",
   "metadata": {},
   "source": [
    "### It looks like most people stopped recording after 8 hours:"
   ]
  },
  {
   "cell_type": "code",
   "execution_count": null,
   "id": "5aff0812-8451-4cc0-9d27-29a5a4da1ec7",
   "metadata": {},
   "outputs": [],
   "source": [
    "ax = plt.subplot()\n",
    "scatter = ax.scatter(data_wide.time_stamps_hours, data_wide.speed_mean, alpha=0.4)\n",
    "# produce a legend with a cross-section of sizes from the scatter\n",
    "handles, labels = scatter.legend_elements()\n",
    "legend2 = ax.legend(handles, labels, loc=\"upper right\")\n",
    "ax.set_xlabel(\"hours after beginning of recording\")\n",
    "ax.set_ylabel(\"mean speed during walking bout\")"
   ]
  },
  {
   "cell_type": "markdown",
   "id": "f2017489-01df-42db-84a2-33afe72c9d88",
   "metadata": {},
   "source": [
    "#### Is it appropriate to only consider walking bouts within 8 hours and disregard later walking bouts? If so, we could subdivide the 8 hours or recording into two phases of 4 hours each (morning and afternoon)."
   ]
  },
  {
   "cell_type": "code",
   "execution_count": null,
   "id": "b4f0d361-3379-4f50-9072-1d7289996b43",
   "metadata": {},
   "outputs": [],
   "source": [
    "data_wide"
   ]
  },
  {
   "cell_type": "code",
   "execution_count": null,
   "id": "b1d06f73-768d-43ad-827f-ab7d9033cff2",
   "metadata": {},
   "outputs": [],
   "source": []
  },
  {
   "cell_type": "code",
   "execution_count": null,
   "id": "fcba0d24-e173-48b3-b65f-dae57d0535d6",
   "metadata": {},
   "outputs": [],
   "source": []
  },
  {
   "cell_type": "markdown",
   "id": "e9e1fa21-1e28-4cfa-80bd-7219e095db87",
   "metadata": {},
   "source": [
    "### Number of walking bouts morning vs afternoon:"
   ]
  },
  {
   "cell_type": "code",
   "execution_count": null,
   "id": "9dbd5b13-b454-43f2-a441-1d7828bc7675",
   "metadata": {},
   "outputs": [],
   "source": [
    "data_wide.value_counts('morning_afternoon')"
   ]
  },
  {
   "cell_type": "markdown",
   "id": "f71c3a60-1100-429a-9678-ca127a36d046",
   "metadata": {},
   "source": [
    "### Correlation matrix:"
   ]
  },
  {
   "cell_type": "code",
   "execution_count": null,
   "id": "8b2f676f-fc6f-487a-a8fc-2ca2eae232d0",
   "metadata": {},
   "outputs": [],
   "source": [
    "data_wide.head()\n",
    "data_wide_for_corr = data_wide.copy()"
   ]
  },
  {
   "cell_type": "code",
   "execution_count": null,
   "id": "ec201217-1156-47eb-91bb-13ba5557aad5",
   "metadata": {},
   "outputs": [],
   "source": [
    "data_wide_for_corr = data_wide_for_corr.drop('time_stamps', axis=1)\n",
    "data_wide_for_corr = data_wide_for_corr.drop('morning_afternoon', axis=1)\n",
    "data_wide_for_corr.head()"
   ]
  },
  {
   "cell_type": "code",
   "execution_count": null,
   "id": "3969b29c-3665-4705-919a-ec4dcf08d32c",
   "metadata": {},
   "outputs": [],
   "source": [
    "data_wide_num = data_wide_for_corr.iloc[:,5:].copy()\n",
    "\n",
    "corr_matrix = data_wide_num.corr(method='spearman')\n",
    "\n",
    "plt.figure(figsize=(10, 10))\n",
    "\n",
    "# Create a figure and axes with the desired size\n",
    "fig, ax = plt.subplots(figsize=(10, 10))  # Adjust the figsize to make squares larger\n",
    "\n",
    "# Plot the matrix using matshow on the created axes\n",
    "cax = ax.matshow(corr_matrix, cmap=\"viridis\")\n",
    "\n",
    "# Set ticks\n",
    "ax.set_xticks(range(len(corr_matrix.columns)))\n",
    "ax.set_xticklabels(corr_matrix.columns, rotation=\"vertical\")\n",
    "ax.set_yticks(range(len(corr_matrix.columns)))\n",
    "ax.set_yticklabels(corr_matrix.columns)\n",
    "\n",
    "\n",
    "# Add color bar\n",
    "fig.colorbar(cax)\n",
    "\n",
    "\n",
    "# Add text annotations\n",
    "for i in range(len(corr_matrix.columns)):\n",
    "    for j in range(len(corr_matrix.columns)):\n",
    "        ax.text(j, i, f\"{corr_matrix.iloc[i, j]:.2f}\", ha=\"center\", va=\"center\", color=\"w\")\n",
    "\n",
    "# Display the plot\n",
    "plt.show()\n"
   ]
  },
  {
   "cell_type": "code",
   "execution_count": null,
   "id": "c0fe191b-58af-46a1-88fd-60a1e8289195",
   "metadata": {},
   "outputs": [],
   "source": []
  },
  {
   "cell_type": "markdown",
   "id": "d591fdbc-f84d-4736-b47b-074dd0ac464d",
   "metadata": {},
   "source": [
    "### Frequency of walking bouts over time:"
   ]
  },
  {
   "cell_type": "code",
   "execution_count": null,
   "id": "1bf194fd-c2e6-41da-9a1e-cca7f3a06d1f",
   "metadata": {},
   "outputs": [],
   "source": [
    "data_wide.hist('time_stamps_hours')\n",
    "plt.xlabel(\"hours after beginning of recording\")\n",
    "plt.ylabel(\"frequency of walking bouts\")"
   ]
  },
  {
   "cell_type": "markdown",
   "id": "8094783b-b14d-4526-8e70-7f210a500e6c",
   "metadata": {},
   "source": [
    "### Frequency of walking bouts over time before vs after rehab:"
   ]
  },
  {
   "cell_type": "code",
   "execution_count": null,
   "id": "3cb13e12-3254-42df-98e3-73d8cea3fea3",
   "metadata": {},
   "outputs": [],
   "source": [
    "data_wide_before_rh = data_wide[data_wide.exp_phase_id == 'T2'].copy()\n",
    "data_wide_after_rh = data_wide[data_wide.exp_phase_id == 'T3'].copy()"
   ]
  },
  {
   "cell_type": "code",
   "execution_count": null,
   "id": "0bc5aced-8219-43dc-ac23-57baa99539a2",
   "metadata": {},
   "outputs": [],
   "source": [
    "data_wide_before_rh.hist('time_stamps_hours')\n",
    "plt.xlabel(\"hours after beginning of recording\")\n",
    "plt.ylabel(\"frequency of walking bouts\")\n",
    "plt.title('Frequency of walking bouts before rehab:')"
   ]
  },
  {
   "cell_type": "code",
   "execution_count": null,
   "id": "8ca2cb2b-eedd-49a5-b614-919669dc4c74",
   "metadata": {},
   "outputs": [],
   "source": [
    "data_wide_after_rh.hist('time_stamps_hours')\n",
    "plt.xlabel(\"hours after beginning of recording\")\n",
    "plt.ylabel(\"frequency of walking bouts\")\n",
    "plt.title('Frequency of walking bouts after rehab:')"
   ]
  },
  {
   "cell_type": "markdown",
   "id": "36ed58e4-4ce1-4c43-ab24-6fd0baf7b744",
   "metadata": {},
   "source": [
    "#### There seems to be a slight decrease in frequency of walking bouts over time during recording."
   ]
  },
  {
   "cell_type": "code",
   "execution_count": null,
   "id": "e86237a9-35ac-4975-aea9-38f91b206ffd",
   "metadata": {},
   "outputs": [],
   "source": []
  },
  {
   "cell_type": "markdown",
   "id": "34f37cf7-d9e0-448a-870d-4adb44aeb6e6",
   "metadata": {},
   "source": [
    "### More walking bouts before than after rehab: Is this possible?"
   ]
  },
  {
   "cell_type": "code",
   "execution_count": null,
   "id": "1f56f6ad-fc2e-471a-8463-1a2255742afe",
   "metadata": {},
   "outputs": [],
   "source": [
    "print(data_wide_before_rh.shape)\n",
    "print(data_wide_after_rh.shape)"
   ]
  },
  {
   "cell_type": "code",
   "execution_count": null,
   "id": "1910e6cb-0844-4a62-9634-20ff8c070758",
   "metadata": {},
   "outputs": [],
   "source": [
    "print(len(set(data_wide_before_rh.file_name)))\n",
    "print(len(set(data_wide_after_rh.file_name)))"
   ]
  },
  {
   "cell_type": "code",
   "execution_count": null,
   "id": "c0a52bfc-3376-4b8b-9dfb-77996041e473",
   "metadata": {},
   "outputs": [],
   "source": []
  },
  {
   "cell_type": "code",
   "execution_count": null,
   "id": "c45d188a-15c1-4f65-9e98-d04818641140",
   "metadata": {},
   "outputs": [],
   "source": [
    "data_wide.head()"
   ]
  },
  {
   "cell_type": "code",
   "execution_count": null,
   "id": "c60e73da-e63b-44c6-a97c-9ca67e6935ea",
   "metadata": {},
   "outputs": [],
   "source": []
  },
  {
   "cell_type": "markdown",
   "id": "a9119288-48db-4f72-b348-b389e7572678",
   "metadata": {},
   "source": [
    "### K-means clustering to check if I stumble over anything interesting:"
   ]
  },
  {
   "cell_type": "code",
   "execution_count": null,
   "id": "b1f2ef25-86b7-4b30-9738-d3a7cbd344cf",
   "metadata": {},
   "outputs": [],
   "source": [
    "numerical_var_names = list(data_wide.iloc[:,8:].columns)"
   ]
  },
  {
   "cell_type": "code",
   "execution_count": null,
   "id": "3be0f82f-2bbd-43d7-98ff-93c386316a4b",
   "metadata": {},
   "outputs": [],
   "source": [
    "# Get the numerical variables:\n",
    "numerical_variables = data_wide[numerical_var_names]\n",
    "numerical_variables"
   ]
  },
  {
   "cell_type": "markdown",
   "id": "9e5581b1-898c-48bd-8315-ebb787ab7e46",
   "metadata": {},
   "source": [
    "#### Scale variables and put them into a numpy array:"
   ]
  },
  {
   "cell_type": "code",
   "execution_count": null,
   "id": "43e5cc55-5c84-4e35-b4ff-eac79d23ba64",
   "metadata": {},
   "outputs": [],
   "source": [
    "num_pipeline = Pipeline([\n",
    "        ('std_scaler', StandardScaler()),\n",
    "    ])"
   ]
  },
  {
   "cell_type": "code",
   "execution_count": null,
   "id": "20f624dc-3a94-4ec0-a07a-b1cefa2a118b",
   "metadata": {},
   "outputs": [],
   "source": [
    "num_attribs = list(numerical_variables)\n",
    "#cat_attribs = [\"ocean_proximity\"]\n",
    "\n",
    "full_pipeline = ColumnTransformer([\n",
    "        (\"num\", num_pipeline, num_attribs),\n",
    "        #(\"cat\", OneHotEncoder(), cat_attribs),\n",
    "    ])\n",
    "\n",
    "#num_vars_prepared = full_pipeline.fit_transform(num_vars_select)\n",
    "num_vars_prepared = full_pipeline.fit_transform(numerical_variables)"
   ]
  },
  {
   "cell_type": "code",
   "execution_count": null,
   "id": "a9e29f30-df9c-4107-8e44-8c7ef50dd539",
   "metadata": {},
   "outputs": [],
   "source": []
  },
  {
   "cell_type": "markdown",
   "id": "d47d5120-09eb-4494-b6e0-32fdc970435c",
   "metadata": {},
   "source": [
    "#### Optimal number of clusters not obvious as there is no inertia inflection point:"
   ]
  },
  {
   "cell_type": "code",
   "execution_count": null,
   "id": "ed0eeada-0003-4dc9-adcf-14367d3b09c8",
   "metadata": {},
   "outputs": [],
   "source": [
    "inertias = []\n",
    "\n",
    "for i in range(1,11):\n",
    "    kmeans = KMeans(n_clusters=i)\n",
    "    kmeans.fit(num_vars_prepared)\n",
    "    #kmeans.fit(numerical_variables)\n",
    "    inertias.append(kmeans.inertia_)\n",
    "\n",
    "plt.plot(range(1,11), inertias, marker='o')\n",
    "plt.title('Elbow method')\n",
    "plt.xlabel('Number of clusters')\n",
    "plt.ylabel('Inertia')\n",
    "plt.show()"
   ]
  },
  {
   "cell_type": "code",
   "execution_count": null,
   "id": "7394e8af-a4aa-4445-b812-962c2b1050d4",
   "metadata": {},
   "outputs": [],
   "source": [
    "kmeans = KMeans(n_clusters=3)\n",
    "#kmeans.fit(num_data)\n",
    "kmeans.fit(num_vars_prepared)"
   ]
  },
  {
   "cell_type": "code",
   "execution_count": null,
   "id": "b6288080-fe74-4a96-a86c-04eca8ae2d6f",
   "metadata": {},
   "outputs": [],
   "source": [
    "print(num_vars_prepared.shape)\n",
    "print(numerical_variables.shape)\n",
    "print(data_wide.shape)"
   ]
  },
  {
   "cell_type": "code",
   "execution_count": null,
   "id": "b6fdea03-bf6a-4710-aa7d-5d2ed7ce09e0",
   "metadata": {},
   "outputs": [],
   "source": [
    "data_wide_l = data_wide.copy()\n",
    "data_wide_l['kmeans_labels'] = kmeans.labels_\n",
    "data_wide_l_T2 = data_wide_l.loc[data_wide_l.exp_phase_id == 'T2',:]\n",
    "data_wide_l_T3 = data_wide_l.loc[data_wide_l.exp_phase_id == 'T3',:]"
   ]
  },
  {
   "cell_type": "markdown",
   "id": "61fc47ed-df07-4e36-906c-1a63a0b60a93",
   "metadata": {},
   "source": [
    "#### Clusters do not coincide with phase of experiment (exp_phase_one_hot) and see to be equally distributed over time:"
   ]
  },
  {
   "cell_type": "code",
   "execution_count": null,
   "id": "38ab1603-34e6-4b8e-aa25-78ea61fefada",
   "metadata": {},
   "outputs": [],
   "source": [
    "index_1 = 6\n",
    "index_2 = 4\n",
    "index_3 = 10\n",
    "\n",
    "\n",
    "print(data_wide_l.columns[index_1])\n",
    "print(data_wide_l.columns[index_2])\n",
    "print(data_wide_l.columns[index_3])\n",
    "\n",
    "\n",
    "plt.figure(figsize=(9, 9))\n",
    "\n",
    "#X_inverse = rbf_pca.inverse_transform(X_reduced_rbf)\n",
    "\n",
    "ax = plt.subplot(111, projection='3d')\n",
    "ax.view_init(10, -70)\n",
    "\n",
    "scatter = ax.scatter(data_wide_l.iloc[:, index_1], data_wide_l.iloc[:, index_2], \n",
    "           data_wide_l.iloc[:, index_3], \n",
    "           c=kmeans.labels_, cmap=plt.get_cmap(\"jet\"), \n",
    "           marker=\"o\")\n",
    "ax.set_xlabel(data_wide_l.columns[index_1])\n",
    "ax.set_ylabel(data_wide_l.columns[index_2])\n",
    "ax.set_zlabel(data_wide_l.columns[index_3])\n",
    "#ax.set_xticklabels([])\n",
    "#ax.set_yticklabels([])\n",
    "#ax.set_zticklabels([])\n",
    "\n",
    "# produce a legend with a cross-section of sizes from the scatter\n",
    "handles, labels = scatter.legend_elements()\n",
    "legend2 = ax.legend(handles, labels, loc=\"upper right\", title=\"Clusters\")\n",
    "\n",
    "#save_fig(\"preimage_plot\", tight_layout=False)\n",
    "plt.show()"
   ]
  },
  {
   "cell_type": "code",
   "execution_count": null,
   "id": "fcf7022d-6a90-491d-9b6a-3674edae090f",
   "metadata": {},
   "outputs": [],
   "source": [
    "data_wide_l.columns"
   ]
  },
  {
   "cell_type": "markdown",
   "id": "7aecb527-63d6-4243-9ade-9ef072abed71",
   "metadata": {},
   "source": [
    "#### Clusters seem to be based on a somewhat trianguar shaped data distribution:"
   ]
  },
  {
   "cell_type": "code",
   "execution_count": null,
   "id": "3e6663cf-c502-4d77-bc8b-9b598faf94b1",
   "metadata": {},
   "outputs": [],
   "source": [
    "index_1 = 11\n",
    "index_2 = 8\n",
    "index_3 = 10\n",
    "\n",
    "\n",
    "print(data_wide_l.columns[index_1])\n",
    "print(data_wide_l.columns[index_2])\n",
    "print(data_wide_l.columns[index_3])\n",
    "\n",
    "\n",
    "plt.figure(figsize=(9, 9))\n",
    "\n",
    "#X_inverse = rbf_pca.inverse_transform(X_reduced_rbf)\n",
    "\n",
    "ax = plt.subplot(111, projection='3d')\n",
    "ax.view_init(10, -70)\n",
    "\n",
    "scatter = ax.scatter(data_wide_l.iloc[:, index_1], data_wide_l.iloc[:, index_2], \n",
    "           data_wide_l.iloc[:, index_3], \n",
    "           c=kmeans.labels_, cmap=plt.get_cmap(\"jet\"), \n",
    "           marker=\"o\")\n",
    "ax.set_xlabel(data_wide_l.columns[index_1])\n",
    "ax.set_ylabel(data_wide_l.columns[index_2])\n",
    "ax.set_zlabel(data_wide_l.columns[index_3])\n",
    "#ax.set_xticklabels([])\n",
    "#ax.set_yticklabels([])\n",
    "#ax.set_zticklabels([])\n",
    "\n",
    "# produce a legend with a cross-section of sizes from the scatter\n",
    "handles, labels = scatter.legend_elements()\n",
    "legend2 = ax.legend(handles, labels, loc=\"upper right\", title=\"Clusters\")\n",
    "\n",
    "#save_fig(\"preimage_plot\", tight_layout=False)\n",
    "plt.show()"
   ]
  },
  {
   "cell_type": "code",
   "execution_count": null,
   "id": "04018400-850c-4c5a-bfa5-52e0d7e54bf2",
   "metadata": {},
   "outputs": [],
   "source": [
    "index_1 = 10\n",
    "index_2 = 8\n",
    "index_3 = 11\n",
    "\n",
    "\n",
    "print(data_wide_l.columns[index_1])\n",
    "print(data_wide_l.columns[index_2])\n",
    "print(data_wide_l.columns[index_3])\n",
    "\n",
    "\n",
    "plt.figure(figsize=(9, 9))\n",
    "\n",
    "#X_inverse = rbf_pca.inverse_transform(X_reduced_rbf)\n",
    "\n",
    "ax = plt.subplot(111, projection='3d')\n",
    "ax.view_init(10, -70)\n",
    "\n",
    "scatter = ax.scatter(data_wide_l.iloc[:, index_1], data_wide_l.iloc[:, index_2], \n",
    "           data_wide_l.iloc[:, index_3], \n",
    "           c=kmeans.labels_, cmap=plt.get_cmap(\"jet\"), \n",
    "           marker=\"o\")\n",
    "ax.set_xlabel(data_wide_l.columns[index_1])\n",
    "ax.set_ylabel(data_wide_l.columns[index_2])\n",
    "ax.set_zlabel(data_wide_l.columns[index_3])\n",
    "#ax.set_xticklabels([])\n",
    "#ax.set_yticklabels([])\n",
    "#ax.set_zticklabels([])\n",
    "\n",
    "# produce a legend with a cross-section of sizes from the scatter\n",
    "handles, labels = scatter.legend_elements()\n",
    "legend2 = ax.legend(handles, labels, loc=\"upper right\", title=\"Clusters\")\n",
    "\n",
    "#save_fig(\"preimage_plot\", tight_layout=False)\n",
    "plt.show()"
   ]
  },
  {
   "cell_type": "markdown",
   "id": "40d8dc39-19ac-4cb6-a5e1-f568414825ea",
   "metadata": {},
   "source": [
    "#### The data shape reflects the fact that walking time varies most at a particular mean cadence and stride length standard deviation:"
   ]
  },
  {
   "cell_type": "code",
   "execution_count": null,
   "id": "ed2c5eeb-ba3d-4ebe-8adb-0b257c709083",
   "metadata": {},
   "outputs": [],
   "source": [
    "ax = plt.subplot()\n",
    "scatter = ax.scatter(data_wide_l.cadence_mean, data_wide_l.WB_time, alpha=0.4,\n",
    "          c=data_wide_l.kmeans_labels, cmap=plt.get_cmap(\"jet\"))\n",
    "# produce a legend with a cross-section of sizes from the scatter\n",
    "handles, labels = scatter.legend_elements()\n",
    "legend2 = ax.legend(handles, labels, loc=\"upper right\", title=\"Clusters\")\n",
    "ax.set_xlabel(\"cadence_mean\")\n",
    "ax.set_ylabel(\"WB_time\")"
   ]
  },
  {
   "cell_type": "code",
   "execution_count": null,
   "id": "fded078c-40ed-453e-8c75-808c647d354a",
   "metadata": {},
   "outputs": [],
   "source": [
    "ax = plt.subplot()\n",
    "scatter = ax.scatter(data_wide_l.slength_std, data_wide_l.WB_time, alpha=0.4,\n",
    "          c=data_wide_l.kmeans_labels, cmap=plt.get_cmap(\"jet\"))\n",
    "# produce a legend with a cross-section of sizes from the scatter\n",
    "handles, labels = scatter.legend_elements()\n",
    "legend2 = ax.legend(handles, labels, loc=\"upper right\", title=\"Clusters\")\n",
    "ax.set_xlabel(\"slength_std\")\n",
    "ax.set_ylabel(\"WB_time\")"
   ]
  },
  {
   "cell_type": "markdown",
   "id": "64f30997-bae9-4ae4-bc93-00a2eae0fea8",
   "metadata": {},
   "source": [
    "#### The cluster on the right has higher mean speed values and contrary to the other two clusters seems to show correlation between mean speed and walking bout time:"
   ]
  },
  {
   "cell_type": "code",
   "execution_count": null,
   "id": "34707949-d509-4d2d-9ea4-2e830da22777",
   "metadata": {},
   "outputs": [],
   "source": [
    "ax = plt.subplot()\n",
    "scatter = ax.scatter(data_wide_l.speed_mean, data_wide_l.WB_time, alpha=0.4,\n",
    "          c=data_wide_l.kmeans_labels, cmap=plt.get_cmap(\"jet\"))\n",
    "# produce a legend with a cross-section of sizes from the scatter\n",
    "handles, labels = scatter.legend_elements()\n",
    "legend2 = ax.legend(handles, labels, loc=\"upper right\", title=\"Clusters\")\n",
    "ax.set_xlabel(\"speed_mean\")\n",
    "ax.set_ylabel(\"WB_time\")"
   ]
  },
  {
   "cell_type": "code",
   "execution_count": null,
   "id": "9b10b0c9-bb35-4348-89b6-552e5146b1c7",
   "metadata": {},
   "outputs": [],
   "source": [
    "data_wide_l.plot(kind=\"scatter\", x=\"cadence_mean\", y=\"speed_mean\", alpha=0.4,\n",
    "    c=\"kmeans_labels\", cmap=plt.get_cmap(\"jet\"), colorbar=False,\n",
    "    sharex=True)\n",
    "\n",
    "plt.show()"
   ]
  },
  {
   "cell_type": "code",
   "execution_count": null,
   "id": "832542ba-8021-4917-979c-f58bf05beefc",
   "metadata": {},
   "outputs": [],
   "source": [
    "ax = plt.subplot()\n",
    "scatter = ax.scatter(data_wide_l.cadence_mean, data_wide_l.speed_mean, alpha=0.4,\n",
    "          c=data_wide_l.kmeans_labels, cmap=plt.get_cmap(\"jet\"))\n",
    "# produce a legend with a cross-section of sizes from the scatter\n",
    "handles, labels = scatter.legend_elements()\n",
    "legend2 = ax.legend(handles, labels, loc=\"upper right\", title=\"Clusters\")\n",
    "ax.set_xlabel(\"cadence_mean\")\n",
    "ax.set_ylabel(\"speed_mean\")"
   ]
  },
  {
   "cell_type": "code",
   "execution_count": null,
   "id": "318643e6-2957-4671-a203-a50ff253d013",
   "metadata": {},
   "outputs": [],
   "source": []
  },
  {
   "cell_type": "code",
   "execution_count": null,
   "id": "254bfa74-84a6-48c6-a72c-9e357dcd9268",
   "metadata": {},
   "outputs": [],
   "source": []
  }
 ],
 "metadata": {
  "kernelspec": {
   "display_name": "Python 3 (ipykernel)",
   "language": "python",
   "name": "python3"
  },
  "language_info": {
   "codemirror_mode": {
    "name": "ipython",
    "version": 3
   },
   "file_extension": ".py",
   "mimetype": "text/x-python",
   "name": "python",
   "nbconvert_exporter": "python",
   "pygments_lexer": "ipython3",
   "version": "3.12.3"
  }
 },
 "nbformat": 4,
 "nbformat_minor": 5
}
