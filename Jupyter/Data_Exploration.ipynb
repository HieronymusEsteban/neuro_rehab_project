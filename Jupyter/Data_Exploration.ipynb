{
 "cells": [
  {
   "cell_type": "markdown",
   "id": "952b4d49-ea63-46f1-8bc6-9d150115e6e1",
   "metadata": {},
   "source": [
    "# Unsupervised learning used in the context of exploratory data analysis (module 1 of the CAS in advanced machine learning, university of Bern)"
   ]
  },
  {
   "cell_type": "markdown",
   "id": "6357c8ac-f34a-47ca-b713-35db4ee6bc3e",
   "metadata": {},
   "source": [
    "## Credit:\n",
    "#### Data:\n",
    "Dr. med. R. Gonzenbach (neuro-rehabilitation clinic Valens) was so generous to provide the data for this analysis. \n",
    "#### Feature extraction and data aggregation:\n",
    "Feature extraction from the raw data (data from movement sensors worn by patients) was performed by an algorithm developped at EPFL by Gaëlle Prigent et al. (2023): \n",
    "https://link.springer.com/article/10.1007/s11517-023-02826-x"
   ]
  },
  {
   "cell_type": "markdown",
   "id": "b4808fa5-6fcb-438a-93ed-c75db45cd352",
   "metadata": {},
   "source": [
    "## Description of the data and the project: \n",
    "#### Data recording and aggregation:\n",
    "The present data are aggregated data from movement sensors worn by patients that underwent neuro-rehabilitation treatment. The walking detection algorithm identified walking bouts. Then average descriptors of the walking bouts such as mean speed, mean stride length etc. were calculated per patient before and after neuro-rehabilitation treatment. The raw data was recorded on several days for periods of 12 hours but only segments of 8 hours (starting from the first movement detected) were provided in order to have the same data length for all patients. \n",
    "For details see Gaëlle Prigent et al. (2024): \n",
    "https://jneuroengrehab.biomedcentral.com/articles/10.1186/s12984-024-01383-0\n",
    "\n",
    "Data from different days were pooled for each patient to mean values and standard deviations of the variables in question (speed, stride length, cadence, walking bout time, etc). For the present project I only use these aggregated variables (no raw data).\n",
    "\n",
    "#### Objective\n",
    "The goal of this project is to assess if movement patterns changed over the course of the from morning to evening. While machine learning is unlikely to be necessary or useful for the final analysis, it can be useful in data exploration. I use k-means clustering here, to see if there are any interesting groups of patients sharing interesting characteristics. "
   ]
  },
  {
   "cell_type": "code",
   "execution_count": null,
   "id": "f41f1255-b1b0-4aeb-93d7-681058931e4e",
   "metadata": {},
   "outputs": [],
   "source": [
    "import pandas as pd\n",
    "import numpy as np\n",
    "import scipy.io as sio\n",
    "import os\n",
    "import re\n",
    "import matplotlib.pyplot as plt\n",
    "import source.transform_data as trs\n",
    "import source.check_data as chd\n",
    "from pathlib import Path\n",
    "from scipy.cluster.hierarchy import dendrogram, linkage\n",
    "from scipy.spatial.distance import pdist\n",
    "from sklearn.cluster import AgglomerativeClustering \n",
    "from sklearn.cluster import KMeans \n",
    "\n",
    "from sklearn.pipeline import Pipeline\n",
    "from sklearn.preprocessing import StandardScaler\n",
    "from sklearn.compose import ColumnTransformer"
   ]
  },
  {
   "cell_type": "markdown",
   "id": "7aff8431-3f9f-48e4-a47d-f30bedf52f42",
   "metadata": {},
   "source": [
    "## Load data:"
   ]
  },
  {
   "cell_type": "code",
   "execution_count": null,
   "id": "4022ca77-3e74-4ea5-b723-017fbdd7ef97",
   "metadata": {},
   "outputs": [],
   "source": [
    "path_to_data = Path('Data')"
   ]
  },
  {
   "cell_type": "code",
   "execution_count": null,
   "id": "5e94a8f6-cf5e-4fc9-9482-ad7c2857ef15",
   "metadata": {},
   "outputs": [],
   "source": [
    "data_wide = pd.read_csv(path_to_data/'data_table_wide.csv', index_col=None)"
   ]
  },
  {
   "cell_type": "markdown",
   "id": "9cf2ce5d-1ef0-46b3-bd0a-2c1b7b685115",
   "metadata": {},
   "source": [
    "#### For every patient (subject) data from two files were extracted. One file contains the data from before neuro-rehabilitation (T2) and one the data from afterwards (T3). The present data frame is in wide format, i.e. every column contains a variable. "
   ]
  },
  {
   "cell_type": "code",
   "execution_count": null,
   "id": "3fe8da70-04fd-4563-a6d7-5e2def7d76b8",
   "metadata": {},
   "outputs": [],
   "source": [
    "data_wide.head()"
   ]
  },
  {
   "cell_type": "markdown",
   "id": "d18f87ef-3e2b-4f0d-8b40-90d89e26ddeb",
   "metadata": {},
   "source": [
    "### Number of walking bouts before vs after rehabilitation treatment:"
   ]
  },
  {
   "cell_type": "code",
   "execution_count": null,
   "id": "f5c22217-d8c3-43bf-9e81-fbd1c5ac0544",
   "metadata": {},
   "outputs": [],
   "source": [
    "data_wide.value_counts('exp_phase_id')"
   ]
  },
  {
   "cell_type": "code",
   "execution_count": null,
   "id": "9132aedf-1011-4a70-b0ee-639967749edb",
   "metadata": {},
   "outputs": [],
   "source": [
    "data_wide.value_counts('exp_phase_descr')"
   ]
  },
  {
   "cell_type": "markdown",
   "id": "d50aa316-0f80-4e80-a0fb-b80d74d264df",
   "metadata": {},
   "source": [
    "### It looks like for most subjects we have measurements during a period of 8 hours:"
   ]
  },
  {
   "cell_type": "code",
   "execution_count": null,
   "id": "5aff0812-8451-4cc0-9d27-29a5a4da1ec7",
   "metadata": {},
   "outputs": [],
   "source": [
    "ax = plt.subplot()\n",
    "scatter = ax.scatter(data_wide.time_stamps_hours, data_wide.speed_mean, alpha=0.4)\n",
    "ax.set_xlabel(\"hours after beginning of recording\")\n",
    "ax.set_ylabel(\"mean speed during walking bout\")"
   ]
  },
  {
   "cell_type": "markdown",
   "id": "f2017489-01df-42db-84a2-33afe72c9d88",
   "metadata": {},
   "source": [
    "#### Is it appropriate to only consider walking bouts within 8 hours and disregard later walking bouts? \n",
    "This is only appropriate if patients did not switch of the movement sensors prematurely. If for every patient we have indeed a measuring period of 8 hours, we could subdivide the 8 hours or recording into two phases of 4 hours each (morning and afternoon). The above plot (as well as the methods section in Gaëlle Prigent et al. (2024) suggests that this is the case. Nonetheless, I shall verify this further: "
   ]
  },
  {
   "cell_type": "markdown",
   "id": "fdf39a4e-72a0-4f58-95a2-ec8a8c09f687",
   "metadata": {},
   "source": [
    "### Verify if for every patient there is activity throughout the 8 hours time span:"
   ]
  },
  {
   "cell_type": "code",
   "execution_count": null,
   "id": "64f8f7fa-814d-44b1-9086-1dfe08a42609",
   "metadata": {},
   "outputs": [],
   "source": [
    "len(set(data_wide.subject))"
   ]
  },
  {
   "cell_type": "markdown",
   "id": "f5943bb5-c497-4645-9460-f6596bae61e3",
   "metadata": {},
   "source": [
    "#### Assign bins and labels to one hour time spans:"
   ]
  },
  {
   "cell_type": "code",
   "execution_count": null,
   "id": "faaf8c41-5108-4501-8e5f-edd803b33d01",
   "metadata": {},
   "outputs": [],
   "source": [
    "data_wide[\"time_stamps_bins\"] = pd.cut(data_wide[\"time_stamps_hours\"],\n",
    "                               bins=[0, 1, 2, 3, 4, 5, 6, 7, 8, np.inf],\n",
    "                               labels=[1, 2, 3, 4, 5, 6, 7, 8, 9])"
   ]
  },
  {
   "cell_type": "code",
   "execution_count": null,
   "id": "5114db37-0262-444e-966b-23606195018b",
   "metadata": {},
   "outputs": [],
   "source": [
    "data_wide[\"time_stamps_bins\"].dtype"
   ]
  },
  {
   "cell_type": "markdown",
   "id": "aa733c42-b74b-4300-98c0-a3f960edc5f2",
   "metadata": {},
   "source": [
    "#### Count unique patients per time bin:"
   ]
  },
  {
   "cell_type": "code",
   "execution_count": null,
   "id": "9ffab804-c3b9-4c72-9b29-7c1c1480545a",
   "metadata": {},
   "outputs": [],
   "source": [
    "time_bins = list(set(data_wide[\"time_stamps_bins\"]))\n",
    "subjects_per_hour = chd.count_unique_subjects_per_hour(data_wide, time_bins)"
   ]
  },
  {
   "cell_type": "code",
   "execution_count": null,
   "id": "e38a5f22-d735-488d-b162-0af77f6fe725",
   "metadata": {},
   "outputs": [],
   "source": [
    "subjects_per_hour"
   ]
  },
  {
   "cell_type": "markdown",
   "id": "c307aeca-8ca9-405b-b4c3-33bd6c4a17ea",
   "metadata": {},
   "source": [
    "Hours 4 and 7 had only 42 subjects, during every other hour during the 8 hours time span contains all 43 subjects."
   ]
  },
  {
   "cell_type": "markdown",
   "id": "d9c3922d-64d3-4cfe-afca-6beb3e38f7c3",
   "metadata": {},
   "source": [
    "#### Conclusion: No evidence for subject switching off their device prematurely (every subject active throughout 8 hours recording time span)"
   ]
  },
  {
   "cell_type": "markdown",
   "id": "e9e1fa21-1e28-4cfa-80bd-7219e095db87",
   "metadata": {},
   "source": [
    "### Number of walking bouts morning vs afternoon:"
   ]
  },
  {
   "cell_type": "code",
   "execution_count": null,
   "id": "9dbd5b13-b454-43f2-a441-1d7828bc7675",
   "metadata": {},
   "outputs": [],
   "source": [
    "data_wide.value_counts('morning_afternoon')"
   ]
  },
  {
   "cell_type": "markdown",
   "id": "f71c3a60-1100-429a-9678-ca127a36d046",
   "metadata": {},
   "source": [
    "### Correlation matrix:"
   ]
  },
  {
   "cell_type": "code",
   "execution_count": null,
   "id": "8b2f676f-fc6f-487a-a8fc-2ca2eae232d0",
   "metadata": {},
   "outputs": [],
   "source": [
    "data_wide.head()\n",
    "data_wide_for_corr = data_wide.copy()"
   ]
  },
  {
   "cell_type": "code",
   "execution_count": null,
   "id": "ec201217-1156-47eb-91bb-13ba5557aad5",
   "metadata": {},
   "outputs": [],
   "source": [
    "data_wide_for_corr = data_wide_for_corr.drop('time_stamps', axis=1)\n",
    "data_wide_for_corr = data_wide_for_corr.drop('morning_afternoon', axis=1)\n",
    "data_wide_for_corr.head()"
   ]
  },
  {
   "cell_type": "code",
   "execution_count": null,
   "id": "3969b29c-3665-4705-919a-ec4dcf08d32c",
   "metadata": {},
   "outputs": [],
   "source": [
    "data_wide_num = data_wide_for_corr.iloc[:,5:].copy()\n",
    "\n",
    "corr_matrix = data_wide_num.corr(method='spearman')\n",
    "\n",
    "plt.figure(figsize=(10, 10))\n",
    "\n",
    "# Create a figure and axes with the desired size\n",
    "fig, ax = plt.subplots(figsize=(10, 10))  # Adjust the figsize to make squares larger\n",
    "\n",
    "# Plot the matrix using matshow on the created axes\n",
    "cax = ax.matshow(corr_matrix, cmap=\"viridis\")\n",
    "\n",
    "# Set ticks\n",
    "ax.set_xticks(range(len(corr_matrix.columns)))\n",
    "ax.set_xticklabels(corr_matrix.columns, rotation=\"vertical\")\n",
    "ax.set_yticks(range(len(corr_matrix.columns)))\n",
    "ax.set_yticklabels(corr_matrix.columns)\n",
    "\n",
    "\n",
    "# Add color bar\n",
    "fig.colorbar(cax)\n",
    "\n",
    "\n",
    "# Add text annotations\n",
    "for i in range(len(corr_matrix.columns)):\n",
    "    for j in range(len(corr_matrix.columns)):\n",
    "        ax.text(j, i, f\"{corr_matrix.iloc[i, j]:.2f}\", ha=\"center\", va=\"center\", color=\"w\")\n",
    "\n",
    "# Display the plot\n",
    "plt.show()\n"
   ]
  },
  {
   "cell_type": "markdown",
   "id": "5a68c7f7-8e00-4461-9019-10ca5159d54d",
   "metadata": {},
   "source": [
    "#### Conclusion: \n",
    "The correlations are more or less as expected: E.g. Speed (speed_mean) correlates with stride length (slength_mean) and cadence (cadence_mean). Unfortunately, time_stamps_hours, which indicated the hours after begin of recording does not correlate with any interesting variable."
   ]
  },
  {
   "cell_type": "markdown",
   "id": "d591fdbc-f84d-4736-b47b-074dd0ac464d",
   "metadata": {},
   "source": [
    "### Frequency of walking bouts over time:"
   ]
  },
  {
   "cell_type": "code",
   "execution_count": null,
   "id": "1bf194fd-c2e6-41da-9a1e-cca7f3a06d1f",
   "metadata": {},
   "outputs": [],
   "source": [
    "data_wide.hist('time_stamps_hours')\n",
    "plt.xlabel(\"hours after beginning of recording\")\n",
    "plt.ylabel(\"frequency of walking bouts\")"
   ]
  },
  {
   "cell_type": "markdown",
   "id": "f517001f-060d-4de6-bdd7-9db3e463e54f",
   "metadata": {},
   "source": [
    "#### It looks like the frequency of walking bouts decrease over time during the day."
   ]
  },
  {
   "cell_type": "markdown",
   "id": "8094783b-b14d-4526-8e70-7f210a500e6c",
   "metadata": {},
   "source": [
    "### Frequency of walking bouts over time before vs after rehab:"
   ]
  },
  {
   "cell_type": "code",
   "execution_count": null,
   "id": "3cb13e12-3254-42df-98e3-73d8cea3fea3",
   "metadata": {},
   "outputs": [],
   "source": [
    "data_wide_before_rh = data_wide[data_wide.exp_phase_id == 'T2'].copy()\n",
    "data_wide_after_rh = data_wide[data_wide.exp_phase_id == 'T3'].copy()"
   ]
  },
  {
   "cell_type": "markdown",
   "id": "0a3468aa-035c-4074-9b1b-1cc6b828ecdb",
   "metadata": {},
   "source": [
    "#### Make sure all subjects are present throughout all 8 hours of measuring (no one switched their device off prematurely) before and after rehab:"
   ]
  },
  {
   "cell_type": "code",
   "execution_count": null,
   "id": "7cc50d6b-8760-458b-8c8b-539e19f5f265",
   "metadata": {},
   "outputs": [],
   "source": [
    "time_bins = list(set(data_wide_before_rh[\"time_stamps_bins\"]))\n",
    "subjects_per_hour = chd.count_unique_subjects_per_hour(data_wide_before_rh, time_bins)\n",
    "subjects_per_hour"
   ]
  },
  {
   "cell_type": "code",
   "execution_count": null,
   "id": "0bb1fc4b-b909-45c3-a565-db05632f8c46",
   "metadata": {},
   "outputs": [],
   "source": [
    "time_bin_selection = list(range(2,5))\n",
    "selection_bools = data_wide_before_rh.time_stamps_bins.isin(time_bin_selection)\n",
    "time_bins_lacking_one_s = data_wide_before_rh.loc[selection_bools]\n",
    "subjects_2_4 = set(time_bins_lacking_one_s.subject)\n",
    "len(set(subjects_2_4))"
   ]
  },
  {
   "cell_type": "code",
   "execution_count": null,
   "id": "104e257f-7ea7-45f9-ae93-463ff4a835b8",
   "metadata": {},
   "outputs": [],
   "source": [
    "every_subject = set(data_wide.subject)\n",
    "every_subject - subjects_2_4"
   ]
  },
  {
   "cell_type": "markdown",
   "id": "9b1de223-ebc2-458a-b02c-c50dd8963360",
   "metadata": {},
   "source": [
    "Apparently, subject 8 is missing during time bins 2 - 3."
   ]
  },
  {
   "cell_type": "code",
   "execution_count": null,
   "id": "7ebe6273-d512-4c58-921c-49b7abb71c7a",
   "metadata": {},
   "outputs": [],
   "source": [
    "time_bins = list(set(data_wide_after_rh[\"time_stamps_bins\"]))\n",
    "subjects_per_hour = chd.count_unique_subjects_per_hour(data_wide_after_rh, time_bins)\n",
    "subjects_per_hour"
   ]
  },
  {
   "cell_type": "code",
   "execution_count": null,
   "id": "05064a1e-7af4-47bb-993a-4e3387a4b9f4",
   "metadata": {},
   "outputs": [],
   "source": [
    "time_bin_selection = list(range(4,8))\n",
    "selection_bools = data_wide_after_rh.time_stamps_bins.isin(time_bin_selection)\n",
    "time_bins_lacking_one_s = data_wide_after_rh.loc[selection_bools]\n",
    "subjects_4_7 = set(time_bins_lacking_one_s.subject)\n",
    "len(set(subjects_4_7))"
   ]
  },
  {
   "cell_type": "markdown",
   "id": "47246e44-905d-4582-9c3c-c31b20e1fda4",
   "metadata": {},
   "source": [
    "Apparently, subject 8 is missing during time bins 4 - 7."
   ]
  },
  {
   "cell_type": "markdown",
   "id": "55977d5c-805e-4023-bb02-ff1fe56e670e",
   "metadata": {},
   "source": [
    "#### Subject 8 was inactive during 3 hours in the morning before rehab and was inactive during 4 hours in the afternoon after rehab. Did he/she use to take a nap in the morning before rehab and after he/she takes a nap in the afternoon (change of habit)?"
   ]
  },
  {
   "cell_type": "code",
   "execution_count": null,
   "id": "21338b02-e7de-42f8-b744-1ca04f9f40ed",
   "metadata": {},
   "outputs": [],
   "source": [
    "every_subject = set(data_wide.subject)\n",
    "every_subject - subjects_4_7"
   ]
  },
  {
   "cell_type": "code",
   "execution_count": null,
   "id": "fb58a3d9-460d-43c7-b957-56f5318870fe",
   "metadata": {},
   "outputs": [],
   "source": []
  },
  {
   "cell_type": "code",
   "execution_count": null,
   "id": "0bc5aced-8219-43dc-ac23-57baa99539a2",
   "metadata": {},
   "outputs": [],
   "source": [
    "data_wide_before_rh.hist('time_stamps_hours')\n",
    "plt.xlabel(\"hours after beginning of recording\")\n",
    "plt.ylabel(\"frequency of walking bouts\")\n",
    "plt.title('Frequency of walking bouts before rehab:')"
   ]
  },
  {
   "cell_type": "code",
   "execution_count": null,
   "id": "8ca2cb2b-eedd-49a5-b614-919669dc4c74",
   "metadata": {},
   "outputs": [],
   "source": [
    "data_wide_after_rh.hist('time_stamps_hours')\n",
    "plt.xlabel(\"hours after beginning of recording\")\n",
    "plt.ylabel(\"frequency of walking bouts\")\n",
    "plt.title('Frequency of walking bouts after rehab:')"
   ]
  },
  {
   "cell_type": "markdown",
   "id": "36ed58e4-4ce1-4c43-ab24-6fd0baf7b744",
   "metadata": {},
   "source": [
    "#### Conclusion: There seems to be a slight decrease in frequency of walking bouts over time during recording."
   ]
  },
  {
   "cell_type": "code",
   "execution_count": null,
   "id": "e86237a9-35ac-4975-aea9-38f91b206ffd",
   "metadata": {},
   "outputs": [],
   "source": []
  },
  {
   "cell_type": "markdown",
   "id": "34f37cf7-d9e0-448a-870d-4adb44aeb6e6",
   "metadata": {},
   "source": [
    "### More walking bouts before than after rehab:"
   ]
  },
  {
   "cell_type": "code",
   "execution_count": null,
   "id": "1f56f6ad-fc2e-471a-8463-1a2255742afe",
   "metadata": {},
   "outputs": [],
   "source": [
    "print(data_wide_before_rh.shape)\n",
    "print(data_wide_after_rh.shape)"
   ]
  },
  {
   "cell_type": "code",
   "execution_count": null,
   "id": "1910e6cb-0844-4a62-9634-20ff8c070758",
   "metadata": {},
   "outputs": [],
   "source": [
    "print(len(set(data_wide_before_rh.file_name)))\n",
    "print(len(set(data_wide_after_rh.file_name)))"
   ]
  },
  {
   "cell_type": "markdown",
   "id": "80cc36e9-f6a4-439d-a986-1bf19da214b1",
   "metadata": {},
   "source": [
    "#### We cannot draw any conclusions from this fact, as it seems that before rehab patients simply recorded more often (more recording days; see Data_Analysis.ipynb). Since data from all days is pooled, I cannot assess whether or not the number of walking bouts per day changed. "
   ]
  },
  {
   "cell_type": "code",
   "execution_count": null,
   "id": "c45d188a-15c1-4f65-9e98-d04818641140",
   "metadata": {},
   "outputs": [],
   "source": [
    "data_wide.head()"
   ]
  },
  {
   "cell_type": "code",
   "execution_count": null,
   "id": "c60e73da-e63b-44c6-a97c-9ca67e6935ea",
   "metadata": {},
   "outputs": [],
   "source": []
  },
  {
   "cell_type": "markdown",
   "id": "a9119288-48db-4f72-b348-b389e7572678",
   "metadata": {},
   "source": [
    "### K-means clustering to check if I stumble over anything interesting:"
   ]
  },
  {
   "cell_type": "code",
   "execution_count": null,
   "id": "b1f2ef25-86b7-4b30-9738-d3a7cbd344cf",
   "metadata": {},
   "outputs": [],
   "source": [
    "numerical_var_names = list(data_wide.iloc[:,8:].columns)"
   ]
  },
  {
   "cell_type": "code",
   "execution_count": null,
   "id": "3be0f82f-2bbd-43d7-98ff-93c386316a4b",
   "metadata": {},
   "outputs": [],
   "source": [
    "# Get the numerical variables:\n",
    "numerical_variables = data_wide[numerical_var_names]\n",
    "numerical_variables"
   ]
  },
  {
   "cell_type": "markdown",
   "id": "9e5581b1-898c-48bd-8315-ebb787ab7e46",
   "metadata": {},
   "source": [
    "#### Scale variables and put them into a numpy array:"
   ]
  },
  {
   "cell_type": "code",
   "execution_count": null,
   "id": "43e5cc55-5c84-4e35-b4ff-eac79d23ba64",
   "metadata": {},
   "outputs": [],
   "source": [
    "num_pipeline = Pipeline([\n",
    "        ('std_scaler', StandardScaler()),\n",
    "    ])"
   ]
  },
  {
   "cell_type": "code",
   "execution_count": null,
   "id": "20f624dc-3a94-4ec0-a07a-b1cefa2a118b",
   "metadata": {},
   "outputs": [],
   "source": [
    "num_attribs = list(numerical_variables)\n",
    "#cat_attribs = [\"ocean_proximity\"]\n",
    "\n",
    "full_pipeline = ColumnTransformer([\n",
    "        (\"num\", num_pipeline, num_attribs),\n",
    "        #(\"cat\", OneHotEncoder(), cat_attribs),\n",
    "    ])\n",
    "\n",
    "#num_vars_prepared = full_pipeline.fit_transform(num_vars_select)\n",
    "num_vars_prepared = full_pipeline.fit_transform(numerical_variables)"
   ]
  },
  {
   "cell_type": "code",
   "execution_count": null,
   "id": "b99e21a6-b8a6-4c2f-bb5f-8884fb8a3975",
   "metadata": {},
   "outputs": [],
   "source": [
    "numerical_variables.shape"
   ]
  },
  {
   "cell_type": "code",
   "execution_count": null,
   "id": "1282df00-c99f-4fd1-812d-1c174230f4a3",
   "metadata": {},
   "outputs": [],
   "source": [
    "num_vars_prepared.shape"
   ]
  },
  {
   "cell_type": "code",
   "execution_count": null,
   "id": "0896024c-17d9-4d25-bdec-d87178b1ac10",
   "metadata": {},
   "outputs": [],
   "source": []
  },
  {
   "cell_type": "code",
   "execution_count": null,
   "id": "a9e29f30-df9c-4107-8e44-8c7ef50dd539",
   "metadata": {},
   "outputs": [],
   "source": []
  },
  {
   "cell_type": "markdown",
   "id": "d47d5120-09eb-4494-b6e0-32fdc970435c",
   "metadata": {},
   "source": [
    "#### Optimal number of clusters not obvious as there is no inertia inflection point:"
   ]
  },
  {
   "cell_type": "code",
   "execution_count": null,
   "id": "ed0eeada-0003-4dc9-adcf-14367d3b09c8",
   "metadata": {},
   "outputs": [],
   "source": [
    "inertias = []\n",
    "\n",
    "for i in range(1,11):\n",
    "    kmeans = KMeans(n_clusters=i)\n",
    "    kmeans.fit(num_vars_prepared)\n",
    "    #kmeans.fit(numerical_variables)\n",
    "    inertias.append(kmeans.inertia_)\n",
    "\n",
    "plt.plot(range(1,11), inertias, marker='o')\n",
    "plt.title('Elbow method')\n",
    "plt.xlabel('Number of clusters')\n",
    "plt.ylabel('Inertia')\n",
    "plt.show()"
   ]
  },
  {
   "cell_type": "code",
   "execution_count": null,
   "id": "7394e8af-a4aa-4445-b812-962c2b1050d4",
   "metadata": {},
   "outputs": [],
   "source": [
    "kmeans = KMeans(n_clusters=3)\n",
    "#kmeans.fit(num_data)\n",
    "kmeans.fit(num_vars_prepared)"
   ]
  },
  {
   "cell_type": "code",
   "execution_count": null,
   "id": "b6288080-fe74-4a96-a86c-04eca8ae2d6f",
   "metadata": {},
   "outputs": [],
   "source": [
    "print(num_vars_prepared.shape)\n",
    "print(numerical_variables.shape)\n",
    "print(data_wide.shape)"
   ]
  },
  {
   "cell_type": "markdown",
   "id": "ce13adac-cf9f-4aad-a89e-babb9ae8c1c0",
   "metadata": {},
   "source": [
    "#### Add cluster labels to data frame:"
   ]
  },
  {
   "cell_type": "code",
   "execution_count": null,
   "id": "b6fdea03-bf6a-4710-aa7d-5d2ed7ce09e0",
   "metadata": {},
   "outputs": [],
   "source": [
    "data_wide_l = data_wide.copy()\n",
    "data_wide_l['kmeans_labels'] = kmeans.labels_\n",
    "data_wide_l_T2 = data_wide_l.loc[data_wide_l.exp_phase_id == 'T2',:]\n",
    "data_wide_l_T3 = data_wide_l.loc[data_wide_l.exp_phase_id == 'T3',:]"
   ]
  },
  {
   "cell_type": "markdown",
   "id": "61fc47ed-df07-4e36-906c-1a63a0b60a93",
   "metadata": {},
   "source": [
    "#### Clusters do not coincide with phase of experiment (exp_phase_one_hot) and seem to be equally distributed over time:"
   ]
  },
  {
   "cell_type": "code",
   "execution_count": null,
   "id": "ee84dad4-5112-4ab2-b74a-5b5294be2fd9",
   "metadata": {},
   "outputs": [],
   "source": [
    "index_1 = 6\n",
    "index_2 = 4\n",
    "index_3 = 10\n",
    "\n",
    "\n",
    "print(data_wide_l.columns[index_1])\n",
    "print(data_wide_l.columns[index_2])\n",
    "print(data_wide_l.columns[index_3])\n",
    "\n",
    "\n",
    "plt.figure(figsize=(9, 9))\n",
    "\n",
    "#X_inverse = rbf_pca.inverse_transform(X_reduced_rbf)\n",
    "\n",
    "ax = plt.subplot(111, projection='3d')\n",
    "ax.view_init(10, -70)\n",
    "\n",
    "scatter = ax.scatter(data_wide_l.iloc[:, index_1], data_wide_l.iloc[:, index_2], \n",
    "           data_wide_l.iloc[:, index_3], \n",
    "           c=kmeans.labels_, cmap=plt.get_cmap(\"jet\"), \n",
    "           marker=\"o\")\n",
    "ax.set_xlabel(data_wide_l.columns[index_1])\n",
    "ax.set_ylabel(data_wide_l.columns[index_2])\n",
    "ax.set_zlabel(data_wide_l.columns[index_3])\n",
    "#ax.set_xticklabels([])\n",
    "#ax.set_yticklabels([])\n",
    "#ax.set_zticklabels([])\n",
    "\n",
    "# produce a legend with a cross-section of sizes from the scatter\n",
    "handles, labels = scatter.legend_elements()\n",
    "legend2 = ax.legend(handles, labels, loc=\"upper right\", title=\"Clusters\")\n",
    "\n",
    "#save_fig(\"preimage_plot\", tight_layout=False)\n",
    "plt.show()"
   ]
  },
  {
   "cell_type": "code",
   "execution_count": null,
   "id": "fcf7022d-6a90-491d-9b6a-3674edae090f",
   "metadata": {},
   "outputs": [],
   "source": [
    "data_wide_l.columns"
   ]
  },
  {
   "cell_type": "markdown",
   "id": "7aecb527-63d6-4243-9ade-9ef072abed71",
   "metadata": {},
   "source": [
    "#### Clusters seem to be based on a somewhat trianguar shaped data distribution:"
   ]
  },
  {
   "cell_type": "code",
   "execution_count": null,
   "id": "3e6663cf-c502-4d77-bc8b-9b598faf94b1",
   "metadata": {},
   "outputs": [],
   "source": [
    "index_1 = 11\n",
    "index_2 = 8\n",
    "index_3 = 10\n",
    "\n",
    "\n",
    "print(data_wide_l.columns[index_1])\n",
    "print(data_wide_l.columns[index_2])\n",
    "print(data_wide_l.columns[index_3])\n",
    "\n",
    "\n",
    "plt.figure(figsize=(9, 9))\n",
    "\n",
    "#X_inverse = rbf_pca.inverse_transform(X_reduced_rbf)\n",
    "\n",
    "ax = plt.subplot(111, projection='3d')\n",
    "ax.view_init(10, -70)\n",
    "\n",
    "scatter = ax.scatter(data_wide_l.iloc[:, index_1], data_wide_l.iloc[:, index_2], \n",
    "           data_wide_l.iloc[:, index_3], \n",
    "           c=kmeans.labels_, cmap=plt.get_cmap(\"jet\"), \n",
    "           marker=\"o\")\n",
    "ax.set_xlabel(data_wide_l.columns[index_1])\n",
    "ax.set_ylabel(data_wide_l.columns[index_2])\n",
    "ax.set_zlabel(data_wide_l.columns[index_3])\n",
    "#ax.set_xticklabels([])\n",
    "#ax.set_yticklabels([])\n",
    "#ax.set_zticklabels([])\n",
    "\n",
    "# produce a legend with a cross-section of sizes from the scatter\n",
    "handles, labels = scatter.legend_elements()\n",
    "legend2 = ax.legend(handles, labels, loc=\"upper right\", title=\"Clusters\")\n",
    "\n",
    "#save_fig(\"preimage_plot\", tight_layout=False)\n",
    "plt.show()"
   ]
  },
  {
   "cell_type": "code",
   "execution_count": null,
   "id": "04018400-850c-4c5a-bfa5-52e0d7e54bf2",
   "metadata": {},
   "outputs": [],
   "source": [
    "index_1 = 10\n",
    "index_2 = 8\n",
    "index_3 = 11\n",
    "\n",
    "\n",
    "print(data_wide_l.columns[index_1])\n",
    "print(data_wide_l.columns[index_2])\n",
    "print(data_wide_l.columns[index_3])\n",
    "\n",
    "\n",
    "plt.figure(figsize=(9, 9))\n",
    "\n",
    "#X_inverse = rbf_pca.inverse_transform(X_reduced_rbf)\n",
    "\n",
    "ax = plt.subplot(111, projection='3d')\n",
    "ax.view_init(10, -70)\n",
    "\n",
    "scatter = ax.scatter(data_wide_l.iloc[:, index_1], data_wide_l.iloc[:, index_2], \n",
    "           data_wide_l.iloc[:, index_3], \n",
    "           c=kmeans.labels_, cmap=plt.get_cmap(\"jet\"), \n",
    "           marker=\"o\")\n",
    "ax.set_xlabel(data_wide_l.columns[index_1])\n",
    "ax.set_ylabel(data_wide_l.columns[index_2])\n",
    "ax.set_zlabel(data_wide_l.columns[index_3])\n",
    "#ax.set_xticklabels([])\n",
    "#ax.set_yticklabels([])\n",
    "#ax.set_zticklabels([])\n",
    "\n",
    "# produce a legend with a cross-section of sizes from the scatter\n",
    "handles, labels = scatter.legend_elements()\n",
    "legend2 = ax.legend(handles, labels, loc=\"upper right\", title=\"Clusters\")\n",
    "\n",
    "#save_fig(\"preimage_plot\", tight_layout=False)\n",
    "plt.show()"
   ]
  },
  {
   "cell_type": "markdown",
   "id": "40d8dc39-19ac-4cb6-a5e1-f568414825ea",
   "metadata": {},
   "source": [
    "#### The data shape reflects the fact that walking time varies most at a particular mean cadence and stride length standard deviation:"
   ]
  },
  {
   "cell_type": "code",
   "execution_count": null,
   "id": "ed2c5eeb-ba3d-4ebe-8adb-0b257c709083",
   "metadata": {},
   "outputs": [],
   "source": [
    "ax = plt.subplot()\n",
    "scatter = ax.scatter(data_wide_l.cadence_mean, data_wide_l.WB_time, alpha=0.4,\n",
    "          c=data_wide_l.kmeans_labels, cmap=plt.get_cmap(\"jet\"))\n",
    "# produce a legend with a cross-section of sizes from the scatter\n",
    "handles, labels = scatter.legend_elements()\n",
    "legend2 = ax.legend(handles, labels, loc=\"upper right\", title=\"Clusters\")\n",
    "ax.set_xlabel(\"cadence_mean\")\n",
    "ax.set_ylabel(\"WB_time\")"
   ]
  },
  {
   "cell_type": "code",
   "execution_count": null,
   "id": "fded078c-40ed-453e-8c75-808c647d354a",
   "metadata": {},
   "outputs": [],
   "source": [
    "ax = plt.subplot()\n",
    "scatter = ax.scatter(data_wide_l.slength_std, data_wide_l.WB_time, alpha=0.4,\n",
    "          c=data_wide_l.kmeans_labels, cmap=plt.get_cmap(\"jet\"))\n",
    "# produce a legend with a cross-section of sizes from the scatter\n",
    "handles, labels = scatter.legend_elements()\n",
    "legend2 = ax.legend(handles, labels, loc=\"upper right\", title=\"Clusters\")\n",
    "ax.set_xlabel(\"slength_std\")\n",
    "ax.set_ylabel(\"WB_time\")"
   ]
  },
  {
   "cell_type": "markdown",
   "id": "64f30997-bae9-4ae4-bc93-00a2eae0fea8",
   "metadata": {},
   "source": [
    "#### The cluster on the right has higher mean speed values and contrary to the other two clusters seems to show correlation between mean speed and walking bout time:"
   ]
  },
  {
   "cell_type": "code",
   "execution_count": null,
   "id": "34707949-d509-4d2d-9ea4-2e830da22777",
   "metadata": {},
   "outputs": [],
   "source": [
    "ax = plt.subplot()\n",
    "scatter = ax.scatter(data_wide_l.speed_mean, data_wide_l.WB_time, alpha=0.4,\n",
    "          c=data_wide_l.kmeans_labels, cmap=plt.get_cmap(\"jet\"))\n",
    "# produce a legend with a cross-section of sizes from the scatter\n",
    "handles, labels = scatter.legend_elements()\n",
    "legend2 = ax.legend(handles, labels, loc=\"upper right\", title=\"Clusters\")\n",
    "ax.set_xlabel(\"speed_mean\")\n",
    "ax.set_ylabel(\"WB_time\")"
   ]
  },
  {
   "cell_type": "code",
   "execution_count": null,
   "id": "9b10b0c9-bb35-4348-89b6-552e5146b1c7",
   "metadata": {},
   "outputs": [],
   "source": [
    "data_wide_l.plot(kind=\"scatter\", x=\"cadence_mean\", y=\"speed_mean\", alpha=0.4,\n",
    "    c=\"kmeans_labels\", cmap=plt.get_cmap(\"jet\"), colorbar=False,\n",
    "    sharex=True)\n",
    "\n",
    "plt.show()"
   ]
  },
  {
   "cell_type": "code",
   "execution_count": null,
   "id": "832542ba-8021-4917-979c-f58bf05beefc",
   "metadata": {},
   "outputs": [],
   "source": [
    "ax = plt.subplot()\n",
    "scatter = ax.scatter(data_wide_l.cadence_mean, data_wide_l.speed_mean, alpha=0.4,\n",
    "          c=data_wide_l.kmeans_labels, cmap=plt.get_cmap(\"jet\"))\n",
    "# produce a legend with a cross-section of sizes from the scatter\n",
    "handles, labels = scatter.legend_elements()\n",
    "legend2 = ax.legend(handles, labels, loc=\"upper right\", title=\"Clusters\")\n",
    "ax.set_xlabel(\"cadence_mean\")\n",
    "ax.set_ylabel(\"speed_mean\")"
   ]
  },
  {
   "cell_type": "markdown",
   "id": "6f047725-0f5f-4d88-a4ea-4ea54f92d865",
   "metadata": {},
   "source": [
    "#### Conclusion: Unfortunately, patients do not seem to group into interesting clusters that would reveal shared characteristics among groups of patients. "
   ]
  },
  {
   "cell_type": "code",
   "execution_count": null,
   "id": "254bfa74-84a6-48c6-a72c-9e357dcd9268",
   "metadata": {},
   "outputs": [],
   "source": []
  },
  {
   "cell_type": "code",
   "execution_count": null,
   "id": "05e144a0-0ffc-4939-9600-8c1391390be2",
   "metadata": {},
   "outputs": [],
   "source": []
  },
  {
   "cell_type": "code",
   "execution_count": null,
   "id": "f5d35d6e-7878-472e-84d9-1d6ca96c2995",
   "metadata": {},
   "outputs": [],
   "source": []
  }
 ],
 "metadata": {
  "kernelspec": {
   "display_name": "Python 3 (ipykernel)",
   "language": "python",
   "name": "python3"
  },
  "language_info": {
   "codemirror_mode": {
    "name": "ipython",
    "version": 3
   },
   "file_extension": ".py",
   "mimetype": "text/x-python",
   "name": "python",
   "nbconvert_exporter": "python",
   "pygments_lexer": "ipython3",
   "version": "3.12.3"
  }
 },
 "nbformat": 4,
 "nbformat_minor": 5
}
