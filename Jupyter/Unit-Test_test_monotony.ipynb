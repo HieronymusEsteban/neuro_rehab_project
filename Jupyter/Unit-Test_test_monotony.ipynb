{
 "cells": [
  {
   "cell_type": "code",
   "execution_count": 1,
   "id": "3e8310de-1f48-40bb-88cb-2d6b3a03b1ce",
   "metadata": {},
   "outputs": [],
   "source": [
    "import unittest\n",
    "import source.check_data as chd\n",
    "import pandas as pd\n",
    "import numpy as np\n",
    "from pathlib import Path\n",
    "import os\n",
    "import random"
   ]
  },
  {
   "cell_type": "markdown",
   "id": "36920085-00b1-452c-bde8-83e7b5ab20ff",
   "metadata": {},
   "source": [
    "## Make test data: "
   ]
  },
  {
   "cell_type": "code",
   "execution_count": 2,
   "id": "0a597eba-b722-4d54-9458-3e6a6de2e29f",
   "metadata": {},
   "outputs": [],
   "source": [
    "random.seed(43)"
   ]
  },
  {
   "cell_type": "markdown",
   "id": "4c002d25-6b13-489d-a281-054d2c0fd95c",
   "metadata": {},
   "source": [
    "### Random floats between 0 and 8 to simulate time stamps measured in hours, then sort them from smallest to biggest:"
   ]
  },
  {
   "cell_type": "code",
   "execution_count": 3,
   "id": "518a7499-8142-418f-bab7-878d836ee8cf",
   "metadata": {},
   "outputs": [
    {
     "data": {
      "text/plain": [
       "[0.30841471469904036,\n",
       " 5.5697945810964224,\n",
       " 1.1514657711628882,\n",
       " 3.7002580386327004,\n",
       " 5.373174112942136]"
      ]
     },
     "execution_count": 3,
     "metadata": {},
     "output_type": "execute_result"
    }
   ],
   "source": [
    "round_counter = 0\n",
    "random_floats = []\n",
    "while round_counter < 5:\n",
    "    random_float = random.uniform(0, 8)\n",
    "    random_floats.append(random_float)\n",
    "    round_counter += 1\n",
    "random_floats"
   ]
  },
  {
   "cell_type": "code",
   "execution_count": 4,
   "id": "a93baf5c-5728-4873-8a93-3461a9bdc003",
   "metadata": {},
   "outputs": [
    {
     "data": {
      "text/plain": [
       "dtype('float64')"
      ]
     },
     "execution_count": 4,
     "metadata": {},
     "output_type": "execute_result"
    }
   ],
   "source": [
    "np.array(random_floats).dtype"
   ]
  },
  {
   "cell_type": "code",
   "execution_count": 5,
   "id": "d48cdb6f-c3de-4c4e-9215-26c21f6d793e",
   "metadata": {},
   "outputs": [
    {
     "data": {
      "text/plain": [
       "[0.30841471469904036,\n",
       " 5.5697945810964224,\n",
       " 1.1514657711628882,\n",
       " 3.7002580386327004,\n",
       " 5.373174112942136]"
      ]
     },
     "execution_count": 5,
     "metadata": {},
     "output_type": "execute_result"
    }
   ],
   "source": [
    "test_data_wrong = random_floats.copy()\n",
    "test_data_wrong"
   ]
  },
  {
   "cell_type": "code",
   "execution_count": 6,
   "id": "109e8408-6ebc-4ae6-b08f-7aa318e8616c",
   "metadata": {},
   "outputs": [
    {
     "data": {
      "text/plain": [
       "[0.30841471469904036,\n",
       " 1.1514657711628882,\n",
       " 3.7002580386327004,\n",
       " 5.373174112942136,\n",
       " 5.5697945810964224]"
      ]
     },
     "execution_count": 6,
     "metadata": {},
     "output_type": "execute_result"
    }
   ],
   "source": [
    "random_floats.sort()\n",
    "test_data = list(random_floats)\n",
    "test_data"
   ]
  },
  {
   "cell_type": "code",
   "execution_count": 7,
   "id": "bfae7a11-cdcc-45bd-a933-33f2c6c5313c",
   "metadata": {},
   "outputs": [
    {
     "data": {
      "text/html": [
       "<div>\n",
       "<style scoped>\n",
       "    .dataframe tbody tr th:only-of-type {\n",
       "        vertical-align: middle;\n",
       "    }\n",
       "\n",
       "    .dataframe tbody tr th {\n",
       "        vertical-align: top;\n",
       "    }\n",
       "\n",
       "    .dataframe thead th {\n",
       "        text-align: right;\n",
       "    }\n",
       "</style>\n",
       "<table border=\"1\" class=\"dataframe\">\n",
       "  <thead>\n",
       "    <tr style=\"text-align: right;\">\n",
       "      <th></th>\n",
       "      <th>index_column</th>\n",
       "      <th>test_value</th>\n",
       "    </tr>\n",
       "  </thead>\n",
       "  <tbody>\n",
       "    <tr>\n",
       "      <th>0</th>\n",
       "      <td>0</td>\n",
       "      <td>False</td>\n",
       "    </tr>\n",
       "    <tr>\n",
       "      <th>1</th>\n",
       "      <td>1</td>\n",
       "      <td>False</td>\n",
       "    </tr>\n",
       "    <tr>\n",
       "      <th>2</th>\n",
       "      <td>2</td>\n",
       "      <td>False</td>\n",
       "    </tr>\n",
       "    <tr>\n",
       "      <th>3</th>\n",
       "      <td>3</td>\n",
       "      <td>False</td>\n",
       "    </tr>\n",
       "  </tbody>\n",
       "</table>\n",
       "</div>"
      ],
      "text/plain": [
       "   index_column  test_value\n",
       "0             0       False\n",
       "1             1       False\n",
       "2             2       False\n",
       "3             3       False"
      ]
     },
     "execution_count": 7,
     "metadata": {},
     "output_type": "execute_result"
    }
   ],
   "source": [
    "chd.test_monotony(test_data)"
   ]
  },
  {
   "cell_type": "code",
   "execution_count": 8,
   "id": "8a7ab163-fc2f-4204-966d-500ce476eba9",
   "metadata": {},
   "outputs": [
    {
     "data": {
      "text/html": [
       "<div>\n",
       "<style scoped>\n",
       "    .dataframe tbody tr th:only-of-type {\n",
       "        vertical-align: middle;\n",
       "    }\n",
       "\n",
       "    .dataframe tbody tr th {\n",
       "        vertical-align: top;\n",
       "    }\n",
       "\n",
       "    .dataframe thead th {\n",
       "        text-align: right;\n",
       "    }\n",
       "</style>\n",
       "<table border=\"1\" class=\"dataframe\">\n",
       "  <thead>\n",
       "    <tr style=\"text-align: right;\">\n",
       "      <th></th>\n",
       "      <th>index_column</th>\n",
       "      <th>test_value</th>\n",
       "    </tr>\n",
       "  </thead>\n",
       "  <tbody>\n",
       "    <tr>\n",
       "      <th>0</th>\n",
       "      <td>0</td>\n",
       "      <td>False</td>\n",
       "    </tr>\n",
       "    <tr>\n",
       "      <th>1</th>\n",
       "      <td>1</td>\n",
       "      <td>True</td>\n",
       "    </tr>\n",
       "    <tr>\n",
       "      <th>2</th>\n",
       "      <td>2</td>\n",
       "      <td>False</td>\n",
       "    </tr>\n",
       "    <tr>\n",
       "      <th>3</th>\n",
       "      <td>3</td>\n",
       "      <td>False</td>\n",
       "    </tr>\n",
       "  </tbody>\n",
       "</table>\n",
       "</div>"
      ],
      "text/plain": [
       "   index_column  test_value\n",
       "0             0       False\n",
       "1             1        True\n",
       "2             2       False\n",
       "3             3       False"
      ]
     },
     "execution_count": 8,
     "metadata": {},
     "output_type": "execute_result"
    }
   ],
   "source": [
    "chd.test_monotony(test_data_wrong)"
   ]
  },
  {
   "cell_type": "markdown",
   "id": "328632b5-be7b-44b0-9f76-b8e2a36b58b7",
   "metadata": {},
   "source": [
    "## Engineer desired output based on test data:"
   ]
  },
  {
   "cell_type": "markdown",
   "id": "402dd1a0-58d9-4f69-bfd2-c0a2a3052f92",
   "metadata": {},
   "source": [
    "### Output 1: Simple, test data correct, desired output correct:"
   ]
  },
  {
   "cell_type": "code",
   "execution_count": 9,
   "id": "9838d029-e8fe-4485-92b5-84182d4da4a1",
   "metadata": {},
   "outputs": [
    {
     "data": {
      "text/html": [
       "<div>\n",
       "<style scoped>\n",
       "    .dataframe tbody tr th:only-of-type {\n",
       "        vertical-align: middle;\n",
       "    }\n",
       "\n",
       "    .dataframe tbody tr th {\n",
       "        vertical-align: top;\n",
       "    }\n",
       "\n",
       "    .dataframe thead th {\n",
       "        text-align: right;\n",
       "    }\n",
       "</style>\n",
       "<table border=\"1\" class=\"dataframe\">\n",
       "  <thead>\n",
       "    <tr style=\"text-align: right;\">\n",
       "      <th></th>\n",
       "      <th>index_column</th>\n",
       "      <th>test_value</th>\n",
       "    </tr>\n",
       "  </thead>\n",
       "  <tbody>\n",
       "    <tr>\n",
       "      <th>0</th>\n",
       "      <td>0</td>\n",
       "      <td>False</td>\n",
       "    </tr>\n",
       "    <tr>\n",
       "      <th>1</th>\n",
       "      <td>1</td>\n",
       "      <td>False</td>\n",
       "    </tr>\n",
       "    <tr>\n",
       "      <th>2</th>\n",
       "      <td>2</td>\n",
       "      <td>False</td>\n",
       "    </tr>\n",
       "    <tr>\n",
       "      <th>3</th>\n",
       "      <td>3</td>\n",
       "      <td>False</td>\n",
       "    </tr>\n",
       "  </tbody>\n",
       "</table>\n",
       "</div>"
      ],
      "text/plain": [
       "   index_column  test_value\n",
       "0             0       False\n",
       "1             1       False\n",
       "2             2       False\n",
       "3             3       False"
      ]
     },
     "execution_count": 9,
     "metadata": {},
     "output_type": "execute_result"
    }
   ],
   "source": [
    "time_monotony_tests_c_c = pd.DataFrame({'index_column': list(range(0, (len(test_data)-1))), \n",
    "                                    'test_value': [False]*(len(test_data)-1)})\n",
    "time_monotony_tests_c_c"
   ]
  },
  {
   "cell_type": "markdown",
   "id": "babe4bbb-bb42-464a-975c-91123bc8cfda",
   "metadata": {},
   "source": [
    "### Output 2: Simple, test data correct and desired output wrong:"
   ]
  },
  {
   "cell_type": "code",
   "execution_count": 10,
   "id": "4ceb2662-6c2b-4163-9060-782e3ad0063e",
   "metadata": {},
   "outputs": [
    {
     "data": {
      "text/html": [
       "<div>\n",
       "<style scoped>\n",
       "    .dataframe tbody tr th:only-of-type {\n",
       "        vertical-align: middle;\n",
       "    }\n",
       "\n",
       "    .dataframe tbody tr th {\n",
       "        vertical-align: top;\n",
       "    }\n",
       "\n",
       "    .dataframe thead th {\n",
       "        text-align: right;\n",
       "    }\n",
       "</style>\n",
       "<table border=\"1\" class=\"dataframe\">\n",
       "  <thead>\n",
       "    <tr style=\"text-align: right;\">\n",
       "      <th></th>\n",
       "      <th>index_column</th>\n",
       "      <th>test_value</th>\n",
       "    </tr>\n",
       "  </thead>\n",
       "  <tbody>\n",
       "    <tr>\n",
       "      <th>0</th>\n",
       "      <td>0</td>\n",
       "      <td>False</td>\n",
       "    </tr>\n",
       "    <tr>\n",
       "      <th>1</th>\n",
       "      <td>1</td>\n",
       "      <td>False</td>\n",
       "    </tr>\n",
       "    <tr>\n",
       "      <th>2</th>\n",
       "      <td>2</td>\n",
       "      <td>False</td>\n",
       "    </tr>\n",
       "    <tr>\n",
       "      <th>3</th>\n",
       "      <td>3</td>\n",
       "      <td>True</td>\n",
       "    </tr>\n",
       "  </tbody>\n",
       "</table>\n",
       "</div>"
      ],
      "text/plain": [
       "   index_column  test_value\n",
       "0             0       False\n",
       "1             1       False\n",
       "2             2       False\n",
       "3             3        True"
      ]
     },
     "execution_count": 10,
     "metadata": {},
     "output_type": "execute_result"
    }
   ],
   "source": [
    "test_values = ([False]*(len(test_data)-2)) + [True]\n",
    "\n",
    "time_monotony_tests_c_w = pd.DataFrame({'index_column': list(range(0, (len(test_data)-1))), \n",
    "                                    'test_value': test_values})\n",
    "time_monotony_tests_c_w"
   ]
  },
  {
   "cell_type": "markdown",
   "id": "531aa4a7-9d24-4796-afa7-899374849c80",
   "metadata": {},
   "source": [
    "### Output 3: Simple, test data wrong and desired output correct:"
   ]
  },
  {
   "cell_type": "code",
   "execution_count": 11,
   "id": "ddc18d50-a66c-469d-b94d-c94dcffebbbb",
   "metadata": {},
   "outputs": [
    {
     "data": {
      "text/html": [
       "<div>\n",
       "<style scoped>\n",
       "    .dataframe tbody tr th:only-of-type {\n",
       "        vertical-align: middle;\n",
       "    }\n",
       "\n",
       "    .dataframe tbody tr th {\n",
       "        vertical-align: top;\n",
       "    }\n",
       "\n",
       "    .dataframe thead th {\n",
       "        text-align: right;\n",
       "    }\n",
       "</style>\n",
       "<table border=\"1\" class=\"dataframe\">\n",
       "  <thead>\n",
       "    <tr style=\"text-align: right;\">\n",
       "      <th></th>\n",
       "      <th>index_column</th>\n",
       "      <th>test_value</th>\n",
       "    </tr>\n",
       "  </thead>\n",
       "  <tbody>\n",
       "    <tr>\n",
       "      <th>0</th>\n",
       "      <td>0</td>\n",
       "      <td>False</td>\n",
       "    </tr>\n",
       "    <tr>\n",
       "      <th>1</th>\n",
       "      <td>1</td>\n",
       "      <td>True</td>\n",
       "    </tr>\n",
       "    <tr>\n",
       "      <th>2</th>\n",
       "      <td>2</td>\n",
       "      <td>False</td>\n",
       "    </tr>\n",
       "    <tr>\n",
       "      <th>3</th>\n",
       "      <td>3</td>\n",
       "      <td>False</td>\n",
       "    </tr>\n",
       "  </tbody>\n",
       "</table>\n",
       "</div>"
      ],
      "text/plain": [
       "   index_column  test_value\n",
       "0             0       False\n",
       "1             1        True\n",
       "2             2       False\n",
       "3             3       False"
      ]
     },
     "execution_count": 11,
     "metadata": {},
     "output_type": "execute_result"
    }
   ],
   "source": [
    "test_values = [False, True, False, False]\n",
    "\n",
    "time_monotony_tests_w_c = pd.DataFrame({'index_column': list(range(0, (len(test_data_wrong)-1))), \n",
    "                                    'test_value': test_values})\n",
    "time_monotony_tests_w_c"
   ]
  },
  {
   "cell_type": "code",
   "execution_count": 12,
   "id": "01cbaa20-76e7-462e-8839-86909faac839",
   "metadata": {},
   "outputs": [],
   "source": [
    "# Expected outcome: Test OK!\n",
    "#desired_output = time_monotony_tests_c_c\n",
    "#test_data = test_data"
   ]
  },
  {
   "cell_type": "code",
   "execution_count": 18,
   "id": "844ff62a-70db-47c2-8dac-4d7326775570",
   "metadata": {},
   "outputs": [],
   "source": [
    "# Expected outcome: Test failed!\n",
    "#desired_output = time_monotony_tests_c_w\n",
    "#test_data = test_data"
   ]
  },
  {
   "cell_type": "code",
   "execution_count": 23,
   "id": "27e1f89b-c5e9-4e59-b740-d08e133d2d10",
   "metadata": {},
   "outputs": [],
   "source": [
    "# Expected outcome: Test OK!\n",
    "desired_output = time_monotony_tests_w_c\n",
    "test_data = test_data_wrong"
   ]
  },
  {
   "cell_type": "markdown",
   "id": "aebef5df-e5db-4b11-97c2-84e7c587e64b",
   "metadata": {},
   "source": [
    "### Visually compare test data and desired outcome:"
   ]
  },
  {
   "cell_type": "code",
   "execution_count": 24,
   "id": "2c78fec2-6430-4a1c-86c8-a8e6a78e2263",
   "metadata": {},
   "outputs": [
    {
     "data": {
      "text/plain": [
       "[0.30841471469904036,\n",
       " 5.5697945810964224,\n",
       " 1.1514657711628882,\n",
       " 3.7002580386327004,\n",
       " 5.373174112942136]"
      ]
     },
     "execution_count": 24,
     "metadata": {},
     "output_type": "execute_result"
    }
   ],
   "source": [
    "test_data"
   ]
  },
  {
   "cell_type": "code",
   "execution_count": 25,
   "id": "8ceb195a-3c34-4891-ac49-86ed203463c1",
   "metadata": {},
   "outputs": [
    {
     "data": {
      "text/html": [
       "<div>\n",
       "<style scoped>\n",
       "    .dataframe tbody tr th:only-of-type {\n",
       "        vertical-align: middle;\n",
       "    }\n",
       "\n",
       "    .dataframe tbody tr th {\n",
       "        vertical-align: top;\n",
       "    }\n",
       "\n",
       "    .dataframe thead th {\n",
       "        text-align: right;\n",
       "    }\n",
       "</style>\n",
       "<table border=\"1\" class=\"dataframe\">\n",
       "  <thead>\n",
       "    <tr style=\"text-align: right;\">\n",
       "      <th></th>\n",
       "      <th>index_column</th>\n",
       "      <th>test_value</th>\n",
       "    </tr>\n",
       "  </thead>\n",
       "  <tbody>\n",
       "    <tr>\n",
       "      <th>0</th>\n",
       "      <td>0</td>\n",
       "      <td>False</td>\n",
       "    </tr>\n",
       "    <tr>\n",
       "      <th>1</th>\n",
       "      <td>1</td>\n",
       "      <td>True</td>\n",
       "    </tr>\n",
       "    <tr>\n",
       "      <th>2</th>\n",
       "      <td>2</td>\n",
       "      <td>False</td>\n",
       "    </tr>\n",
       "    <tr>\n",
       "      <th>3</th>\n",
       "      <td>3</td>\n",
       "      <td>False</td>\n",
       "    </tr>\n",
       "  </tbody>\n",
       "</table>\n",
       "</div>"
      ],
      "text/plain": [
       "   index_column  test_value\n",
       "0             0       False\n",
       "1             1        True\n",
       "2             2       False\n",
       "3             3       False"
      ]
     },
     "execution_count": 25,
     "metadata": {},
     "output_type": "execute_result"
    }
   ],
   "source": [
    "desired_output"
   ]
  },
  {
   "cell_type": "markdown",
   "id": "6fe256c9-5597-48f3-a2e5-ddbe28b9a196",
   "metadata": {},
   "source": [
    "## Implement Unit-Test:"
   ]
  },
  {
   "cell_type": "code",
   "execution_count": 26,
   "id": "02e33ea4-49ce-4104-a492-21af170fcb22",
   "metadata": {},
   "outputs": [
    {
     "name": "stderr",
     "output_type": "stream",
     "text": [
      "test_functReturnsSomething (__main__.TestCheckData.test_functReturnsSomething) ... ok\n",
      "test_inputExists (__main__.TestCheckData.test_inputExists) ... ok\n",
      "test_inputType (__main__.TestCheckData.test_inputType) ... ok\n",
      "test_outputDimensions (__main__.TestCheckData.test_outputDimensions) ... ok\n",
      "test_outputEqualsDesiredOutput (__main__.TestCheckData.test_outputEqualsDesiredOutput) ... ok\n",
      "test_outputType (__main__.TestCheckData.test_outputType) ... ok\n",
      "\n",
      "----------------------------------------------------------------------\n",
      "Ran 6 tests in 0.014s\n",
      "\n",
      "OK\n"
     ]
    },
    {
     "data": {
      "text/plain": [
       "<unittest.main.TestProgram at 0xffff61f8f500>"
      ]
     },
     "execution_count": 26,
     "metadata": {},
     "output_type": "execute_result"
    }
   ],
   "source": [
    "class TestCheckData(unittest.TestCase):\n",
    "    def setUp(self):\n",
    "        self.data = test_data\n",
    "    # tests go here:\n",
    "    def test_inputExists(self):\n",
    "        self.assertIsNotNone(self.data)\n",
    "        \n",
    "    def test_inputType(self):\n",
    "        self.assertIsInstance(self.data, list)\n",
    "        \n",
    "    def test_functReturnsSomething(self):\n",
    "        self.assertIsNotNone(chd.test_monotony(self.data))\n",
    "\n",
    "    def test_outputType(self):\n",
    "        self.assertIsInstance(chd.test_monotony(self.data), pd.core.frame.DataFrame)\n",
    "\n",
    "    def test_outputDimensions(self):\n",
    "        df_output = chd.test_monotony(self.data)\n",
    "        df_output_desired = desired_output\n",
    "        self.assertEqual(True, df_output.shape == df_output_desired.shape)\n",
    "    \n",
    "    def test_outputEqualsDesiredOutput(self):\n",
    "        df_output = chd.test_monotony(self.data)\n",
    "        df_output_desired = desired_output\n",
    "        self.assertEqual(True, df_output.equals(df_output_desired))\n",
    "#\n",
    "        \n",
    "    \n",
    "#if __name__ == \"__main__\":\n",
    " #   unittest.main()\n",
    "\n",
    "unittest.main(argv=[''], verbosity=2, exit=False)\n",
    "    "
   ]
  },
  {
   "cell_type": "code",
   "execution_count": null,
   "id": "59e18d33-343b-450f-a860-548e1de1f925",
   "metadata": {},
   "outputs": [],
   "source": []
  },
  {
   "cell_type": "code",
   "execution_count": null,
   "id": "22d10286-36b3-4ae6-8670-8f26c67e4fb8",
   "metadata": {},
   "outputs": [],
   "source": []
  },
  {
   "cell_type": "code",
   "execution_count": null,
   "id": "697a996d-3d91-48e1-b393-3c4b7a802cf3",
   "metadata": {},
   "outputs": [],
   "source": []
  }
 ],
 "metadata": {
  "kernelspec": {
   "display_name": "Python 3 (ipykernel)",
   "language": "python",
   "name": "python3"
  },
  "language_info": {
   "codemirror_mode": {
    "name": "ipython",
    "version": 3
   },
   "file_extension": ".py",
   "mimetype": "text/x-python",
   "name": "python",
   "nbconvert_exporter": "python",
   "pygments_lexer": "ipython3",
   "version": "3.12.3"
  }
 },
 "nbformat": 4,
 "nbformat_minor": 5
}
