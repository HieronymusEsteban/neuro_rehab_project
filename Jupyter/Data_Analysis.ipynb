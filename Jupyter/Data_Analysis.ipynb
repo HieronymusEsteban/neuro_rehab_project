{
 "cells": [
  {
   "cell_type": "code",
   "execution_count": null,
   "id": "2609ba12-b86b-4164-b7ac-eb54b4fbe39f",
   "metadata": {},
   "outputs": [],
   "source": [
    "import pandas as pd\n",
    "import numpy as np\n",
    "import scipy.io as sio\n",
    "import os\n",
    "import re\n",
    "import matplotlib.pyplot as plt\n",
    "import source.transform_data as trs\n",
    "from pathlib import Path"
   ]
  },
  {
   "cell_type": "code",
   "execution_count": null,
   "id": "d2c82591-6bc9-4bfc-a752-a17e70a86fc5",
   "metadata": {},
   "outputs": [],
   "source": [
    "path_to_data = Path('Data')"
   ]
  },
  {
   "cell_type": "code",
   "execution_count": null,
   "id": "58fb47bc-1afd-4663-a3b2-3da09accbe4d",
   "metadata": {},
   "outputs": [],
   "source": [
    "data_wide = pd.read_csv(path_to_data/'data_table_wide.csv', index_col=None)"
   ]
  },
  {
   "cell_type": "code",
   "execution_count": null,
   "id": "42ae41e0-3644-4367-82f2-d29fcdac524c",
   "metadata": {},
   "outputs": [],
   "source": [
    "data_subjects = pd.read_csv(path_to_data/'data_table_subjects.csv', index_col=None)"
   ]
  },
  {
   "cell_type": "code",
   "execution_count": null,
   "id": "987e0c68-1288-46f4-863e-669bdbdd6237",
   "metadata": {},
   "outputs": [],
   "source": [
    "data_days = pd.read_csv(path_to_data/'data_table_days.csv', index_col=None)"
   ]
  },
  {
   "cell_type": "markdown",
   "id": "0f8a7231-9f14-4d54-8e4d-55c1ed00655e",
   "metadata": {},
   "source": [
    "### Same number of subjects in T2 as in T3:"
   ]
  },
  {
   "cell_type": "code",
   "execution_count": null,
   "id": "1705d21c-63f2-4e87-b51f-fd686002b5d7",
   "metadata": {},
   "outputs": [],
   "source": [
    "data_T2 = data_wide.loc[data_wide.exp_phase_id=='T2']\n",
    "print(len(set(data_T2.subject)))\n",
    "data_T3 = data_wide.loc[data_wide.exp_phase_id=='T3']\n",
    "print(len(set(data_T3.subject)))"
   ]
  },
  {
   "cell_type": "code",
   "execution_count": null,
   "id": "e83cc325-1faa-4ab7-ae22-0665cee8805a",
   "metadata": {},
   "outputs": [],
   "source": [
    "data_subjects.shape"
   ]
  },
  {
   "cell_type": "code",
   "execution_count": null,
   "id": "be41ae59-2fdc-423e-8a58-ec4a9977d3f7",
   "metadata": {},
   "outputs": [],
   "source": [
    "data_subjects.isnull().values.any()"
   ]
  },
  {
   "cell_type": "code",
   "execution_count": null,
   "id": "2fd789f6-2716-44db-866d-2a1be8f6133b",
   "metadata": {},
   "outputs": [],
   "source": [
    "data_subjects.isna().values.any()"
   ]
  },
  {
   "cell_type": "code",
   "execution_count": null,
   "id": "17705ee6-5e75-4df1-970f-5b7504d98625",
   "metadata": {},
   "outputs": [],
   "source": [
    "data_days.head()"
   ]
  },
  {
   "cell_type": "code",
   "execution_count": null,
   "id": "221215d8-e665-457d-b742-88e608c55184",
   "metadata": {},
   "outputs": [],
   "source": [
    "data_subjects.head()"
   ]
  },
  {
   "cell_type": "code",
   "execution_count": null,
   "id": "f8f17747-0c4a-4e69-ab85-009ccde75db6",
   "metadata": {},
   "outputs": [],
   "source": [
    "subject_means = data_subjects.mean(axis=0, numeric_only=True)\n",
    "subject_means"
   ]
  },
  {
   "cell_type": "code",
   "execution_count": null,
   "id": "d9c9def2-07b2-4738-8253-ff414887647e",
   "metadata": {},
   "outputs": [],
   "source": [
    "type(subject_means)"
   ]
  },
  {
   "cell_type": "code",
   "execution_count": null,
   "id": "a37c273d-65a9-49d4-849b-0ff0b8453d38",
   "metadata": {},
   "outputs": [],
   "source": [
    "subject_means = pd.DataFrame(subject_means)\n",
    "subject_means = subject_means.reset_index()"
   ]
  },
  {
   "cell_type": "code",
   "execution_count": null,
   "id": "340e3391-89ff-4935-a9ec-b6a45ebf5f04",
   "metadata": {},
   "outputs": [],
   "source": [
    "subject_means.columns = ['column', 'mean_value']\n",
    "subject_means"
   ]
  },
  {
   "cell_type": "code",
   "execution_count": null,
   "id": "0eae3713-ca3b-4f74-91e1-5c0c8e688b2b",
   "metadata": {},
   "outputs": [],
   "source": [
    "subject_means['subejct_means'] = ['subject_mean']*subject_means.shape[0]\n",
    "subject_means = subject_means.pivot(index= 'subejct_means', columns = 'column', values='mean_value')\n",
    "# Flatten the columns\n",
    "subject_means.columns.name = None\n",
    "subject_means.reset_index(inplace=True, drop=True)"
   ]
  },
  {
   "cell_type": "code",
   "execution_count": null,
   "id": "751057ec-479f-4877-9497-f4186beba7f6",
   "metadata": {},
   "outputs": [],
   "source": [
    "subject_means"
   ]
  },
  {
   "cell_type": "code",
   "execution_count": null,
   "id": "d0a11d26-6688-4e37-9f33-2523b0623cd1",
   "metadata": {},
   "outputs": [],
   "source": [
    "m_wbs_T2 = subject_means.number_of_morning_walking_bouts_T2\n",
    "tot_wbs_T2 = subject_means.number_of_walking_bouts_T2\n",
    "print(m_wbs_T2)\n",
    "print(tot_wbs_T2)"
   ]
  },
  {
   "cell_type": "code",
   "execution_count": null,
   "id": "21a6b299-7431-48ea-bc20-dc36a35857e7",
   "metadata": {},
   "outputs": [],
   "source": [
    "m_wbs_T2/tot_wbs_T2"
   ]
  },
  {
   "cell_type": "code",
   "execution_count": null,
   "id": "9a6560b3-a710-47bc-922f-6e01bd02cf9d",
   "metadata": {},
   "outputs": [],
   "source": [
    "m_wbs_T3 = subject_means.number_of_morning_walking_bouts_T3\n",
    "tot_wbs_T3 = subject_means.number_of_walking_bouts_T3\n",
    "print(m_wbs_T3)\n",
    "print(tot_wbs_T3)"
   ]
  },
  {
   "cell_type": "code",
   "execution_count": null,
   "id": "8cb047c0-0470-4a91-966a-dae4f5a66ecb",
   "metadata": {},
   "outputs": [],
   "source": [
    "m_wbs_T3/tot_wbs_T3"
   ]
  },
  {
   "cell_type": "code",
   "execution_count": null,
   "id": "b81f5d7f-5ba8-401d-9518-722e01bf7ce7",
   "metadata": {},
   "outputs": [],
   "source": []
  },
  {
   "cell_type": "code",
   "execution_count": null,
   "id": "c57c1396-66fb-4a8f-9aed-730d2614af0d",
   "metadata": {},
   "outputs": [],
   "source": []
  },
  {
   "cell_type": "markdown",
   "id": "5e7f9c82-28f1-4471-9eab-80d370cf782a",
   "metadata": {},
   "source": [
    "### Compare number of walking bouts in the morning and in the afternoon:"
   ]
  },
  {
   "cell_type": "markdown",
   "id": "f98816c3-9402-406a-b4bf-faec9d2aacf9",
   "metadata": {},
   "source": [
    "#### Afternoon is not limited whereas the morning is limited to 4 hours\n",
    "#### The afternoon needs to be corrected to four hours for fair comparison:"
   ]
  },
  {
   "cell_type": "code",
   "execution_count": null,
   "id": "806d726c-b8ab-442c-951f-b0f198eac721",
   "metadata": {},
   "outputs": [],
   "source": [
    "data_wide.shape"
   ]
  },
  {
   "cell_type": "code",
   "execution_count": null,
   "id": "75aae319-8d94-4bc1-b6ce-5b80effebcaf",
   "metadata": {},
   "outputs": [],
   "source": [
    "data_wide[data_wide.time_stamps_hours<=8].shape"
   ]
  },
  {
   "cell_type": "code",
   "execution_count": null,
   "id": "749b69db-70eb-4d7d-a874-580bb303fee0",
   "metadata": {},
   "outputs": [],
   "source": [
    "data_wide_8hours = data_wide[data_wide.time_stamps_hours<=8].copy()"
   ]
  },
  {
   "cell_type": "code",
   "execution_count": null,
   "id": "e1b9d637-e003-434f-901c-5f94f2353702",
   "metadata": {},
   "outputs": [],
   "source": [
    "walking_bouts_8hours = data_wide_8hours.groupby(['subject', 'exp_phase_id'])['WB_time'].count()\n",
    "walking_bouts_8hours_frame = pd.DataFrame(walking_bouts_8hours)\n",
    "walking_bouts_8hours_frame.reset_index(inplace=True)\n",
    "walking_bouts_8hours_frame.head()"
   ]
  },
  {
   "cell_type": "code",
   "execution_count": null,
   "id": "983e30ca-bff2-4ae1-86de-1c2de247ce50",
   "metadata": {},
   "outputs": [],
   "source": [
    "data_wide_8hours[data_wide_8hours.subject == 'Sub_01'].shape"
   ]
  },
  {
   "cell_type": "code",
   "execution_count": null,
   "id": "f30f12de-c710-4d6e-a5c3-9cc75e85ef67",
   "metadata": {},
   "outputs": [],
   "source": [
    "walking_bouts_8hours_morning = data_wide_8hours.groupby(['subject', 'exp_phase_id', 'morning_afternoon'])['WB_time'].count()\n",
    "walking_bouts_8hours_morning_frame = pd.DataFrame(walking_bouts_8hours_morning)\n",
    "walking_bouts_8hours_morning_frame.reset_index(inplace=True)\n",
    "walking_bouts_8hours_morning_frame.head()"
   ]
  },
  {
   "cell_type": "code",
   "execution_count": null,
   "id": "2aea9a9f-7c48-4522-8276-00762738d1b9",
   "metadata": {},
   "outputs": [],
   "source": [
    "walking_bouts_8hours_morning_frame = walking_bouts_8hours_morning_frame.rename(columns = {'WB_time': 'number_walking_bouts'})\n",
    "walking_bouts_8hours_morning_frame.head()"
   ]
  },
  {
   "cell_type": "code",
   "execution_count": null,
   "id": "45a76b62-6090-41b0-a3cb-57d293100d9d",
   "metadata": {},
   "outputs": [],
   "source": [
    "data_wide_8hours.groupby(['subject', 'exp_phase_id', 'morning_afternoon'])['WB_time'].count()"
   ]
  },
  {
   "cell_type": "code",
   "execution_count": null,
   "id": "2e66ccda-e9b1-430e-b4ad-58ed57447e84",
   "metadata": {},
   "outputs": [],
   "source": [
    "walking_bouts_8hours = data_wide_8hours.groupby(['subject', 'exp_phase_id'])['WB_time'].count()"
   ]
  },
  {
   "cell_type": "code",
   "execution_count": null,
   "id": "525add92-f3e5-41dc-b607-fb95c44f1769",
   "metadata": {},
   "outputs": [],
   "source": [
    "walking_bouts_8hours"
   ]
  },
  {
   "cell_type": "code",
   "execution_count": null,
   "id": "17fecfe8-e008-42eb-bd90-ff95ba26ed86",
   "metadata": {},
   "outputs": [],
   "source": [
    "subj_bools = data_wide.subject == 'Sub_52'\n",
    "morning_bools = data_wide.morning_afternoon == 1\n",
    "exp_phase_bools = data_wide.exp_phase_id == 'T3'\n",
    "data_wide[subj_bools & morning_bools & exp_phase_bools].shape"
   ]
  },
  {
   "cell_type": "markdown",
   "id": "ed7ff9f3-7014-48ec-913c-ac56fa77a72f",
   "metadata": {},
   "source": [
    "### Rename data frame to make it shorter:"
   ]
  },
  {
   "cell_type": "code",
   "execution_count": null,
   "id": "77d0ff9a-2f95-4e5a-8982-23617a900464",
   "metadata": {},
   "outputs": [],
   "source": [
    "nb_wbs_8h = walking_bouts_8hours_morning_frame\n",
    "nb_wbs_8h.head()"
   ]
  },
  {
   "cell_type": "code",
   "execution_count": null,
   "id": "d5ce54ff-5e4f-4e2c-b2f8-5a391cb1097d",
   "metadata": {},
   "outputs": [],
   "source": [
    "nb_wbs_8h['m_a_code'] = nb_wbs_8h.morning_afternoon.apply(str)"
   ]
  },
  {
   "cell_type": "code",
   "execution_count": null,
   "id": "0478cdb2-0b1b-4577-ad7b-6f31c990e77b",
   "metadata": {},
   "outputs": [],
   "source": [
    "nb_wbs_8h['exp_phase_morning'] = nb_wbs_8h.exp_phase_id + '_' + nb_wbs_8h.m_a_code\n",
    "nb_wbs_8h.head()"
   ]
  },
  {
   "cell_type": "code",
   "execution_count": null,
   "id": "baec7a42-d634-442b-a266-c4a744512de8",
   "metadata": {},
   "outputs": [],
   "source": [
    "nb_wbs_8h = nb_wbs_8h[['subject', 'exp_phase_morning', 'number_walking_bouts']]"
   ]
  },
  {
   "cell_type": "code",
   "execution_count": null,
   "id": "f45f08c2-7527-45d9-89f9-540006b48cc7",
   "metadata": {},
   "outputs": [],
   "source": [
    "nb_wbs_8h_analysis =nb_wbs_8h.pivot(index=['subject'], columns='exp_phase_morning', \n",
    "                values='number_walking_bouts')\n",
    "nb_wbs_8h_analysis.columns.name = None\n",
    "nb_wbs_8h_analysis.reset_index(inplace=True)\n",
    "nb_wbs_8h_analysis.head()"
   ]
  },
  {
   "cell_type": "code",
   "execution_count": null,
   "id": "2d101103-f853-4053-9ca7-c6acc6b26308",
   "metadata": {},
   "outputs": [],
   "source": []
  },
  {
   "cell_type": "code",
   "execution_count": null,
   "id": "f6b71be9-3e1d-49b4-8a8e-2e343fd75e29",
   "metadata": {},
   "outputs": [],
   "source": [
    "nb_wbs_8h_analysis.dtypes"
   ]
  },
  {
   "cell_type": "code",
   "execution_count": null,
   "id": "33f3b9d5-f259-48c5-a2de-455c7a248cb2",
   "metadata": {},
   "outputs": [],
   "source": [
    "nb_wbs_8h_analysis['morning_tot'] = nb_wbs_8h_analysis.T2_1 + nb_wbs_8h_analysis.T3_1\n",
    "nb_wbs_8h_analysis['afternoon_tot'] = nb_wbs_8h_analysis.T2_0 + nb_wbs_8h_analysis.T3_0\n",
    "nb_wbs_8h_analysis.head()"
   ]
  },
  {
   "cell_type": "code",
   "execution_count": null,
   "id": "685ffbd9-3c3c-41ae-9c46-db695fd63754",
   "metadata": {},
   "outputs": [],
   "source": [
    "nb_wbs_8h_analysis.to_csv(path_to_data/'data_wb_analysis.csv', sep=',', index=False)"
   ]
  },
  {
   "cell_type": "code",
   "execution_count": null,
   "id": "566e61df-db44-4b12-9817-9034a2c13e60",
   "metadata": {},
   "outputs": [],
   "source": []
  },
  {
   "cell_type": "code",
   "execution_count": null,
   "id": "39507460-fc5d-4e9d-8950-49dc602b0460",
   "metadata": {},
   "outputs": [],
   "source": [
    "data_wide.head()"
   ]
  },
  {
   "cell_type": "code",
   "execution_count": null,
   "id": "37acd06e-8fef-4686-a625-a71317134ed1",
   "metadata": {},
   "outputs": [],
   "source": [
    "data_subjects.head()"
   ]
  },
  {
   "cell_type": "code",
   "execution_count": null,
   "id": "fd8475c1-5d7d-4990-ac69-3b882f1a50d2",
   "metadata": {},
   "outputs": [],
   "source": [
    "data_subjects.boxplot(column=['number_of_days_T2', 'number_of_days_T3'])\n",
    "plt.show()"
   ]
  },
  {
   "cell_type": "code",
   "execution_count": null,
   "id": "b7825940-6c4b-4720-937a-92a5e7ec8c91",
   "metadata": {},
   "outputs": [],
   "source": [
    "data_subjects.boxplot(column=['number_of_walking_bouts_T2', 'number_of_walking_bouts_T3'])\n",
    "plt.show()"
   ]
  },
  {
   "cell_type": "code",
   "execution_count": null,
   "id": "10ab413c-ba52-474f-a6a7-6389e1444c35",
   "metadata": {},
   "outputs": [],
   "source": [
    "nb_wbs_8h_analysis.boxplot(column=['T2_0', 'T2_1', 'T3_0', 'T3_1'])\n",
    "plt.show()"
   ]
  },
  {
   "cell_type": "code",
   "execution_count": null,
   "id": "337d6eda-61c6-4a35-99d9-39a4e7ada68d",
   "metadata": {},
   "outputs": [],
   "source": [
    "nb_wbs_8h_analysis.boxplot(column=['morning_tot', 'afternoon_tot'])\n",
    "plt.show()"
   ]
  },
  {
   "cell_type": "code",
   "execution_count": null,
   "id": "566a9bba-2e10-46b2-b38b-cd2f04c71867",
   "metadata": {},
   "outputs": [],
   "source": [
    "data_wide.time_stamps_hours.hist()\n",
    "plt.show()"
   ]
  },
  {
   "cell_type": "code",
   "execution_count": null,
   "id": "190a6835-f65c-48af-aa3e-47fbeccd259c",
   "metadata": {},
   "outputs": [],
   "source": [
    "data_wide_T2 = data_wide[data_wide.exp_phase_id=='T2']\n",
    "data_wide_T2.time_stamps_hours.hist()\n",
    "plt.show()"
   ]
  },
  {
   "cell_type": "code",
   "execution_count": null,
   "id": "deb0c8d5-4a41-477f-bb77-46f9564e244e",
   "metadata": {},
   "outputs": [],
   "source": [
    "data_wide_T3 = data_wide[data_wide.exp_phase_id=='T3']\n",
    "data_wide_T3.time_stamps_hours.hist()\n",
    "plt.show()"
   ]
  },
  {
   "cell_type": "code",
   "execution_count": null,
   "id": "3bfe1a00-02ac-4d85-ad71-1526730796ae",
   "metadata": {},
   "outputs": [],
   "source": []
  },
  {
   "cell_type": "code",
   "execution_count": null,
   "id": "c39e333d-c08a-4067-bb47-3d1da3374c93",
   "metadata": {},
   "outputs": [],
   "source": []
  },
  {
   "cell_type": "code",
   "execution_count": null,
   "id": "3c46d156-784c-455e-9637-98b5addff355",
   "metadata": {},
   "outputs": [],
   "source": []
  }
 ],
 "metadata": {
  "kernelspec": {
   "display_name": "Python 3 (ipykernel)",
   "language": "python",
   "name": "python3"
  },
  "language_info": {
   "codemirror_mode": {
    "name": "ipython",
    "version": 3
   },
   "file_extension": ".py",
   "mimetype": "text/x-python",
   "name": "python",
   "nbconvert_exporter": "python",
   "pygments_lexer": "ipython3",
   "version": "3.12.3"
  }
 },
 "nbformat": 4,
 "nbformat_minor": 5
}
