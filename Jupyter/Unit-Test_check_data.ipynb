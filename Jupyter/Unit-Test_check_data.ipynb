{
 "cells": [
  {
   "cell_type": "code",
   "execution_count": null,
   "id": "3e8310de-1f48-40bb-88cb-2d6b3a03b1ce",
   "metadata": {},
   "outputs": [],
   "source": [
    "import unittest\n",
    "import source.check_data as chd\n",
    "import pandas as pd\n",
    "import numpy as np\n",
    "from pathlib import Path\n",
    "import os\n",
    "import random"
   ]
  },
  {
   "cell_type": "markdown",
   "id": "36920085-00b1-452c-bde8-83e7b5ab20ff",
   "metadata": {},
   "source": [
    "## Make test data: "
   ]
  },
  {
   "cell_type": "code",
   "execution_count": null,
   "id": "0a597eba-b722-4d54-9458-3e6a6de2e29f",
   "metadata": {},
   "outputs": [],
   "source": [
    "random.seed(43)"
   ]
  },
  {
   "cell_type": "markdown",
   "id": "4c002d25-6b13-489d-a281-054d2c0fd95c",
   "metadata": {},
   "source": [
    "### Random floats between 0 and 8 to simulate time stamps measured in hours, then sort them from smallest to biggest:"
   ]
  },
  {
   "cell_type": "code",
   "execution_count": null,
   "id": "518a7499-8142-418f-bab7-878d836ee8cf",
   "metadata": {},
   "outputs": [],
   "source": [
    "round_counter = 0\n",
    "random_floats = []\n",
    "while round_counter < 10:\n",
    "    random_float = random.uniform(0, 8)\n",
    "    random_floats.append(random_float)\n",
    "    round_counter += 1\n",
    "random_floats"
   ]
  },
  {
   "cell_type": "code",
   "execution_count": null,
   "id": "a93baf5c-5728-4873-8a93-3461a9bdc003",
   "metadata": {},
   "outputs": [],
   "source": [
    "np.array(random_floats).dtype"
   ]
  },
  {
   "cell_type": "code",
   "execution_count": null,
   "id": "109e8408-6ebc-4ae6-b08f-7aa318e8616c",
   "metadata": {},
   "outputs": [],
   "source": [
    "random_floats.sort()\n",
    "random_floats"
   ]
  },
  {
   "cell_type": "markdown",
   "id": "b2833200-3e91-43a7-82e6-3fa4ad65556c",
   "metadata": {},
   "source": [
    "### Put everything into a dataframe:"
   ]
  },
  {
   "cell_type": "code",
   "execution_count": null,
   "id": "1ceeda27-07ba-4202-95fa-0f23d6edff16",
   "metadata": {},
   "outputs": [],
   "source": [
    "test_data = pd.DataFrame({'pseudo_time_stamp': random_floats})\n",
    "test_data"
   ]
  },
  {
   "cell_type": "markdown",
   "id": "3bb2a5ab-5c15-491e-b78f-c7e9dd92ffd6",
   "metadata": {},
   "source": [
    "### Categorize data into bins according to one hour time intervals by adding time stamp bins:"
   ]
  },
  {
   "cell_type": "code",
   "execution_count": null,
   "id": "1eebb41d-8ac7-4419-8be2-28f02c388481",
   "metadata": {},
   "outputs": [],
   "source": [
    "test_data[\"time_stamps_bins\"] = pd.cut(test_data[\"pseudo_time_stamp\"],\n",
    "                               bins=[0, 1, 2, 3, 4, 5, 6, 7, 8, np.inf],\n",
    "                               labels=[1, 2, 3, 4, 5, 6, 7, 8, 9])"
   ]
  },
  {
   "cell_type": "code",
   "execution_count": null,
   "id": "feb52dc9-7955-4abe-9f2e-1bd8c6e9e59d",
   "metadata": {},
   "outputs": [],
   "source": [
    "test_data"
   ]
  },
  {
   "cell_type": "markdown",
   "id": "9907c809-1528-4d8d-a3f6-d092cf8253cb",
   "metadata": {},
   "source": [
    "### Engineer the number of different subject Ids"
   ]
  },
  {
   "cell_type": "code",
   "execution_count": null,
   "id": "00447b48-225c-4519-b38d-d9deb4eada93",
   "metadata": {},
   "outputs": [],
   "source": [
    "# Number of different categories per bin:\n",
    "\n",
    "pseudo_subjects_1 = ['Sub_01', 'Sub_01'] # First bin, one category.\n",
    "b1 = 1\n",
    "pseudo_subjects_2 = ['Sub_02'] # Second bin, one category.\n",
    "b2 = 1\n",
    "pseudo_subjects_4 = ['Sub_02', 'Sub_03', 'Sub_02', 'Sub_01'] # Fourth bin, three different categories.\n",
    "b4 = 3\n",
    "pseudo_subjects_6 = ['Sub_04', 'Sub_01'] # Sixth bin, two categories.\n",
    "b6 = 2\n",
    "pseudo_subjects_7 = ['Sub_02'] # Seventh bin, one category.\n",
    "b7 = 1"
   ]
  },
  {
   "cell_type": "code",
   "execution_count": null,
   "id": "a7d94f82-69d5-4c5f-b782-a197f52b7dbd",
   "metadata": {},
   "outputs": [],
   "source": [
    "cat_num_list = [b1] + [b2] + [b4] + [b6] + [b7]\n",
    "cat_num_list\n",
    "time_bin_list = [1, 2, 4, 6, 7]\n",
    "time_bin_list"
   ]
  },
  {
   "cell_type": "code",
   "execution_count": null,
   "id": "a86de024-a157-4016-9299-13d594b0927f",
   "metadata": {},
   "outputs": [],
   "source": [
    "print(len(set(pseudo_subjects_1)))\n",
    "print(b1)\n",
    "print(len(set(pseudo_subjects_2)))\n",
    "print(b2)\n",
    "print(len(set(pseudo_subjects_4)))\n",
    "print(b4)\n",
    "print(len(set(pseudo_subjects_6)))\n",
    "print(b6)"
   ]
  },
  {
   "cell_type": "code",
   "execution_count": null,
   "id": "2c97ac18-d093-48b3-b491-69b3adadb313",
   "metadata": {},
   "outputs": [],
   "source": [
    "pseudo_subjects = pseudo_subjects_1 + pseudo_subjects_2 + pseudo_subjects_4 + \\\n",
    "pseudo_subjects_6 +pseudo_subjects_7"
   ]
  },
  {
   "cell_type": "code",
   "execution_count": null,
   "id": "e72994ca-0fef-4d6f-921d-9ebc1f6dbd30",
   "metadata": {},
   "outputs": [],
   "source": [
    "test_data['subject'] = pseudo_subjects\n",
    "test_data"
   ]
  },
  {
   "cell_type": "markdown",
   "id": "d59eab2e-2885-4104-a4ef-6660b10cb159",
   "metadata": {},
   "source": [
    "## Engineer desired output based on the test-data:"
   ]
  },
  {
   "cell_type": "code",
   "execution_count": null,
   "id": "42887f5f-22ab-468e-9918-4e240051a19c",
   "metadata": {},
   "outputs": [],
   "source": [
    "desired_output = pd.DataFrame({'time_bin': time_bin_list, 'number_unique_subjects': cat_num_list})\n",
    "desired_output"
   ]
  },
  {
   "cell_type": "markdown",
   "id": "269117c1-5324-4e49-8f2f-a49077828d7f",
   "metadata": {},
   "source": [
    "### Visually compare output to desired output:"
   ]
  },
  {
   "cell_type": "code",
   "execution_count": null,
   "id": "98dedfcf-66f3-4115-9ec2-cc485c1fd1e8",
   "metadata": {},
   "outputs": [],
   "source": [
    "chd.count_unique_subjects_per_hour(test_data, time_bin_list)"
   ]
  },
  {
   "cell_type": "markdown",
   "id": "6fe256c9-5597-48f3-a2e5-ddbe28b9a196",
   "metadata": {},
   "source": [
    "## Implement Unit-Test:"
   ]
  },
  {
   "cell_type": "code",
   "execution_count": null,
   "id": "02e33ea4-49ce-4104-a492-21af170fcb22",
   "metadata": {},
   "outputs": [],
   "source": [
    "class TestCheckData(unittest.TestCase):\n",
    "    def setUp(self):\n",
    "        self.data = test_data\n",
    "    # tests go here:\n",
    "    def test_inputExists(self):\n",
    "        self.assertIsNotNone(self.data)\n",
    "        \n",
    "    def test_inputType(self):\n",
    "        self.assertIsInstance(self.data, pd.core.frame.DataFrame)\n",
    "        \n",
    "    def test_functReturnsSomething(self):\n",
    "        self.assertIsNotNone(chd.count_unique_subjects_per_hour(self.data, time_bin_list))\n",
    "\n",
    "    def test_outputType(self):\n",
    "        self.assertIsInstance(chd.count_unique_subjects_per_hour(self.data, time_bin_list), pd.core.frame.DataFrame)\n",
    "\n",
    "    def test_outputDimensions(self):\n",
    "        df_output = chd.count_unique_subjects_per_hour(self.data, time_bin_list)\n",
    "        df_output_desired = desired_output\n",
    "        self.assertEqual(True, df_output.shape == df_output_desired.shape)\n",
    "    \n",
    "    def test_outputEqualsDesiredOutput(self):\n",
    "        df_output = chd.count_unique_subjects_per_hour(self.data, time_bin_list)\n",
    "        df_output_desired = desired_output\n",
    "        self.assertEqual(True, df_output.equals(df_output_desired))\n",
    "\n",
    "        \n",
    "    \n",
    "#if __name__ == \"__main__\":\n",
    " #   unittest.main()\n",
    "\n",
    "unittest.main(argv=[''], verbosity=2, exit=False)\n",
    "    "
   ]
  },
  {
   "cell_type": "code",
   "execution_count": null,
   "id": "59e18d33-343b-450f-a860-548e1de1f925",
   "metadata": {},
   "outputs": [],
   "source": []
  },
  {
   "cell_type": "code",
   "execution_count": null,
   "id": "22d10286-36b3-4ae6-8670-8f26c67e4fb8",
   "metadata": {},
   "outputs": [],
   "source": []
  },
  {
   "cell_type": "code",
   "execution_count": null,
   "id": "697a996d-3d91-48e1-b393-3c4b7a802cf3",
   "metadata": {},
   "outputs": [],
   "source": []
  }
 ],
 "metadata": {
  "kernelspec": {
   "display_name": "Python 3 (ipykernel)",
   "language": "python",
   "name": "python3"
  },
  "language_info": {
   "codemirror_mode": {
    "name": "ipython",
    "version": 3
   },
   "file_extension": ".py",
   "mimetype": "text/x-python",
   "name": "python",
   "nbconvert_exporter": "python",
   "pygments_lexer": "ipython3",
   "version": "3.12.3"
  }
 },
 "nbformat": 4,
 "nbformat_minor": 5
}
