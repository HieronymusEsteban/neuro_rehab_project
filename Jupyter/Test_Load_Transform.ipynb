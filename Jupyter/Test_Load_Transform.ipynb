{
 "cells": [
  {
   "cell_type": "code",
   "execution_count": null,
   "id": "7e0635d0-917a-4b60-9091-4b5d87c55f55",
   "metadata": {},
   "outputs": [],
   "source": [
    "import pandas as pd\n",
    "import numpy as np\n",
    "import scipy.io as sio\n",
    "import os\n",
    "import re\n",
    "import matplotlib.pyplot as plt\n",
    "import source.transform_data as trs\n",
    "from pathlib import Path"
   ]
  },
  {
   "cell_type": "code",
   "execution_count": null,
   "id": "0be2d0d5-eff0-404e-a39c-a528c0bcd237",
   "metadata": {},
   "outputs": [],
   "source": [
    "os.getcwd()"
   ]
  },
  {
   "cell_type": "markdown",
   "id": "6614c368-6ffb-41a6-8780-d293d8ea6d84",
   "metadata": {},
   "source": [
    "## Check samples of variables and data points comparing data from csv-files and .mat files:"
   ]
  },
  {
   "cell_type": "markdown",
   "id": "9aac7f3b-8fa8-47a3-9968-b09bd5ed8617",
   "metadata": {},
   "source": [
    "### Choose experiment phase (T2 or T3):"
   ]
  },
  {
   "cell_type": "code",
   "execution_count": null,
   "id": "b222775b-a3ac-40ca-a358-df535651c3fc",
   "metadata": {},
   "outputs": [],
   "source": [
    "file_path_folder = 'Data/'\n",
    "file_path_last_part = 'locomotion_metrics_T3.mat'"
   ]
  },
  {
   "cell_type": "code",
   "execution_count": null,
   "id": "ca9788cc-bdac-4a6a-8cbc-de7d7d5bd7d1",
   "metadata": {},
   "outputs": [],
   "source": [
    "path_to_data = Path('Data')"
   ]
  },
  {
   "cell_type": "markdown",
   "id": "b60d2869-8242-4030-a5fd-605ffe7cd777",
   "metadata": {},
   "source": [
    "### Select subject:"
   ]
  },
  {
   "cell_type": "code",
   "execution_count": null,
   "id": "349db717-e42d-4346-b1c9-649d0c4db239",
   "metadata": {},
   "outputs": [],
   "source": [
    "os.listdir(path_to_data)"
   ]
  },
  {
   "cell_type": "code",
   "execution_count": null,
   "id": "c83bf513-6c0c-4853-8822-54b4a611613f",
   "metadata": {},
   "outputs": [],
   "source": [
    "file_path_subject = 'Sub_32_'"
   ]
  },
  {
   "cell_type": "markdown",
   "id": "400c6447-6daf-4e52-92ed-152d096d913a",
   "metadata": {},
   "source": [
    "### Define file path for .mat file:"
   ]
  },
  {
   "cell_type": "code",
   "execution_count": null,
   "id": "184b6323-0e6e-4178-8bfc-b36596c99a91",
   "metadata": {},
   "outputs": [],
   "source": [
    "file_path = file_path_folder + file_path_subject + \\\n",
    "file_path_last_part"
   ]
  },
  {
   "cell_type": "code",
   "execution_count": null,
   "id": "172e9420-97b2-4063-88fa-05dca18932fe",
   "metadata": {},
   "outputs": [],
   "source": [
    "file_path"
   ]
  },
  {
   "cell_type": "markdown",
   "id": "a052077e-99f8-45ab-bea6-a0b5546dc789",
   "metadata": {},
   "source": [
    "### Load .mat file of individual subject: "
   ]
  },
  {
   "cell_type": "code",
   "execution_count": null,
   "id": "713ad56a-cc4d-451a-9e3f-0bf4ddab7489",
   "metadata": {},
   "outputs": [],
   "source": [
    "mat_contents = sio.loadmat(file_path)"
   ]
  },
  {
   "cell_type": "markdown",
   "id": "0fe08d35-86b3-4707-8082-651038e7c80e",
   "metadata": {},
   "source": [
    "### Load data from csv-files:"
   ]
  },
  {
   "cell_type": "code",
   "execution_count": null,
   "id": "c925abf3-e17a-4824-ad8c-21e40340f6d2",
   "metadata": {},
   "outputs": [],
   "source": [
    "data_wide = pd.read_csv(path_to_data/'data_table_wide.csv', index_col=None)"
   ]
  },
  {
   "cell_type": "code",
   "execution_count": null,
   "id": "72211ecd-9640-491e-87d0-7b16cf393bfb",
   "metadata": {},
   "outputs": [],
   "source": [
    "data_long = pd.read_csv(path_to_data/'data_table_long.csv', index_col=None)"
   ]
  },
  {
   "cell_type": "code",
   "execution_count": null,
   "id": "9b655fed-dfe6-40ff-a35e-680dc3b658f5",
   "metadata": {},
   "outputs": [],
   "source": [
    "data_wide.head(5)"
   ]
  },
  {
   "cell_type": "code",
   "execution_count": null,
   "id": "fefff012-b595-4cdf-a69b-4d1df11fa466",
   "metadata": {},
   "outputs": [],
   "source": [
    "data_long.head(5)"
   ]
  },
  {
   "cell_type": "markdown",
   "id": "926cefea-514a-4f7f-b773-eb6fb910589f",
   "metadata": {},
   "source": [
    "### Check number of data points (data dimensions): "
   ]
  },
  {
   "cell_type": "markdown",
   "id": "8616d018-140e-4125-a0d2-d3391ceb2fd5",
   "metadata": {},
   "source": [
    "#### Select data for subject in question from data wide:"
   ]
  },
  {
   "cell_type": "code",
   "execution_count": null,
   "id": "6327a732-6c8c-4cef-a661-0b48783e9df5",
   "metadata": {},
   "outputs": [],
   "source": [
    "file_name = file_path_subject + file_path_last_part"
   ]
  },
  {
   "cell_type": "code",
   "execution_count": null,
   "id": "98ae359d-178a-4c73-b663-1449c39733b7",
   "metadata": {},
   "outputs": [],
   "source": [
    "#data_wide_subj = data_wide[data_wide['subject']==file_name]\n",
    "data_wide_subj = data_wide[data_wide['file_name']==file_name]"
   ]
  },
  {
   "cell_type": "code",
   "execution_count": null,
   "id": "94ea2bfc-5888-4215-bc21-bc2aa5564613",
   "metadata": {},
   "outputs": [],
   "source": [
    "data_wide_subj.reset_index(drop=True, inplace=True)"
   ]
  },
  {
   "cell_type": "code",
   "execution_count": null,
   "id": "eafe6b22-4e41-49a9-a12d-27d6f6032d5a",
   "metadata": {},
   "outputs": [],
   "source": [
    "data_wide_subj.shape[0]"
   ]
  },
  {
   "cell_type": "markdown",
   "id": "552ab06e-82e7-4a93-bc08-b59af5e454ae",
   "metadata": {},
   "source": [
    "#### Compare number of data points from .mat file and from data-wide csv file for subject in question:"
   ]
  },
  {
   "cell_type": "markdown",
   "id": "6ee55d18-8b07-499f-a93d-401e35dd4e83",
   "metadata": {},
   "source": [
    "Expected value is True:"
   ]
  },
  {
   "cell_type": "code",
   "execution_count": null,
   "id": "ca6b2ce5-1aea-444a-a3d3-5fdb469ea2b2",
   "metadata": {},
   "outputs": [],
   "source": [
    "len(mat_contents['results'][0][0][4][0]) == data_wide_subj.shape[0]"
   ]
  },
  {
   "cell_type": "markdown",
   "id": "53449eff-c8a6-47d0-a40b-04fa7061d9f1",
   "metadata": {},
   "source": [
    "#### Select data for subject in question from data long:"
   ]
  },
  {
   "cell_type": "code",
   "execution_count": null,
   "id": "87bf25fa-a19b-4260-9fe4-d1d20439a84a",
   "metadata": {},
   "outputs": [],
   "source": [
    "#data_long_subj = data_long[data_long['subject']==file_name]\n",
    "data_long_subj = data_long[data_long['file_name']==file_name]"
   ]
  },
  {
   "cell_type": "code",
   "execution_count": null,
   "id": "fb94de01-7ccd-469d-a47c-5e2964e8d7c9",
   "metadata": {},
   "outputs": [],
   "source": [
    "data_long_subj.reset_index(drop=True, inplace=True)"
   ]
  },
  {
   "cell_type": "code",
   "execution_count": null,
   "id": "c64ed2a6-49fe-411b-a15a-5f5d959daf09",
   "metadata": {},
   "outputs": [],
   "source": [
    "data_long_subj.head()"
   ]
  },
  {
   "cell_type": "code",
   "execution_count": null,
   "id": "83fcec83-81c1-4b53-a950-aac60cd9d120",
   "metadata": {},
   "outputs": [],
   "source": [
    "print(file_name)\n",
    "print(set(data_long_subj.exp_phase_id))\n",
    "print(set(data_long_subj.exp_phase_descr))"
   ]
  },
  {
   "cell_type": "markdown",
   "id": "b9554639-12f3-4015-8a7b-9b2ff62bf8a0",
   "metadata": {},
   "source": [
    "#### Compare number of data points from .mat file and from data-long csv file for subject in question:"
   ]
  },
  {
   "cell_type": "code",
   "execution_count": null,
   "id": "fdb799c9-82a0-42c9-bac2-e15b924b79eb",
   "metadata": {},
   "outputs": [],
   "source": [
    "var_list = list(set(data_long_subj['variable']))\n",
    "var_list"
   ]
  },
  {
   "cell_type": "code",
   "execution_count": null,
   "id": "503b9172-5bc7-49d1-8463-eadd849da1b4",
   "metadata": {},
   "outputs": [],
   "source": [
    "data_long_subj[data_long_subj['variable']=='gtime_CV'].shape"
   ]
  },
  {
   "cell_type": "code",
   "execution_count": null,
   "id": "45c2049c-5556-4a69-8430-f4827c161b8e",
   "metadata": {},
   "outputs": [],
   "source": [
    "len(mat_contents['results'][0][0][4][0])"
   ]
  },
  {
   "cell_type": "markdown",
   "id": "428d1559-83da-446e-8e62-6aceb5c43996",
   "metadata": {},
   "source": [
    "#### Check if all variables have the same length (does not apply to nfoot and steps_tot): "
   ]
  },
  {
   "cell_type": "code",
   "execution_count": null,
   "id": "c85f369c-d7f5-4275-af18-f84d1a89d1f9",
   "metadata": {},
   "outputs": [],
   "source": [
    "number_of_variables = data_wide.shape[1] - 7\n",
    "var_lengths_mat = []\n",
    "var_lengths_csv = []\n",
    "for var_selection_index in range(2, number_of_variables+1):\n",
    "    variable_to_test = mat_contents['results'][0][0].dtype.descr[var_selection_index][0]\n",
    "    print(variable_to_test)\n",
    "    if variable_to_test == 'gait_timestamps':\n",
    "        print('gait_timestamps is a duplicate of time_stamps has been removed.')\n",
    "    else:\n",
    "        variable_from_mat = mat_contents['results'][0][0][var_selection_index][0]\n",
    "        var_length_from_mat = len(variable_from_mat)\n",
    "        var_selection_bools = data_long_subj['variable']==variable_to_test\n",
    "        slice_from_long_csv = data_long_subj[var_selection_bools]\n",
    "        variable_from_long_csv = slice_from_long_csv['value']\n",
    "        var_length_from_long_csv = len(variable_from_long_csv)\n",
    "        var_lengths_mat.append(var_length_from_mat)\n",
    "        var_lengths_csv.append(var_length_from_long_csv)\n",
    "    "
   ]
  },
  {
   "cell_type": "code",
   "execution_count": null,
   "id": "7c029d06-155b-4d96-a5cb-db81bdb1b64f",
   "metadata": {},
   "outputs": [],
   "source": [
    "var_lengths_mat"
   ]
  },
  {
   "cell_type": "code",
   "execution_count": null,
   "id": "cc5e8c70-289a-46e9-add3-c5ad87366abc",
   "metadata": {},
   "outputs": [],
   "source": [
    "var_lengths_csv"
   ]
  },
  {
   "cell_type": "markdown",
   "id": "c7f8346c-1187-4e3d-8506-9e60688d053d",
   "metadata": {},
   "source": [
    "### Check if values are identical:"
   ]
  },
  {
   "cell_type": "markdown",
   "id": "e0b4f2ce-723d-4c78-9fb8-c5f951b2a880",
   "metadata": {},
   "source": [
    "#### Have a look at variables loaded from the two different files are identical: "
   ]
  },
  {
   "cell_type": "markdown",
   "id": "3761b91c-bf33-47bb-bb14-edfe30946134",
   "metadata": {},
   "source": [
    "Select variable:"
   ]
  },
  {
   "cell_type": "code",
   "execution_count": null,
   "id": "2b77f004-9972-4000-bc1a-fb0c8960ea8a",
   "metadata": {},
   "outputs": [],
   "source": [
    "var_selection_index = 8"
   ]
  },
  {
   "cell_type": "markdown",
   "id": "8a48208e-97ad-4b53-851d-befd24715c54",
   "metadata": {},
   "source": [
    "Select data for selected variable from .mat file:"
   ]
  },
  {
   "cell_type": "code",
   "execution_count": null,
   "id": "6f4d762e-c212-421a-baf3-227604fcd004",
   "metadata": {},
   "outputs": [],
   "source": [
    "variable_to_test = mat_contents['results'][0][0].dtype.descr[var_selection_index][0]\n",
    "variable_to_test"
   ]
  },
  {
   "cell_type": "code",
   "execution_count": null,
   "id": "1323d95d-8b4e-47d0-8a1e-ffda9df97edf",
   "metadata": {},
   "outputs": [],
   "source": [
    "variable_from_mat = mat_contents['results'][0][0][var_selection_index][0]"
   ]
  },
  {
   "cell_type": "markdown",
   "id": "efb9b5f1-4aa3-4278-96d6-c2f337b21f36",
   "metadata": {},
   "source": [
    "Select data for selected variable from data-wide csv file:"
   ]
  },
  {
   "cell_type": "code",
   "execution_count": null,
   "id": "3ae3ec7f-12ac-400c-a3e1-a7b648d4a720",
   "metadata": {},
   "outputs": [],
   "source": [
    "variable_from_wide_csv = data_wide_subj[variable_to_test]"
   ]
  },
  {
   "cell_type": "code",
   "execution_count": null,
   "id": "5fcbc103-cdef-4955-9674-6c1a5cddfb9d",
   "metadata": {},
   "outputs": [],
   "source": [
    "variable_from_wide_csv[0:7]"
   ]
  },
  {
   "cell_type": "code",
   "execution_count": null,
   "id": "252c450d-171a-4aa9-bb38-a9e0509a1e0b",
   "metadata": {},
   "outputs": [],
   "source": [
    "variable_from_mat[0:7]"
   ]
  },
  {
   "cell_type": "markdown",
   "id": "685d3a14-4aad-4757-8d12-c043ec462c55",
   "metadata": {},
   "source": [
    "#### Loop through all variables and check if they are the same in the data loaded from the mat and the wide csv file:"
   ]
  },
  {
   "cell_type": "code",
   "execution_count": null,
   "id": "8f98683b-9bb0-4161-9f5f-33356f7cbf85",
   "metadata": {},
   "outputs": [],
   "source": [
    "number_of_variables = data_wide.shape[1] - 7\n",
    "bools_to_test = []\n",
    "for var_selection_index in range(2, number_of_variables+1):\n",
    "    variable_to_test = mat_contents['results'][0][0].dtype.descr[var_selection_index][0]\n",
    "    print(variable_to_test)\n",
    "    if variable_to_test == 'gait_timestamps':\n",
    "        print('gait_timestamps has been removed because it is a duplicate of time_stamps.')\n",
    "    else:\n",
    "        variable_from_mat = mat_contents['results'][0][0][var_selection_index][0]\n",
    "        variable_from_wide_csv = data_wide_subj[variable_to_test]\n",
    "        bools_to_test.append(np.array_equal(np.int64(variable_from_mat), np.int64(variable_from_wide_csv)))"
   ]
  },
  {
   "cell_type": "markdown",
   "id": "8b2ceea0-3834-4eb6-9dd0-1e427c3e3a34",
   "metadata": {},
   "source": [
    "Expected value is True:"
   ]
  },
  {
   "cell_type": "code",
   "execution_count": null,
   "id": "be191776-de31-4c8b-ba49-c6b5fb152047",
   "metadata": {},
   "outputs": [],
   "source": [
    "sum(bools_to_test) == len(bools_to_test)"
   ]
  },
  {
   "cell_type": "markdown",
   "id": "389519a2-804a-46c5-af46-da7605ff4546",
   "metadata": {},
   "source": [
    "#### Loop through all variables and check if they are the same in the data loaded from the mat and the long csv file:"
   ]
  },
  {
   "cell_type": "code",
   "execution_count": null,
   "id": "4779fc63-2551-47fb-9848-529b505cfa03",
   "metadata": {},
   "outputs": [],
   "source": [
    "number_of_variables = data_wide.shape[1] - 7\n",
    "bools_to_test = []\n",
    "for var_selection_index in range(2, number_of_variables+1):\n",
    "    variable_to_test = mat_contents['results'][0][0].dtype.descr[var_selection_index][0]\n",
    "    print(variable_to_test)\n",
    "    if variable_to_test == 'gait_timestamps':\n",
    "        print('gait_timestamps has been removed because it is a duplicate of time_stamps.')\n",
    "    else:\n",
    "        variable_from_mat = mat_contents['results'][0][0][var_selection_index][0]\n",
    "        var_selection_bools = data_long_subj['variable']==variable_to_test\n",
    "        slice_from_long_csv = data_long_subj[var_selection_bools]\n",
    "        variable_from_long_csv = slice_from_long_csv['value']\n",
    "        bools_to_test.append(np.array_equal(np.int64(variable_from_mat), np.int64(variable_from_long_csv)))\n",
    "    "
   ]
  },
  {
   "cell_type": "markdown",
   "id": "82a70ac6-4c9e-430c-80f5-a6e66520b4c1",
   "metadata": {},
   "source": [
    "Expected value is True:"
   ]
  },
  {
   "cell_type": "code",
   "execution_count": null,
   "id": "537f0b54-6312-4df9-babc-a7784bd384a0",
   "metadata": {},
   "outputs": [],
   "source": [
    "sum(bools_to_test) == len(bools_to_test)"
   ]
  },
  {
   "cell_type": "code",
   "execution_count": null,
   "id": "fe8fac4a-ba3c-4317-934e-d78d4fcece7d",
   "metadata": {},
   "outputs": [],
   "source": [
    "data_wide.value_counts('exp_phase_id')"
   ]
  },
  {
   "cell_type": "code",
   "execution_count": null,
   "id": "f9f4cde9-f730-4385-bd1d-5af36440d7ee",
   "metadata": {},
   "outputs": [],
   "source": [
    "data_wide.value_counts('exp_phase_descr')"
   ]
  },
  {
   "cell_type": "code",
   "execution_count": null,
   "id": "e8e10301-09e6-428d-8651-5e4f558dad3e",
   "metadata": {},
   "outputs": [],
   "source": [
    "data_wide.columns"
   ]
  },
  {
   "cell_type": "code",
   "execution_count": null,
   "id": "433a482f-10e9-4afc-b83c-2d53927f6386",
   "metadata": {},
   "outputs": [],
   "source": [
    "data_wide.head(5)"
   ]
  },
  {
   "cell_type": "code",
   "execution_count": null,
   "id": "cb837939-a9fe-4a5a-8acc-4715c116124e",
   "metadata": {},
   "outputs": [],
   "source": [
    "data_wide.value_counts('exp_phase_one_hot')"
   ]
  },
  {
   "cell_type": "code",
   "execution_count": null,
   "id": "ce549821-0f08-454a-bc2e-13d72cb017a6",
   "metadata": {},
   "outputs": [],
   "source": []
  },
  {
   "cell_type": "code",
   "execution_count": null,
   "id": "f04ccd9e-e5a1-495e-98d7-1278a6e154f9",
   "metadata": {},
   "outputs": [],
   "source": [
    "mat_contents['results'][0][0].dtype.descr[0]"
   ]
  },
  {
   "cell_type": "code",
   "execution_count": null,
   "id": "5084a68e-aea2-4c11-818e-0bfb4d50a9b9",
   "metadata": {},
   "outputs": [],
   "source": [
    "print(len(mat_contents['results'][0][0][0][0]))"
   ]
  },
  {
   "cell_type": "code",
   "execution_count": null,
   "id": "50331376-e4ee-4970-b122-ac885a1a9e8a",
   "metadata": {},
   "outputs": [],
   "source": [
    "print(len(mat_contents['results'][0][0][1][0]))"
   ]
  },
  {
   "cell_type": "code",
   "execution_count": null,
   "id": "d32467c2-a7af-440f-b102-d9ddfddcb372",
   "metadata": {},
   "outputs": [],
   "source": [
    "data_wide.head()"
   ]
  },
  {
   "cell_type": "code",
   "execution_count": null,
   "id": "459d388d-38e7-4fb2-997c-ff4281e32af6",
   "metadata": {},
   "outputs": [],
   "source": []
  },
  {
   "cell_type": "code",
   "execution_count": null,
   "id": "a57220dc-a2f8-4159-a403-9fe791022b7e",
   "metadata": {},
   "outputs": [],
   "source": []
  },
  {
   "cell_type": "code",
   "execution_count": null,
   "id": "10d29bfd-b5fa-483a-9b69-bce39bbeb673",
   "metadata": {},
   "outputs": [],
   "source": []
  },
  {
   "cell_type": "code",
   "execution_count": null,
   "id": "6290ea0f-0af4-47ce-8e35-c00ef2190b0d",
   "metadata": {},
   "outputs": [],
   "source": []
  },
  {
   "cell_type": "code",
   "execution_count": null,
   "id": "3842ddf9-45bf-4b8e-838e-dd01b0c3c9b3",
   "metadata": {},
   "outputs": [],
   "source": []
  },
  {
   "cell_type": "code",
   "execution_count": null,
   "id": "c728ae06-3e20-4992-aa5e-ea6f7fbf943a",
   "metadata": {},
   "outputs": [],
   "source": []
  },
  {
   "cell_type": "code",
   "execution_count": null,
   "id": "6bb7fb4b-4343-45d5-b595-48878217b8b3",
   "metadata": {},
   "outputs": [],
   "source": []
  },
  {
   "cell_type": "code",
   "execution_count": null,
   "id": "b7a15e7e-3bd5-4f34-911b-51a2294971c0",
   "metadata": {},
   "outputs": [],
   "source": []
  }
 ],
 "metadata": {
  "kernelspec": {
   "display_name": "Python 3 (ipykernel)",
   "language": "python",
   "name": "python3"
  },
  "language_info": {
   "codemirror_mode": {
    "name": "ipython",
    "version": 3
   },
   "file_extension": ".py",
   "mimetype": "text/x-python",
   "name": "python",
   "nbconvert_exporter": "python",
   "pygments_lexer": "ipython3",
   "version": "3.12.3"
  }
 },
 "nbformat": 4,
 "nbformat_minor": 5
}
