{
 "cells": [
  {
   "cell_type": "code",
   "execution_count": 1,
   "id": "3e8310de-1f48-40bb-88cb-2d6b3a03b1ce",
   "metadata": {},
   "outputs": [],
   "source": [
    "import unittest\n",
    "import source.check_data as chd\n",
    "import pandas as pd\n",
    "import numpy as np\n",
    "from pathlib import Path\n",
    "import os\n",
    "import random"
   ]
  },
  {
   "cell_type": "markdown",
   "id": "36920085-00b1-452c-bde8-83e7b5ab20ff",
   "metadata": {},
   "source": [
    "## Make test data: "
   ]
  },
  {
   "cell_type": "code",
   "execution_count": 2,
   "id": "0a597eba-b722-4d54-9458-3e6a6de2e29f",
   "metadata": {},
   "outputs": [],
   "source": [
    "random.seed(43)"
   ]
  },
  {
   "cell_type": "markdown",
   "id": "dbc367e9-27fc-4941-94c2-9ce3bbb90f3d",
   "metadata": {},
   "source": [
    "### Complex test data: "
   ]
  },
  {
   "cell_type": "markdown",
   "id": "4c002d25-6b13-489d-a281-054d2c0fd95c",
   "metadata": {},
   "source": [
    "#### Random floats between 0 and 8 to simulate time stamps measured in hours, then sort them from smallest to biggest:"
   ]
  },
  {
   "cell_type": "code",
   "execution_count": 3,
   "id": "518a7499-8142-418f-bab7-878d836ee8cf",
   "metadata": {},
   "outputs": [
    {
     "data": {
      "text/plain": [
       "[0.30841471469904036,\n",
       " 5.5697945810964224,\n",
       " 1.1514657711628882,\n",
       " 3.7002580386327004,\n",
       " 5.373174112942136,\n",
       " 6.343610173242355,\n",
       " 3.6255138277296988,\n",
       " 3.9861778383844095,\n",
       " 0.15325686419478224,\n",
       " 3.4591107116115216]"
      ]
     },
     "execution_count": 3,
     "metadata": {},
     "output_type": "execute_result"
    }
   ],
   "source": [
    "round_counter = 0\n",
    "random_floats = []\n",
    "while round_counter < 10:\n",
    "    random_float = random.uniform(0, 8)\n",
    "    random_floats.append(random_float)\n",
    "    round_counter += 1\n",
    "random_floats"
   ]
  },
  {
   "cell_type": "code",
   "execution_count": 4,
   "id": "a93baf5c-5728-4873-8a93-3461a9bdc003",
   "metadata": {},
   "outputs": [
    {
     "data": {
      "text/plain": [
       "dtype('float64')"
      ]
     },
     "execution_count": 4,
     "metadata": {},
     "output_type": "execute_result"
    }
   ],
   "source": [
    "np.array(random_floats).dtype"
   ]
  },
  {
   "cell_type": "code",
   "execution_count": 5,
   "id": "109e8408-6ebc-4ae6-b08f-7aa318e8616c",
   "metadata": {},
   "outputs": [
    {
     "data": {
      "text/plain": [
       "[0.15325686419478224,\n",
       " 0.30841471469904036,\n",
       " 1.1514657711628882,\n",
       " 3.4591107116115216,\n",
       " 3.6255138277296988,\n",
       " 3.7002580386327004,\n",
       " 3.9861778383844095,\n",
       " 5.373174112942136,\n",
       " 5.5697945810964224,\n",
       " 6.343610173242355]"
      ]
     },
     "execution_count": 5,
     "metadata": {},
     "output_type": "execute_result"
    }
   ],
   "source": [
    "random_floats.sort()\n",
    "random_floats"
   ]
  },
  {
   "cell_type": "markdown",
   "id": "b2833200-3e91-43a7-82e6-3fa4ad65556c",
   "metadata": {},
   "source": [
    "#### Put everything into a dataframe:"
   ]
  },
  {
   "cell_type": "code",
   "execution_count": 6,
   "id": "1ceeda27-07ba-4202-95fa-0f23d6edff16",
   "metadata": {},
   "outputs": [
    {
     "data": {
      "text/html": [
       "<div>\n",
       "<style scoped>\n",
       "    .dataframe tbody tr th:only-of-type {\n",
       "        vertical-align: middle;\n",
       "    }\n",
       "\n",
       "    .dataframe tbody tr th {\n",
       "        vertical-align: top;\n",
       "    }\n",
       "\n",
       "    .dataframe thead th {\n",
       "        text-align: right;\n",
       "    }\n",
       "</style>\n",
       "<table border=\"1\" class=\"dataframe\">\n",
       "  <thead>\n",
       "    <tr style=\"text-align: right;\">\n",
       "      <th></th>\n",
       "      <th>pseudo_time_stamp</th>\n",
       "    </tr>\n",
       "  </thead>\n",
       "  <tbody>\n",
       "    <tr>\n",
       "      <th>0</th>\n",
       "      <td>0.153257</td>\n",
       "    </tr>\n",
       "    <tr>\n",
       "      <th>1</th>\n",
       "      <td>0.308415</td>\n",
       "    </tr>\n",
       "    <tr>\n",
       "      <th>2</th>\n",
       "      <td>1.151466</td>\n",
       "    </tr>\n",
       "    <tr>\n",
       "      <th>3</th>\n",
       "      <td>3.459111</td>\n",
       "    </tr>\n",
       "    <tr>\n",
       "      <th>4</th>\n",
       "      <td>3.625514</td>\n",
       "    </tr>\n",
       "    <tr>\n",
       "      <th>5</th>\n",
       "      <td>3.700258</td>\n",
       "    </tr>\n",
       "    <tr>\n",
       "      <th>6</th>\n",
       "      <td>3.986178</td>\n",
       "    </tr>\n",
       "    <tr>\n",
       "      <th>7</th>\n",
       "      <td>5.373174</td>\n",
       "    </tr>\n",
       "    <tr>\n",
       "      <th>8</th>\n",
       "      <td>5.569795</td>\n",
       "    </tr>\n",
       "    <tr>\n",
       "      <th>9</th>\n",
       "      <td>6.343610</td>\n",
       "    </tr>\n",
       "  </tbody>\n",
       "</table>\n",
       "</div>"
      ],
      "text/plain": [
       "   pseudo_time_stamp\n",
       "0           0.153257\n",
       "1           0.308415\n",
       "2           1.151466\n",
       "3           3.459111\n",
       "4           3.625514\n",
       "5           3.700258\n",
       "6           3.986178\n",
       "7           5.373174\n",
       "8           5.569795\n",
       "9           6.343610"
      ]
     },
     "execution_count": 6,
     "metadata": {},
     "output_type": "execute_result"
    }
   ],
   "source": [
    "test_data_complex = pd.DataFrame({'pseudo_time_stamp': random_floats})\n",
    "test_data_complex"
   ]
  },
  {
   "cell_type": "markdown",
   "id": "3bb2a5ab-5c15-491e-b78f-c7e9dd92ffd6",
   "metadata": {},
   "source": [
    "#### Categorize data into bins according to one hour time intervals by adding time stamp bins:"
   ]
  },
  {
   "cell_type": "code",
   "execution_count": 7,
   "id": "1eebb41d-8ac7-4419-8be2-28f02c388481",
   "metadata": {},
   "outputs": [],
   "source": [
    "test_data_complex[\"time_stamps_bins\"] = pd.cut(test_data_complex[\"pseudo_time_stamp\"],\n",
    "                               bins=[0, 1, 2, 3, 4, 5, 6, 7, 8, np.inf],\n",
    "                               labels=[1, 2, 3, 4, 5, 6, 7, 8, 9])"
   ]
  },
  {
   "cell_type": "code",
   "execution_count": 8,
   "id": "feb52dc9-7955-4abe-9f2e-1bd8c6e9e59d",
   "metadata": {},
   "outputs": [
    {
     "data": {
      "text/html": [
       "<div>\n",
       "<style scoped>\n",
       "    .dataframe tbody tr th:only-of-type {\n",
       "        vertical-align: middle;\n",
       "    }\n",
       "\n",
       "    .dataframe tbody tr th {\n",
       "        vertical-align: top;\n",
       "    }\n",
       "\n",
       "    .dataframe thead th {\n",
       "        text-align: right;\n",
       "    }\n",
       "</style>\n",
       "<table border=\"1\" class=\"dataframe\">\n",
       "  <thead>\n",
       "    <tr style=\"text-align: right;\">\n",
       "      <th></th>\n",
       "      <th>pseudo_time_stamp</th>\n",
       "      <th>time_stamps_bins</th>\n",
       "    </tr>\n",
       "  </thead>\n",
       "  <tbody>\n",
       "    <tr>\n",
       "      <th>0</th>\n",
       "      <td>0.153257</td>\n",
       "      <td>1</td>\n",
       "    </tr>\n",
       "    <tr>\n",
       "      <th>1</th>\n",
       "      <td>0.308415</td>\n",
       "      <td>1</td>\n",
       "    </tr>\n",
       "    <tr>\n",
       "      <th>2</th>\n",
       "      <td>1.151466</td>\n",
       "      <td>2</td>\n",
       "    </tr>\n",
       "    <tr>\n",
       "      <th>3</th>\n",
       "      <td>3.459111</td>\n",
       "      <td>4</td>\n",
       "    </tr>\n",
       "    <tr>\n",
       "      <th>4</th>\n",
       "      <td>3.625514</td>\n",
       "      <td>4</td>\n",
       "    </tr>\n",
       "    <tr>\n",
       "      <th>5</th>\n",
       "      <td>3.700258</td>\n",
       "      <td>4</td>\n",
       "    </tr>\n",
       "    <tr>\n",
       "      <th>6</th>\n",
       "      <td>3.986178</td>\n",
       "      <td>4</td>\n",
       "    </tr>\n",
       "    <tr>\n",
       "      <th>7</th>\n",
       "      <td>5.373174</td>\n",
       "      <td>6</td>\n",
       "    </tr>\n",
       "    <tr>\n",
       "      <th>8</th>\n",
       "      <td>5.569795</td>\n",
       "      <td>6</td>\n",
       "    </tr>\n",
       "    <tr>\n",
       "      <th>9</th>\n",
       "      <td>6.343610</td>\n",
       "      <td>7</td>\n",
       "    </tr>\n",
       "  </tbody>\n",
       "</table>\n",
       "</div>"
      ],
      "text/plain": [
       "   pseudo_time_stamp time_stamps_bins\n",
       "0           0.153257                1\n",
       "1           0.308415                1\n",
       "2           1.151466                2\n",
       "3           3.459111                4\n",
       "4           3.625514                4\n",
       "5           3.700258                4\n",
       "6           3.986178                4\n",
       "7           5.373174                6\n",
       "8           5.569795                6\n",
       "9           6.343610                7"
      ]
     },
     "execution_count": 8,
     "metadata": {},
     "output_type": "execute_result"
    }
   ],
   "source": [
    "test_data_complex"
   ]
  },
  {
   "cell_type": "markdown",
   "id": "9907c809-1528-4d8d-a3f6-d092cf8253cb",
   "metadata": {},
   "source": [
    "### Engineer the number of different subject Ids"
   ]
  },
  {
   "cell_type": "code",
   "execution_count": 9,
   "id": "00447b48-225c-4519-b38d-d9deb4eada93",
   "metadata": {},
   "outputs": [],
   "source": [
    "# Number of different categories per bin:\n",
    "\n",
    "pseudo_subjects_1 = ['Sub_01', 'Sub_01'] # First bin, one category.\n",
    "b1 = 1\n",
    "pseudo_subjects_2 = ['Sub_02'] # Second bin, one category.\n",
    "b2 = 1\n",
    "pseudo_subjects_4 = ['Sub_02', 'Sub_03', 'Sub_02', 'Sub_01'] # Fourth bin, three different categories.\n",
    "b4 = 3\n",
    "pseudo_subjects_6 = ['Sub_04', 'Sub_01'] # Sixth bin, two categories.\n",
    "b6 = 2\n",
    "pseudo_subjects_7 = ['Sub_02'] # Seventh bin, one category.\n",
    "b7 = 1"
   ]
  },
  {
   "cell_type": "code",
   "execution_count": 10,
   "id": "a7d94f82-69d5-4c5f-b782-a197f52b7dbd",
   "metadata": {},
   "outputs": [
    {
     "data": {
      "text/plain": [
       "[1, 2, 4, 6, 7]"
      ]
     },
     "execution_count": 10,
     "metadata": {},
     "output_type": "execute_result"
    }
   ],
   "source": [
    "cat_num_list_complex = [b1] + [b2] + [b4] + [b6] + [b7]\n",
    "cat_num_list_complex\n",
    "time_bin_list_complex = [1, 2, 4, 6, 7]\n",
    "time_bin_list_complex"
   ]
  },
  {
   "cell_type": "code",
   "execution_count": 11,
   "id": "a86de024-a157-4016-9299-13d594b0927f",
   "metadata": {},
   "outputs": [
    {
     "name": "stdout",
     "output_type": "stream",
     "text": [
      "1\n",
      "1\n",
      "1\n",
      "1\n",
      "3\n",
      "3\n",
      "2\n",
      "2\n"
     ]
    }
   ],
   "source": [
    "print(len(set(pseudo_subjects_1)))\n",
    "print(b1)\n",
    "print(len(set(pseudo_subjects_2)))\n",
    "print(b2)\n",
    "print(len(set(pseudo_subjects_4)))\n",
    "print(b4)\n",
    "print(len(set(pseudo_subjects_6)))\n",
    "print(b6)"
   ]
  },
  {
   "cell_type": "code",
   "execution_count": 12,
   "id": "2c97ac18-d093-48b3-b491-69b3adadb313",
   "metadata": {},
   "outputs": [],
   "source": [
    "pseudo_subjects = pseudo_subjects_1 + pseudo_subjects_2 + pseudo_subjects_4 + \\\n",
    "pseudo_subjects_6 +pseudo_subjects_7"
   ]
  },
  {
   "cell_type": "code",
   "execution_count": 13,
   "id": "e72994ca-0fef-4d6f-921d-9ebc1f6dbd30",
   "metadata": {},
   "outputs": [
    {
     "data": {
      "text/html": [
       "<div>\n",
       "<style scoped>\n",
       "    .dataframe tbody tr th:only-of-type {\n",
       "        vertical-align: middle;\n",
       "    }\n",
       "\n",
       "    .dataframe tbody tr th {\n",
       "        vertical-align: top;\n",
       "    }\n",
       "\n",
       "    .dataframe thead th {\n",
       "        text-align: right;\n",
       "    }\n",
       "</style>\n",
       "<table border=\"1\" class=\"dataframe\">\n",
       "  <thead>\n",
       "    <tr style=\"text-align: right;\">\n",
       "      <th></th>\n",
       "      <th>pseudo_time_stamp</th>\n",
       "      <th>time_stamps_bins</th>\n",
       "      <th>subject</th>\n",
       "    </tr>\n",
       "  </thead>\n",
       "  <tbody>\n",
       "    <tr>\n",
       "      <th>0</th>\n",
       "      <td>0.153257</td>\n",
       "      <td>1</td>\n",
       "      <td>Sub_01</td>\n",
       "    </tr>\n",
       "    <tr>\n",
       "      <th>1</th>\n",
       "      <td>0.308415</td>\n",
       "      <td>1</td>\n",
       "      <td>Sub_01</td>\n",
       "    </tr>\n",
       "    <tr>\n",
       "      <th>2</th>\n",
       "      <td>1.151466</td>\n",
       "      <td>2</td>\n",
       "      <td>Sub_02</td>\n",
       "    </tr>\n",
       "    <tr>\n",
       "      <th>3</th>\n",
       "      <td>3.459111</td>\n",
       "      <td>4</td>\n",
       "      <td>Sub_02</td>\n",
       "    </tr>\n",
       "    <tr>\n",
       "      <th>4</th>\n",
       "      <td>3.625514</td>\n",
       "      <td>4</td>\n",
       "      <td>Sub_03</td>\n",
       "    </tr>\n",
       "    <tr>\n",
       "      <th>5</th>\n",
       "      <td>3.700258</td>\n",
       "      <td>4</td>\n",
       "      <td>Sub_02</td>\n",
       "    </tr>\n",
       "    <tr>\n",
       "      <th>6</th>\n",
       "      <td>3.986178</td>\n",
       "      <td>4</td>\n",
       "      <td>Sub_01</td>\n",
       "    </tr>\n",
       "    <tr>\n",
       "      <th>7</th>\n",
       "      <td>5.373174</td>\n",
       "      <td>6</td>\n",
       "      <td>Sub_04</td>\n",
       "    </tr>\n",
       "    <tr>\n",
       "      <th>8</th>\n",
       "      <td>5.569795</td>\n",
       "      <td>6</td>\n",
       "      <td>Sub_01</td>\n",
       "    </tr>\n",
       "    <tr>\n",
       "      <th>9</th>\n",
       "      <td>6.343610</td>\n",
       "      <td>7</td>\n",
       "      <td>Sub_02</td>\n",
       "    </tr>\n",
       "  </tbody>\n",
       "</table>\n",
       "</div>"
      ],
      "text/plain": [
       "   pseudo_time_stamp time_stamps_bins subject\n",
       "0           0.153257                1  Sub_01\n",
       "1           0.308415                1  Sub_01\n",
       "2           1.151466                2  Sub_02\n",
       "3           3.459111                4  Sub_02\n",
       "4           3.625514                4  Sub_03\n",
       "5           3.700258                4  Sub_02\n",
       "6           3.986178                4  Sub_01\n",
       "7           5.373174                6  Sub_04\n",
       "8           5.569795                6  Sub_01\n",
       "9           6.343610                7  Sub_02"
      ]
     },
     "execution_count": 13,
     "metadata": {},
     "output_type": "execute_result"
    }
   ],
   "source": [
    "test_data_complex['subject'] = pseudo_subjects\n",
    "test_data_complex"
   ]
  },
  {
   "cell_type": "markdown",
   "id": "4e9d4312-dfb7-4724-bf1d-695f0708e1d6",
   "metadata": {},
   "source": [
    "### Engineer desired output based on the test-data:"
   ]
  },
  {
   "cell_type": "code",
   "execution_count": 14,
   "id": "08cf5b3c-26e3-43ac-9419-2ce802c1907f",
   "metadata": {},
   "outputs": [
    {
     "data": {
      "text/html": [
       "<div>\n",
       "<style scoped>\n",
       "    .dataframe tbody tr th:only-of-type {\n",
       "        vertical-align: middle;\n",
       "    }\n",
       "\n",
       "    .dataframe tbody tr th {\n",
       "        vertical-align: top;\n",
       "    }\n",
       "\n",
       "    .dataframe thead th {\n",
       "        text-align: right;\n",
       "    }\n",
       "</style>\n",
       "<table border=\"1\" class=\"dataframe\">\n",
       "  <thead>\n",
       "    <tr style=\"text-align: right;\">\n",
       "      <th></th>\n",
       "      <th>time_bin</th>\n",
       "      <th>number_unique_subjects</th>\n",
       "    </tr>\n",
       "  </thead>\n",
       "  <tbody>\n",
       "    <tr>\n",
       "      <th>0</th>\n",
       "      <td>1</td>\n",
       "      <td>1</td>\n",
       "    </tr>\n",
       "    <tr>\n",
       "      <th>1</th>\n",
       "      <td>2</td>\n",
       "      <td>1</td>\n",
       "    </tr>\n",
       "    <tr>\n",
       "      <th>2</th>\n",
       "      <td>4</td>\n",
       "      <td>3</td>\n",
       "    </tr>\n",
       "    <tr>\n",
       "      <th>3</th>\n",
       "      <td>6</td>\n",
       "      <td>2</td>\n",
       "    </tr>\n",
       "    <tr>\n",
       "      <th>4</th>\n",
       "      <td>7</td>\n",
       "      <td>1</td>\n",
       "    </tr>\n",
       "  </tbody>\n",
       "</table>\n",
       "</div>"
      ],
      "text/plain": [
       "   time_bin  number_unique_subjects\n",
       "0         1                       1\n",
       "1         2                       1\n",
       "2         4                       3\n",
       "3         6                       2\n",
       "4         7                       1"
      ]
     },
     "execution_count": 14,
     "metadata": {},
     "output_type": "execute_result"
    }
   ],
   "source": [
    "desired_output_complex = pd.DataFrame({'time_bin': time_bin_list_complex, \n",
    "                                       'number_unique_subjects': cat_num_list_complex})\n",
    "desired_output_complex"
   ]
  },
  {
   "cell_type": "code",
   "execution_count": null,
   "id": "6604375b-6bf6-4bf3-af64-f9fd28a5845f",
   "metadata": {},
   "outputs": [],
   "source": []
  },
  {
   "cell_type": "markdown",
   "id": "3abe873e-57cf-44b0-b6bb-2f4942269669",
   "metadata": {},
   "source": [
    "### Simple test data 1:"
   ]
  },
  {
   "cell_type": "markdown",
   "id": "9355cbd3-d1c1-4677-9c6f-ba9ec882dbff",
   "metadata": {},
   "source": [
    "#### Choose floats simulating time stamps:"
   ]
  },
  {
   "cell_type": "code",
   "execution_count": 15,
   "id": "24b83fad-e614-4f75-9340-303b12dd507d",
   "metadata": {},
   "outputs": [],
   "source": [
    "floats = np.array([0.2, 1.5, 1.9])"
   ]
  },
  {
   "cell_type": "code",
   "execution_count": 16,
   "id": "6f77bf14-3f93-4cc7-9eb1-58c55ab58f3c",
   "metadata": {},
   "outputs": [
    {
     "data": {
      "text/html": [
       "<div>\n",
       "<style scoped>\n",
       "    .dataframe tbody tr th:only-of-type {\n",
       "        vertical-align: middle;\n",
       "    }\n",
       "\n",
       "    .dataframe tbody tr th {\n",
       "        vertical-align: top;\n",
       "    }\n",
       "\n",
       "    .dataframe thead th {\n",
       "        text-align: right;\n",
       "    }\n",
       "</style>\n",
       "<table border=\"1\" class=\"dataframe\">\n",
       "  <thead>\n",
       "    <tr style=\"text-align: right;\">\n",
       "      <th></th>\n",
       "      <th>pseudo_time_stamp</th>\n",
       "    </tr>\n",
       "  </thead>\n",
       "  <tbody>\n",
       "    <tr>\n",
       "      <th>0</th>\n",
       "      <td>0.2</td>\n",
       "    </tr>\n",
       "    <tr>\n",
       "      <th>1</th>\n",
       "      <td>1.5</td>\n",
       "    </tr>\n",
       "    <tr>\n",
       "      <th>2</th>\n",
       "      <td>1.9</td>\n",
       "    </tr>\n",
       "  </tbody>\n",
       "</table>\n",
       "</div>"
      ],
      "text/plain": [
       "   pseudo_time_stamp\n",
       "0                0.2\n",
       "1                1.5\n",
       "2                1.9"
      ]
     },
     "execution_count": 16,
     "metadata": {},
     "output_type": "execute_result"
    }
   ],
   "source": [
    "test_data_simple_1 = pd.DataFrame({'pseudo_time_stamp': floats})\n",
    "test_data_simple_1"
   ]
  },
  {
   "cell_type": "markdown",
   "id": "10eece00-6ea8-486e-a6fe-17be88446b2e",
   "metadata": {},
   "source": [
    "#### Categorize time stamps into bins by one hour intervals:"
   ]
  },
  {
   "cell_type": "code",
   "execution_count": 17,
   "id": "0a11f46d-d6df-4f67-9230-db73262a8d5f",
   "metadata": {},
   "outputs": [],
   "source": [
    "test_data_simple_1[\"time_stamps_bins\"] = pd.cut(test_data_simple_1[\"pseudo_time_stamp\"],\n",
    "                               bins=[0, 1, np.inf],\n",
    "                               labels=[1, 2])"
   ]
  },
  {
   "cell_type": "code",
   "execution_count": 18,
   "id": "62e633fe-b2a1-4287-9157-42448e295109",
   "metadata": {},
   "outputs": [
    {
     "data": {
      "text/html": [
       "<div>\n",
       "<style scoped>\n",
       "    .dataframe tbody tr th:only-of-type {\n",
       "        vertical-align: middle;\n",
       "    }\n",
       "\n",
       "    .dataframe tbody tr th {\n",
       "        vertical-align: top;\n",
       "    }\n",
       "\n",
       "    .dataframe thead th {\n",
       "        text-align: right;\n",
       "    }\n",
       "</style>\n",
       "<table border=\"1\" class=\"dataframe\">\n",
       "  <thead>\n",
       "    <tr style=\"text-align: right;\">\n",
       "      <th></th>\n",
       "      <th>pseudo_time_stamp</th>\n",
       "      <th>time_stamps_bins</th>\n",
       "    </tr>\n",
       "  </thead>\n",
       "  <tbody>\n",
       "    <tr>\n",
       "      <th>0</th>\n",
       "      <td>0.2</td>\n",
       "      <td>1</td>\n",
       "    </tr>\n",
       "    <tr>\n",
       "      <th>1</th>\n",
       "      <td>1.5</td>\n",
       "      <td>2</td>\n",
       "    </tr>\n",
       "    <tr>\n",
       "      <th>2</th>\n",
       "      <td>1.9</td>\n",
       "      <td>2</td>\n",
       "    </tr>\n",
       "  </tbody>\n",
       "</table>\n",
       "</div>"
      ],
      "text/plain": [
       "   pseudo_time_stamp time_stamps_bins\n",
       "0                0.2                1\n",
       "1                1.5                2\n",
       "2                1.9                2"
      ]
     },
     "execution_count": 18,
     "metadata": {},
     "output_type": "execute_result"
    }
   ],
   "source": [
    "test_data_simple_1"
   ]
  },
  {
   "cell_type": "markdown",
   "id": "ad9506df-1dc5-4da6-ae63-489f2fa6fa06",
   "metadata": {},
   "source": [
    "#### Engineer the number of different subject Ids"
   ]
  },
  {
   "cell_type": "code",
   "execution_count": 19,
   "id": "604ada21-0438-40a8-a47e-79afa3c51daf",
   "metadata": {},
   "outputs": [],
   "source": [
    "# Number of different categories per bin:\n",
    "pseudo_subjects_1_simple_1 = ['Sub_01'] # First bin, one category.\n",
    "b1_simple_1 = 1\n",
    "pseudo_subjects_2_simple_1 = ['Sub_01', 'Sub_02'] # Second bin, two categories.\n",
    "b2_simple_1 = 2"
   ]
  },
  {
   "cell_type": "code",
   "execution_count": 20,
   "id": "ff306574-d3e0-4050-bf03-077324d5d2ac",
   "metadata": {},
   "outputs": [
    {
     "name": "stdout",
     "output_type": "stream",
     "text": [
      "[1, 2]\n",
      "[1, 2]\n"
     ]
    }
   ],
   "source": [
    "# List of category numbers:\n",
    "cat_num_list_simple_1 = [b1_simple_1] + [b2_simple_1]\n",
    "print(cat_num_list_simple_1)\n",
    "# List of hour bins:\n",
    "time_bin_list_simple_1 = [1, 2]\n",
    "print(time_bin_list_simple_1)"
   ]
  },
  {
   "cell_type": "code",
   "execution_count": 21,
   "id": "8de7b18c-6dae-4d82-aaea-1de5dd9de677",
   "metadata": {},
   "outputs": [
    {
     "name": "stdout",
     "output_type": "stream",
     "text": [
      "number of subjects in bin 1:\n",
      "1\n",
      "1\n",
      "number of subjects in bin 2:\n",
      "2\n",
      "2\n"
     ]
    }
   ],
   "source": [
    "# Check number of subjects in bin 1:\n",
    "print('number of subjects in bin 1:')\n",
    "print(len(set(pseudo_subjects_1_simple_1)))\n",
    "print(b1_simple_1)\n",
    "# Check number of subjects in bin 2:\n",
    "print('number of subjects in bin 2:')\n",
    "print(len(set(pseudo_subjects_2_simple_1)))\n",
    "print(b2_simple_1)"
   ]
  },
  {
   "cell_type": "code",
   "execution_count": 22,
   "id": "fab297c5-8534-4a11-b08c-895fe5fdae87",
   "metadata": {},
   "outputs": [],
   "source": [
    "pseudo_subjects_simple_1 = pseudo_subjects_1_simple_1 + pseudo_subjects_2_simple_1"
   ]
  },
  {
   "cell_type": "code",
   "execution_count": 23,
   "id": "274c0f5c-cdd1-4153-9139-e464da8b1478",
   "metadata": {},
   "outputs": [
    {
     "data": {
      "text/html": [
       "<div>\n",
       "<style scoped>\n",
       "    .dataframe tbody tr th:only-of-type {\n",
       "        vertical-align: middle;\n",
       "    }\n",
       "\n",
       "    .dataframe tbody tr th {\n",
       "        vertical-align: top;\n",
       "    }\n",
       "\n",
       "    .dataframe thead th {\n",
       "        text-align: right;\n",
       "    }\n",
       "</style>\n",
       "<table border=\"1\" class=\"dataframe\">\n",
       "  <thead>\n",
       "    <tr style=\"text-align: right;\">\n",
       "      <th></th>\n",
       "      <th>pseudo_time_stamp</th>\n",
       "      <th>time_stamps_bins</th>\n",
       "      <th>subject</th>\n",
       "    </tr>\n",
       "  </thead>\n",
       "  <tbody>\n",
       "    <tr>\n",
       "      <th>0</th>\n",
       "      <td>0.2</td>\n",
       "      <td>1</td>\n",
       "      <td>Sub_01</td>\n",
       "    </tr>\n",
       "    <tr>\n",
       "      <th>1</th>\n",
       "      <td>1.5</td>\n",
       "      <td>2</td>\n",
       "      <td>Sub_01</td>\n",
       "    </tr>\n",
       "    <tr>\n",
       "      <th>2</th>\n",
       "      <td>1.9</td>\n",
       "      <td>2</td>\n",
       "      <td>Sub_02</td>\n",
       "    </tr>\n",
       "  </tbody>\n",
       "</table>\n",
       "</div>"
      ],
      "text/plain": [
       "   pseudo_time_stamp time_stamps_bins subject\n",
       "0                0.2                1  Sub_01\n",
       "1                1.5                2  Sub_01\n",
       "2                1.9                2  Sub_02"
      ]
     },
     "execution_count": 23,
     "metadata": {},
     "output_type": "execute_result"
    }
   ],
   "source": [
    "test_data_simple_1['subject'] = pseudo_subjects_simple_1\n",
    "test_data_simple_1"
   ]
  },
  {
   "cell_type": "markdown",
   "id": "955ec94c-b0ca-4230-90a6-8100236ea75c",
   "metadata": {},
   "source": [
    "### Engineer desired output based on the test-data:"
   ]
  },
  {
   "cell_type": "code",
   "execution_count": 24,
   "id": "7576dc59-6111-498a-8c84-916f1031df55",
   "metadata": {},
   "outputs": [
    {
     "data": {
      "text/html": [
       "<div>\n",
       "<style scoped>\n",
       "    .dataframe tbody tr th:only-of-type {\n",
       "        vertical-align: middle;\n",
       "    }\n",
       "\n",
       "    .dataframe tbody tr th {\n",
       "        vertical-align: top;\n",
       "    }\n",
       "\n",
       "    .dataframe thead th {\n",
       "        text-align: right;\n",
       "    }\n",
       "</style>\n",
       "<table border=\"1\" class=\"dataframe\">\n",
       "  <thead>\n",
       "    <tr style=\"text-align: right;\">\n",
       "      <th></th>\n",
       "      <th>time_bin</th>\n",
       "      <th>number_unique_subjects</th>\n",
       "    </tr>\n",
       "  </thead>\n",
       "  <tbody>\n",
       "    <tr>\n",
       "      <th>0</th>\n",
       "      <td>1</td>\n",
       "      <td>1</td>\n",
       "    </tr>\n",
       "    <tr>\n",
       "      <th>1</th>\n",
       "      <td>2</td>\n",
       "      <td>2</td>\n",
       "    </tr>\n",
       "  </tbody>\n",
       "</table>\n",
       "</div>"
      ],
      "text/plain": [
       "   time_bin  number_unique_subjects\n",
       "0         1                       1\n",
       "1         2                       2"
      ]
     },
     "execution_count": 24,
     "metadata": {},
     "output_type": "execute_result"
    }
   ],
   "source": [
    "desired_output_simple_1 = pd.DataFrame({'time_bin': time_bin_list_simple_1, \n",
    "                                      'number_unique_subjects': cat_num_list_simple_1})\n",
    "desired_output_simple_1"
   ]
  },
  {
   "cell_type": "code",
   "execution_count": null,
   "id": "33ef393c-e4a4-42ba-af86-3eda74bc8c03",
   "metadata": {},
   "outputs": [],
   "source": []
  },
  {
   "cell_type": "markdown",
   "id": "cdbd9eea-5b99-4619-9892-da0c908fafeb",
   "metadata": {},
   "source": [
    "### Choose test scenario:\n",
    "Simple or complex data, desired_output matching or not, time_bin_list matching or not:\n",
    "Not matching output is a test for the test procedure.\n",
    "Not matching time bin list is testing if the function fails whith a wrong time bin list."
   ]
  },
  {
   "cell_type": "code",
   "execution_count": null,
   "id": "9d524522-134b-4f5d-b282-79949ac2b4ea",
   "metadata": {},
   "outputs": [],
   "source": []
  },
  {
   "cell_type": "code",
   "execution_count": 36,
   "id": "feb100d4-cb61-4193-8ba7-75e4c44a96d9",
   "metadata": {},
   "outputs": [],
   "source": [
    "# Test data simple, desired output matching:\n",
    "test_data = test_data_simple_1\n",
    "desired_output = desired_output_simple_1\n",
    "time_bin_list = time_bin_list_simple_1\n",
    "# Expected outcome: Test OK!"
   ]
  },
  {
   "cell_type": "code",
   "execution_count": 43,
   "id": "51b2403a-205c-4784-88f6-730e7c63f082",
   "metadata": {},
   "outputs": [],
   "source": [
    "# Test data complex desired output matching:\n",
    "test_data = test_data_complex\n",
    "desired_output = desired_output_complex\n",
    "time_bin_list = time_bin_list_complex\n",
    "# Expected outcome: Test OK!"
   ]
  },
  {
   "cell_type": "code",
   "execution_count": 44,
   "id": "d6b2d66f-426f-4205-9eb7-3858896077a7",
   "metadata": {},
   "outputs": [],
   "source": [
    "# Test data complex desired output not matching:\n",
    "#test_data = test_data_complex\n",
    "#desired_output = desired_output_complex\n",
    "#time_bin_list = time_bin_list_simple_1\n",
    "# Expected outcome: Test failed!"
   ]
  },
  {
   "cell_type": "code",
   "execution_count": 45,
   "id": "9fb06ed6-648c-461c-b808-e3821a466551",
   "metadata": {},
   "outputs": [],
   "source": [
    "# Test data complex desired time_bin_list not matching:\n",
    "#test_data = test_data_complex\n",
    "#desired_output = desired_output_complex\n",
    "#time_bin_list = time_bin_list_simple_1\n",
    "# Expected outcome: Test failed!"
   ]
  },
  {
   "cell_type": "markdown",
   "id": "98425fb5-0feb-4e34-8fb4-f25ebfbe710b",
   "metadata": {},
   "source": [
    "### Visually compare output to desired output:"
   ]
  },
  {
   "cell_type": "code",
   "execution_count": 46,
   "id": "5447bf68-7cb6-4c45-b85e-e8a8a74aa6df",
   "metadata": {},
   "outputs": [
    {
     "data": {
      "text/html": [
       "<div>\n",
       "<style scoped>\n",
       "    .dataframe tbody tr th:only-of-type {\n",
       "        vertical-align: middle;\n",
       "    }\n",
       "\n",
       "    .dataframe tbody tr th {\n",
       "        vertical-align: top;\n",
       "    }\n",
       "\n",
       "    .dataframe thead th {\n",
       "        text-align: right;\n",
       "    }\n",
       "</style>\n",
       "<table border=\"1\" class=\"dataframe\">\n",
       "  <thead>\n",
       "    <tr style=\"text-align: right;\">\n",
       "      <th></th>\n",
       "      <th>time_bin</th>\n",
       "      <th>number_unique_subjects</th>\n",
       "    </tr>\n",
       "  </thead>\n",
       "  <tbody>\n",
       "    <tr>\n",
       "      <th>0</th>\n",
       "      <td>1</td>\n",
       "      <td>1</td>\n",
       "    </tr>\n",
       "    <tr>\n",
       "      <th>1</th>\n",
       "      <td>2</td>\n",
       "      <td>1</td>\n",
       "    </tr>\n",
       "    <tr>\n",
       "      <th>2</th>\n",
       "      <td>4</td>\n",
       "      <td>3</td>\n",
       "    </tr>\n",
       "    <tr>\n",
       "      <th>3</th>\n",
       "      <td>6</td>\n",
       "      <td>2</td>\n",
       "    </tr>\n",
       "    <tr>\n",
       "      <th>4</th>\n",
       "      <td>7</td>\n",
       "      <td>1</td>\n",
       "    </tr>\n",
       "  </tbody>\n",
       "</table>\n",
       "</div>"
      ],
      "text/plain": [
       "   time_bin  number_unique_subjects\n",
       "0         1                       1\n",
       "1         2                       1\n",
       "2         4                       3\n",
       "3         6                       2\n",
       "4         7                       1"
      ]
     },
     "execution_count": 46,
     "metadata": {},
     "output_type": "execute_result"
    }
   ],
   "source": [
    "chd.count_unique_subjects_per_hour(test_data, time_bin_list)"
   ]
  },
  {
   "cell_type": "code",
   "execution_count": 47,
   "id": "83547bf8-2bd3-44cd-997f-86098a93878c",
   "metadata": {},
   "outputs": [
    {
     "data": {
      "text/html": [
       "<div>\n",
       "<style scoped>\n",
       "    .dataframe tbody tr th:only-of-type {\n",
       "        vertical-align: middle;\n",
       "    }\n",
       "\n",
       "    .dataframe tbody tr th {\n",
       "        vertical-align: top;\n",
       "    }\n",
       "\n",
       "    .dataframe thead th {\n",
       "        text-align: right;\n",
       "    }\n",
       "</style>\n",
       "<table border=\"1\" class=\"dataframe\">\n",
       "  <thead>\n",
       "    <tr style=\"text-align: right;\">\n",
       "      <th></th>\n",
       "      <th>time_bin</th>\n",
       "      <th>number_unique_subjects</th>\n",
       "    </tr>\n",
       "  </thead>\n",
       "  <tbody>\n",
       "    <tr>\n",
       "      <th>0</th>\n",
       "      <td>1</td>\n",
       "      <td>1</td>\n",
       "    </tr>\n",
       "    <tr>\n",
       "      <th>1</th>\n",
       "      <td>2</td>\n",
       "      <td>1</td>\n",
       "    </tr>\n",
       "    <tr>\n",
       "      <th>2</th>\n",
       "      <td>4</td>\n",
       "      <td>3</td>\n",
       "    </tr>\n",
       "    <tr>\n",
       "      <th>3</th>\n",
       "      <td>6</td>\n",
       "      <td>2</td>\n",
       "    </tr>\n",
       "    <tr>\n",
       "      <th>4</th>\n",
       "      <td>7</td>\n",
       "      <td>1</td>\n",
       "    </tr>\n",
       "  </tbody>\n",
       "</table>\n",
       "</div>"
      ],
      "text/plain": [
       "   time_bin  number_unique_subjects\n",
       "0         1                       1\n",
       "1         2                       1\n",
       "2         4                       3\n",
       "3         6                       2\n",
       "4         7                       1"
      ]
     },
     "execution_count": 47,
     "metadata": {},
     "output_type": "execute_result"
    }
   ],
   "source": [
    "desired_output"
   ]
  },
  {
   "cell_type": "markdown",
   "id": "6fe256c9-5597-48f3-a2e5-ddbe28b9a196",
   "metadata": {},
   "source": [
    "## Implement Unit-Test:"
   ]
  },
  {
   "cell_type": "code",
   "execution_count": 48,
   "id": "02e33ea4-49ce-4104-a492-21af170fcb22",
   "metadata": {},
   "outputs": [
    {
     "name": "stderr",
     "output_type": "stream",
     "text": [
      "test_functReturnsSomething (__main__.TestCheckData.test_functReturnsSomething) ... ok\n",
      "test_inputExists (__main__.TestCheckData.test_inputExists) ... ok\n",
      "test_inputType (__main__.TestCheckData.test_inputType) ... ok\n",
      "test_outputDimensions (__main__.TestCheckData.test_outputDimensions) ... ok\n",
      "test_outputEqualsDesiredOutput (__main__.TestCheckData.test_outputEqualsDesiredOutput) ... ok\n",
      "test_outputType (__main__.TestCheckData.test_outputType) ... ok\n",
      "\n",
      "----------------------------------------------------------------------\n",
      "Ran 6 tests in 0.016s\n",
      "\n",
      "OK\n"
     ]
    },
    {
     "data": {
      "text/plain": [
       "<unittest.main.TestProgram at 0xffff47f78e60>"
      ]
     },
     "execution_count": 48,
     "metadata": {},
     "output_type": "execute_result"
    }
   ],
   "source": [
    "class TestCheckData(unittest.TestCase):\n",
    "    def setUp(self):\n",
    "        self.data = test_data\n",
    "    # tests go here:\n",
    "    def test_inputExists(self):\n",
    "        self.assertIsNotNone(self.data)\n",
    "        \n",
    "    def test_inputType(self):\n",
    "        self.assertIsInstance(self.data, pd.core.frame.DataFrame)\n",
    "        \n",
    "    def test_functReturnsSomething(self):\n",
    "        self.assertIsNotNone(chd.count_unique_subjects_per_hour(self.data, time_bin_list))\n",
    "\n",
    "    def test_outputType(self):\n",
    "        self.assertIsInstance(chd.count_unique_subjects_per_hour(self.data, time_bin_list), pd.core.frame.DataFrame)\n",
    "\n",
    "    def test_outputDimensions(self):\n",
    "        df_output = chd.count_unique_subjects_per_hour(self.data, time_bin_list)\n",
    "        df_output_desired = desired_output\n",
    "        self.assertEqual(True, df_output.shape == df_output_desired.shape)\n",
    "    \n",
    "    def test_outputEqualsDesiredOutput(self):\n",
    "        df_output = chd.count_unique_subjects_per_hour(self.data, time_bin_list)\n",
    "        df_output_desired = desired_output\n",
    "        self.assertEqual(True, df_output.equals(df_output_desired))\n",
    "\n",
    "        \n",
    "    \n",
    "#if __name__ == \"__main__\":\n",
    " #   unittest.main()\n",
    "\n",
    "unittest.main(argv=[''], verbosity=2, exit=False)\n",
    "    "
   ]
  },
  {
   "cell_type": "code",
   "execution_count": null,
   "id": "59e18d33-343b-450f-a860-548e1de1f925",
   "metadata": {},
   "outputs": [],
   "source": []
  },
  {
   "cell_type": "code",
   "execution_count": null,
   "id": "22d10286-36b3-4ae6-8670-8f26c67e4fb8",
   "metadata": {},
   "outputs": [],
   "source": []
  },
  {
   "cell_type": "code",
   "execution_count": null,
   "id": "697a996d-3d91-48e1-b393-3c4b7a802cf3",
   "metadata": {},
   "outputs": [],
   "source": []
  }
 ],
 "metadata": {
  "kernelspec": {
   "display_name": "Python 3 (ipykernel)",
   "language": "python",
   "name": "python3"
  },
  "language_info": {
   "codemirror_mode": {
    "name": "ipython",
    "version": 3
   },
   "file_extension": ".py",
   "mimetype": "text/x-python",
   "name": "python",
   "nbconvert_exporter": "python",
   "pygments_lexer": "ipython3",
   "version": "3.12.3"
  }
 },
 "nbformat": 4,
 "nbformat_minor": 5
}
