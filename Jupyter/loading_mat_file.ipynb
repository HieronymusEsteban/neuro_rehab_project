{
 "cells": [
  {
   "cell_type": "code",
   "execution_count": null,
   "id": "3f0ba134-9460-4ab1-af14-fe470108871e",
   "metadata": {},
   "outputs": [],
   "source": [
    "import pandas as pd\n",
    "import numpy as np\n",
    "import scipy.io as sio\n",
    "import os\n",
    "import re"
   ]
  },
  {
   "cell_type": "code",
   "execution_count": null,
   "id": "4184de18-27d8-41c4-b263-11491772e67e",
   "metadata": {},
   "outputs": [],
   "source": [
    "os.listdir()"
   ]
  },
  {
   "cell_type": "markdown",
   "id": "a7f81c4f-1888-4bce-9160-1c09451f3b4d",
   "metadata": {},
   "source": [
    "Load data: "
   ]
  },
  {
   "cell_type": "code",
   "execution_count": null,
   "id": "692f5936-6bdb-4cf5-a820-0e8bc8445881",
   "metadata": {},
   "outputs": [],
   "source": [
    "mat_contents = sio.loadmat('Data/Sub_01_locomotion_metrics_T2.mat')"
   ]
  },
  {
   "cell_type": "markdown",
   "id": "ba171265-d793-428b-81ed-85e3047feff6",
   "metadata": {},
   "source": [
    "The mat_contents object is a python dictionary:"
   ]
  },
  {
   "cell_type": "code",
   "execution_count": null,
   "id": "4de92c72-038a-48b3-a982-292d7c4d6bfb",
   "metadata": {},
   "outputs": [],
   "source": [
    "type(mat_contents)"
   ]
  },
  {
   "cell_type": "markdown",
   "id": "db4172c2-8a4f-45cf-bb6d-af2c08961028",
   "metadata": {},
   "source": [
    "There is information about the creation of the file in an entry specified by a key called __header__ : "
   ]
  },
  {
   "cell_type": "code",
   "execution_count": null,
   "id": "3c0b2f87-ccf9-4d60-a365-80e1b258a15e",
   "metadata": {},
   "outputs": [],
   "source": [
    "mat_contents['__header__']"
   ]
  },
  {
   "cell_type": "code",
   "execution_count": null,
   "id": "81091b88-740e-4c25-8940-17cf1ac8a13f",
   "metadata": {},
   "outputs": [],
   "source": [
    "mat_contents['__version__']"
   ]
  },
  {
   "cell_type": "markdown",
   "id": "1ace273a-5c0b-48f0-a5d6-552ca59f3fa7",
   "metadata": {},
   "source": [
    "There is another entry is specified by the key 'results' and it is a numpy array:"
   ]
  },
  {
   "cell_type": "code",
   "execution_count": null,
   "id": "adb603e6-9d0b-4290-80c2-90737627c042",
   "metadata": {},
   "outputs": [],
   "source": [
    "type(mat_contents['results'])"
   ]
  },
  {
   "cell_type": "markdown",
   "id": "b716cb07-8b30-454e-81ed-806048d6ea4a",
   "metadata": {},
   "source": [
    "The numpy array contains another numpy array which in turn contains an object of type numpy.void: "
   ]
  },
  {
   "cell_type": "code",
   "execution_count": null,
   "id": "d02c6fca-905f-4f8c-ab63-eded87ac112c",
   "metadata": {},
   "outputs": [],
   "source": [
    "type(mat_contents['results'][0])"
   ]
  },
  {
   "cell_type": "code",
   "execution_count": null,
   "id": "06448329-867f-4997-ade5-4459592b3450",
   "metadata": {},
   "outputs": [],
   "source": [
    "type(mat_contents['results'][0][0])"
   ]
  },
  {
   "cell_type": "markdown",
   "id": "4a98d108-4087-43c0-9fb4-f7c656ef0f1c",
   "metadata": {},
   "source": [
    "This object (mat_contents['results'][0][0]) then contains 15 elements and an attribute with information about 15 elements:"
   ]
  },
  {
   "cell_type": "code",
   "execution_count": null,
   "id": "d7ce4516-daf3-4d7d-bb25-b499a27c53af",
   "metadata": {},
   "outputs": [],
   "source": [
    "len(mat_contents['results'][0][0])"
   ]
  },
  {
   "cell_type": "code",
   "execution_count": null,
   "id": "eb798f9d-84c1-46dc-b203-436d91cba805",
   "metadata": {},
   "outputs": [],
   "source": [
    "len(mat_contents['results'].dtype)"
   ]
  },
  {
   "cell_type": "code",
   "execution_count": null,
   "id": "19d5f348-9529-4089-8385-0243c85a3bff",
   "metadata": {},
   "outputs": [],
   "source": [
    "mat_contents['results'].dtype"
   ]
  },
  {
   "cell_type": "markdown",
   "id": "dadc6030-8f49-452c-97ea-04f95c8f6254",
   "metadata": {},
   "source": [
    "The elements in mat_contents['results'][0][0] are all numpy arrays, each of length 1 (it turns out, there is yet another numpy array inside this array of length 1 where you find the actual data):"
   ]
  },
  {
   "cell_type": "code",
   "execution_count": null,
   "id": "530a83c5-3c99-435b-a251-fe63da0ac4c4",
   "metadata": {},
   "outputs": [],
   "source": [
    "for index in range(0, len(mat_contents['results'][0][0])):\n",
    "    print('\\n')\n",
    "    print(index)\n",
    "    print(type(mat_contents['results'][0][0][index]))\n",
    "    print('length')\n",
    "    print(len(mat_contents['results'][0][0][index]))"
   ]
  },
  {
   "cell_type": "code",
   "execution_count": null,
   "id": "cfea4358-c0e2-4a10-9137-482a51cdd08d",
   "metadata": {},
   "outputs": [],
   "source": []
  },
  {
   "cell_type": "markdown",
   "id": "4d4f11a8-5541-4d61-ab95-3540e81fad63",
   "metadata": {},
   "source": [
    "One can have a look at the 15 arrays and the 15 information items about the arrays: "
   ]
  },
  {
   "cell_type": "code",
   "execution_count": null,
   "id": "d6b504f8-23ed-4244-9d70-2343d4066685",
   "metadata": {},
   "outputs": [],
   "source": [
    "mat_contents['results'][0][0][5]"
   ]
  },
  {
   "cell_type": "markdown",
   "id": "077c7eb3-6d6e-443f-beba-e7b273f4df18",
   "metadata": {},
   "source": [
    "It is the array inside the array that contains the actual data, so you need to slice the array once more to get the length and contents of the data:"
   ]
  },
  {
   "cell_type": "code",
   "execution_count": null,
   "id": "83604b46-c838-4afb-8fd8-16710bc1fe4a",
   "metadata": {},
   "outputs": [],
   "source": [
    "len(mat_contents['results'][0][0][5][0])"
   ]
  },
  {
   "cell_type": "code",
   "execution_count": null,
   "id": "1a9804ea-d193-4235-a5af-f2af3a54e575",
   "metadata": {},
   "outputs": [],
   "source": [
    "mat_contents['results'][0][0][5][0]"
   ]
  },
  {
   "cell_type": "code",
   "execution_count": null,
   "id": "d00b77d2-a9b0-4fc2-a210-3c562962b248",
   "metadata": {},
   "outputs": [],
   "source": []
  },
  {
   "cell_type": "code",
   "execution_count": null,
   "id": "3f8a1dfd-2d10-4fcf-8139-cb2d9a99a7ee",
   "metadata": {},
   "outputs": [],
   "source": [
    "for index in range(0, len(mat_contents['results'][0][0])):\n",
    "    print('\\n')\n",
    "    print(index)\n",
    "    print(type(mat_contents['results'][0][0][index][0]))\n",
    "    print('length')\n",
    "    print(len(mat_contents['results'][0][0][index][0]))\n",
    "    print(mat_contents['results'].dtype.descr[index])"
   ]
  },
  {
   "cell_type": "code",
   "execution_count": null,
   "id": "0df909f5-dfca-49f8-b6ef-4f309b9eda69",
   "metadata": {},
   "outputs": [],
   "source": [
    "os.getcwd()"
   ]
  },
  {
   "cell_type": "code",
   "execution_count": null,
   "id": "e75103bf-94e4-4f13-9201-f9d19628c506",
   "metadata": {},
   "outputs": [],
   "source": [
    "file_list = os.listdir('Data')\n",
    "file_list_mat = [x for x in  file_list if x[-4:] == '.mat']\n",
    "len(file_list_mat)"
   ]
  },
  {
   "cell_type": "code",
   "execution_count": null,
   "id": "d4206e51-1d10-4927-aa5e-773cc1932e8f",
   "metadata": {},
   "outputs": [],
   "source": [
    "os.listdir()"
   ]
  },
  {
   "cell_type": "code",
   "execution_count": null,
   "id": "94e44f6b-4749-496d-88ee-016337deedff",
   "metadata": {},
   "outputs": [],
   "source": []
  },
  {
   "cell_type": "code",
   "execution_count": null,
   "id": "eccc0176-7959-41ea-89c1-234864bb8a15",
   "metadata": {},
   "outputs": [],
   "source": [
    "os.chdir('Data')\n",
    "\n",
    "data_all = dict()\n",
    "\n",
    "for file in file_list_mat:\n",
    "    mat_contents = sio.loadmat(file)\n",
    "    data_all[file] = mat_contents"
   ]
  },
  {
   "cell_type": "code",
   "execution_count": null,
   "id": "85396741-ba51-4537-b75a-bd4f3cea6811",
   "metadata": {},
   "outputs": [],
   "source": [
    "len(data_all)"
   ]
  },
  {
   "cell_type": "code",
   "execution_count": null,
   "id": "4853b5b5-4b47-4425-aa21-4cca9f5ac605",
   "metadata": {},
   "outputs": [],
   "source": [
    "file_list_mat.sort()\n",
    "file_list_mat"
   ]
  },
  {
   "cell_type": "code",
   "execution_count": null,
   "id": "b7248459-0390-496d-823b-97558348fb3b",
   "metadata": {},
   "outputs": [],
   "source": [
    "data_all.keys()"
   ]
  },
  {
   "cell_type": "code",
   "execution_count": null,
   "id": "3a95bd3b-7276-44ac-b9b4-03a666028104",
   "metadata": {},
   "outputs": [],
   "source": [
    "len(mat_contents['results'][0][0][index])"
   ]
  },
  {
   "cell_type": "code",
   "execution_count": null,
   "id": "8e63a578-76ba-4539-accd-3ceedda0bb70",
   "metadata": {},
   "outputs": [],
   "source": [
    "len(mat_contents['results'][0][0][index][0])"
   ]
  },
  {
   "cell_type": "code",
   "execution_count": null,
   "id": "24c202a6-69a5-490c-8d13-59f5bb5bb0b3",
   "metadata": {},
   "outputs": [],
   "source": [
    "round_counter = 0\n",
    "for key, item in data_all.items():\n",
    "    print('\\n')\n",
    "    print(item['results'][0][0].dtype.descr[0])\n",
    "    print(len(item['results'][0][0][0][0]))\n",
    "    print(item['results'][0][0].dtype.descr[1])\n",
    "    print(len(item['results'][0][0][1][0]))\n",
    "    print(item['results'][0][0][1][0])\n",
    "    print(len(item['results'][0][0][3][0]))\n",
    "    round_counter += 1\n",
    "    if round_counter > 7:\n",
    "        break"
   ]
  },
  {
   "cell_type": "code",
   "execution_count": null,
   "id": "54636fc7-70ca-43bd-9bb6-1ec54c6a0663",
   "metadata": {},
   "outputs": [],
   "source": []
  },
  {
   "cell_type": "code",
   "execution_count": null,
   "id": "9b88d73e-88ad-4123-9d00-49674e6556ea",
   "metadata": {},
   "outputs": [],
   "source": []
  }
 ],
 "metadata": {
  "kernelspec": {
   "display_name": "Python 3 (ipykernel)",
   "language": "python",
   "name": "python3"
  },
  "language_info": {
   "codemirror_mode": {
    "name": "ipython",
    "version": 3
   },
   "file_extension": ".py",
   "mimetype": "text/x-python",
   "name": "python",
   "nbconvert_exporter": "python",
   "pygments_lexer": "ipython3",
   "version": "3.12.3"
  }
 },
 "nbformat": 4,
 "nbformat_minor": 5
}
